{
 "cells": [
  {
   "metadata": {},
   "cell_type": "markdown",
   "source": "# Using Built-in Callbacks\n",
   "id": "44e1e40d78946a8c"
  },
  {
   "metadata": {},
   "cell_type": "markdown",
   "source": "## Libraries",
   "id": "ca4df898567ca3cc"
  },
  {
   "cell_type": "code",
   "id": "initial_id",
   "metadata": {
    "collapsed": true,
    "ExecuteTime": {
     "end_time": "2025-07-23T19:21:52.974529Z",
     "start_time": "2025-07-23T19:21:51.873505Z"
    }
   },
   "source": [
    "import os\n",
    "os.environ[\"KERAS_BACKEND\"] = \"jax\"\n",
    "\n",
    "import keras\n",
    "import numpy as np"
   ],
   "outputs": [],
   "execution_count": 1
  },
  {
   "metadata": {},
   "cell_type": "markdown",
   "source": "## Simple NN Model",
   "id": "ef82e0eb3d291b10"
  },
  {
   "metadata": {
    "ExecuteTime": {
     "end_time": "2025-07-23T19:25:28.539780Z",
     "start_time": "2025-07-23T19:25:28.505953Z"
    }
   },
   "cell_type": "code",
   "source": [
    "def create_model():\n",
    "    model = keras.Sequential([\n",
    "        keras.layers.Input(shape=(784,)),\n",
    "        keras.layers.Dense(64, activation=\"relu\"),\n",
    "        keras.layers.Dense(64, activation=\"relu\"),\n",
    "        keras.layers.Dense(10, activation=\"softmax\")\n",
    "    ])\n",
    "    model.compile(\n",
    "        optimizer=\"adam\",\n",
    "        loss=\"sparse_categorical_crossentropy\",\n",
    "        metrics=[\"accuracy\"]\n",
    "    )\n",
    "    return model\n",
    "\n",
    "model = create_model()"
   ],
   "id": "c7cac3e11e81e9fc",
   "outputs": [],
   "execution_count": 3
  },
  {
   "metadata": {},
   "cell_type": "markdown",
   "source": "## Dataset",
   "id": "f6f79775248d4a67"
  },
  {
   "metadata": {
    "ExecuteTime": {
     "end_time": "2025-07-23T19:27:22.119746Z",
     "start_time": "2025-07-23T19:27:21.874767Z"
    }
   },
   "cell_type": "code",
   "source": [
    "(x_train, y_train), (x_test, y_test) = keras.datasets.mnist.load_data()\n",
    "x_train = x_train.reshape(-1, 784).astype(\"float32\") / 255.0\n",
    "x_test = x_test.reshape(-1, 784).astype(\"float32\") / 255.0\n"
   ],
   "id": "ae24b04391c9fea9",
   "outputs": [],
   "execution_count": 4
  },
  {
   "metadata": {},
   "cell_type": "markdown",
   "source": "## Built-in Callbacks",
   "id": "44e44d4d46150e5b"
  },
  {
   "metadata": {
    "ExecuteTime": {
     "end_time": "2025-07-23T19:32:50.308507Z",
     "start_time": "2025-07-23T19:32:50.298390Z"
    }
   },
   "cell_type": "code",
   "source": [
    "callbacks = [\n",
    "    keras.callbacks.EarlyStopping(\n",
    "        monitor='val_loss',  # Monitor validation loss\n",
    "        patience=3,          # Stop if no improvement for 3 epochs\n",
    "        verbose=1,           # Log when stopping\n",
    "        restore_best_weights=True # Revert to weights from the best epoch\n",
    "    ),\n",
    "    keras.callbacks.ModelCheckpoint(\n",
    "        filepath=\"best_model_weights.keras\", # Path to save model weights\n",
    "        monitor=\"val_accuracy\", # Monitor validation accuracy\n",
    "        save_best_only=True, # Save only the best performing model\n",
    "        mode=\"max\", # max in order to maximize accuracy\n",
    "        verbose=1\n",
    "    ),\n",
    "    keras.callbacks.ReduceLROnPlateau(\n",
    "        monitor=\"val_loss\", # Monitor validation loss\n",
    "        factor=0.2, # Reduce learning rate by a factor of 0.2\n",
    "        patience=2, # If no improvement for 2 epochs\n",
    "        min_lr=0.0001, # Minimum learning rate\n",
    "        verbose=1\n",
    "    )\n",
    "]"
   ],
   "id": "1734a883f7b8773a",
   "outputs": [],
   "execution_count": 7
  },
  {
   "metadata": {},
   "cell_type": "markdown",
   "source": "## Training With Built-in Callbacks",
   "id": "1cf1c06011d797d"
  },
  {
   "metadata": {
    "ExecuteTime": {
     "end_time": "2025-07-23T19:32:56.849961Z",
     "start_time": "2025-07-23T19:32:52.136301Z"
    }
   },
   "cell_type": "code",
   "source": [
    "print(\"\\nStarting training with built-in callbacks...\")\n",
    "history = model.fit(\n",
    "    x_train,\n",
    "    y_train,\n",
    "    epochs=20,\n",
    "    batch_size=32,\n",
    "    validation_data=(x_test, y_test),\n",
    "    callbacks=callbacks,\n",
    "    verbose=0\n",
    ")\n",
    "print(\"Training finished\")"
   ],
   "id": "52e67ec02ebc52bf",
   "outputs": [
    {
     "name": "stdout",
     "output_type": "stream",
     "text": [
      "\n",
      "Starting training with built-in callbacks...\n",
      "\n",
      "Epoch 1: val_accuracy improved from -inf to 0.97890, saving model to best_model_weights.keras\n",
      "\n",
      "Epoch 2: val_accuracy improved from 0.97890 to 0.97950, saving model to best_model_weights.keras\n",
      "\n",
      "Epoch 3: val_accuracy did not improve from 0.97950\n",
      "\n",
      "Epoch 4: val_accuracy did not improve from 0.97950\n",
      "\n",
      "Epoch 5: val_accuracy did not improve from 0.97950\n",
      "Epoch 5: early stopping\n",
      "Restoring model weights from the end of the best epoch: 2.\n",
      "Training finished\n"
     ]
    }
   ],
   "execution_count": 8
  },
  {
   "metadata": {
    "ExecuteTime": {
     "end_time": "2025-07-23T19:39:03.928432Z",
     "start_time": "2025-07-23T19:39:03.762566Z"
    }
   },
   "cell_type": "code",
   "source": [
    "import matplotlib.pyplot as plt\n",
    "\n",
    "# Plotting the training history\n",
    "print(\"\\nGenerating training plots...\")\n",
    "plt.figure(figsize=(12, 5))\n",
    "\n",
    "# Plot training & validation accuracy values\n",
    "plt.subplot(1, 2, 1) # 1 row, 2 columns, 1st plot\n",
    "plt.plot(history.history['accuracy'])\n",
    "plt.plot(history.history['val_accuracy'])\n",
    "plt.title('Model Accuracy')\n",
    "plt.ylabel('Accuracy')\n",
    "plt.xlabel('Epoch')\n",
    "plt.legend(['Train', 'Validation'], loc='upper left')\n",
    "\n",
    "# Plot training & validation loss values\n",
    "plt.subplot(1, 2, 2) # 1 row, 2 columns, 2nd plot\n",
    "plt.plot(history.history['loss'])\n",
    "plt.plot(history.history['val_loss'])\n",
    "plt.title('Model Loss')\n",
    "plt.ylabel('Loss')\n",
    "plt.xlabel('Epoch')\n",
    "plt.legend(['Train', 'Validation'], loc='upper right')\n",
    "\n",
    "plt.tight_layout() # Adjust layout to prevent overlapping titles/labels\n",
    "plt.show()"
   ],
   "id": "7e9fcd4d913bfa48",
   "outputs": [
    {
     "name": "stdout",
     "output_type": "stream",
     "text": [
      "\n",
      "Generating training plots...\n"
     ]
    },
    {
     "data": {
      "text/plain": [
       "<Figure size 1200x500 with 2 Axes>"
      ],
      "image/png": "[encoded data removed]"
     },
     "metadata": {},
     "output_type": "display_data"
    }
   ],
   "execution_count": 12
  },
  {
   "metadata": {},
   "cell_type": "markdown",
   "source": "## Inference",
   "id": "8ed0b31636ee12c2"
  },
  {
   "metadata": {
    "ExecuteTime": {
     "end_time": "2025-07-23T19:43:45.960933Z",
     "start_time": "2025-07-23T19:43:45.147841Z"
    }
   },
   "cell_type": "code",
   "source": [
    "inference_model = create_model()\n",
    "best_weights_filepath = 'best_model_weights.keras'\n",
    "\n",
    "try:\n",
    "    print(f\"Loading best weights from: {best_weights_filepath}...\")\n",
    "    inference_model.load_weights(best_weights_filepath)\n",
    "    print(\"Weights loaded successfully!\")\n",
    "except Exception as e:\n",
    "    print(f\"Error loading weights: {e}\")\n",
    "    print(\"Please ensure 'best_model_weights.keras' exists and the model architecture matches.\")\n",
    "\n",
    "# Take the first 5 test samples for demonstration\n",
    "sample_images = x_test[:5]\n",
    "true_labels = y_test[:5]\n",
    "\n",
    "# Perform inference (make predictions)\n",
    "print(\"\\nPerforming inference on sample data...\")\n",
    "predictions = inference_model.predict(sample_images)\n",
    "\n",
    "# Interpret the predictions\n",
    "predicted_classes = np.argmax(predictions, axis=1)\n",
    "\n",
    "print(\"\\n--- Inference Results ---\")\n",
    "for i in range(len(sample_images)):\n",
    "    print(f\"Sample {i+1}:\")\n",
    "    print(f\"  True Label: {true_labels[i]}\")\n",
    "    print(f\"  Predicted Label: {predicted_classes[i]}\")\n",
    "    print(f\"  Prediction Probabilities: {predictions[i].round(2)}\") # Display probabilities\n",
    "    print(\"-\" * 25)\n",
    "\n",
    "# You can also evaluate the loaded model on the full test set\n",
    "print(\"\\nEvaluating the loaded model on the full test set...\")\n",
    "loss, accuracy = inference_model.evaluate(x_test, y_test, verbose=0)\n",
    "print(f\"Model Loss on Test Set: {loss:.4f}\")\n",
    "print(f\"Model Accuracy on Test Set: {accuracy:.4f}\")"
   ],
   "id": "c2b6833cde22b372",
   "outputs": [
    {
     "name": "stdout",
     "output_type": "stream",
     "text": [
      "Loading best weights from: best_model_weights.keras...\n",
      "Weights loaded successfully!\n",
      "\n",
      "Performing inference on sample data...\n",
      "\u001B[1m1/1\u001B[0m \u001B[32m━━━━━━━━━━━━━━━━━━━━\u001B[0m\u001B[37m\u001B[0m \u001B[1m0s\u001B[0m 39ms/step\n",
      "\n",
      "--- Inference Results ---\n",
      "Sample 1:\n",
      "  True Label: 7\n",
      "  Predicted Label: 7\n",
      "  Prediction Probabilities: [0. 0. 0. 0. 0. 0. 0. 1. 0. 0.]\n",
      "-------------------------\n",
      "Sample 2:\n",
      "  True Label: 2\n",
      "  Predicted Label: 2\n",
      "  Prediction Probabilities: [0. 0. 1. 0. 0. 0. 0. 0. 0. 0.]\n",
      "-------------------------\n",
      "Sample 3:\n",
      "  True Label: 1\n",
      "  Predicted Label: 1\n",
      "  Prediction Probabilities: [0. 1. 0. 0. 0. 0. 0. 0. 0. 0.]\n",
      "-------------------------\n",
      "Sample 4:\n",
      "  True Label: 0\n",
      "  Predicted Label: 0\n",
      "  Prediction Probabilities: [1. 0. 0. 0. 0. 0. 0. 0. 0. 0.]\n",
      "-------------------------\n",
      "Sample 5:\n",
      "  True Label: 4\n",
      "  Predicted Label: 4\n",
      "  Prediction Probabilities: [0. 0. 0. 0. 1. 0. 0. 0. 0. 0.]\n",
      "-------------------------\n",
      "\n",
      "Evaluating the loaded model on the full test set...\n",
      "Model Loss on Test Set: 0.0769\n",
      "Model Accuracy on Test Set: 0.9795\n"
     ]
    }
   ],
   "execution_count": 18
  },
  {
   "metadata": {},
   "cell_type": "markdown",
   "source": "# Custom Callbacks",
   "id": "a55aab2b36260ecb"
  },
  {
   "metadata": {},
   "cell_type": "markdown",
   "source": "## Logs",
   "id": "695725f7760c7033"
  },
  {
   "metadata": {
    "ExecuteTime": {
     "end_time": "2025-07-23T20:02:16.433152Z",
     "start_time": "2025-07-23T20:02:16.417085Z"
    }
   },
   "cell_type": "code",
   "source": [
    "import json\n",
    "\n",
    "class ExternalMetricLogger(keras.callbacks.Callback):\n",
    "    def __init__(self, log_file=\"external_metrics_log.json\"):\n",
    "        super().__init__()\n",
    "        self.log_file = log_file\n",
    "        self.all_logs = [] # To store all epoch logs\n",
    "\n",
    "    def on_epoch_end(self, epoch, logs=None):\n",
    "        logs = logs or {}\n",
    "        # Prepare data to be sent, including epoch number\n",
    "        log_data = {\n",
    "            \"epoch\": epoch + 1,\n",
    "            \"metrics\": {k: float(v) for k, v in logs.items()} # Convert to float for JSON compatibility\n",
    "        }\n",
    "        self.all_logs.append(log_data)\n",
    "\n",
    "        # In a real scenario, you'd send this 'log_data' to an external API\n",
    "        # or database. For this example, we'll just print it.\n",
    "        print(f\"\\n--- Sent to External System (Epoch {epoch + 1}): {json.dumps(log_data)} ---\")\n",
    "\n",
    "    def on_train_end(self, logs=None):\n",
    "        # Optionally, save all logs to a file at the end of training\n",
    "        with open(self.log_file, 'w') as f:\n",
    "            json.dump(self.all_logs, f, indent=4)\n",
    "        print(f\"\\nAll training logs saved to {self.log_file}\")"
   ],
   "id": "7754fbff93b52ccd",
   "outputs": [],
   "execution_count": 24
  },
  {
   "metadata": {
    "ExecuteTime": {
     "end_time": "2025-07-23T20:02:25.063833Z",
     "start_time": "2025-07-23T20:02:18.137562Z"
    }
   },
   "cell_type": "code",
   "source": [
    "model = create_model()\n",
    "external_logger_callback = ExternalMetricLogger()\n",
    "\n",
    "print(\"\\nStarting training with External Metric Logger Callback...\")\n",
    "history = model.fit(\n",
    "    x_train, y_train,\n",
    "    epochs=5,\n",
    "    batch_size=32,\n",
    "    validation_data=(x_test, y_test),\n",
    "    callbacks=[external_logger_callback],\n",
    "    verbose=0\n",
    ")\n",
    "print(\"Training finished.\")"
   ],
   "id": "e2c5b90846f26049",
   "outputs": [
    {
     "name": "stdout",
     "output_type": "stream",
     "text": [
      "\n",
      "Starting training with External Metric Logger Callback...\n",
      "\n",
      "--- Sent to External System (Epoch 1): {\"epoch\": 1, \"metrics\": {\"accuracy\": 0.9184166789054871, \"loss\": 0.2821539342403412, \"val_accuracy\": 0.9545999765396118, \"val_loss\": 0.1521143913269043}} ---\n",
      "\n",
      "--- Sent to External System (Epoch 2): {\"epoch\": 2, \"metrics\": {\"accuracy\": 0.9629666805267334, \"loss\": 0.12445816397666931, \"val_accuracy\": 0.9663000106811523, \"val_loss\": 0.1091393530368805}} ---\n",
      "\n",
      "--- Sent to External System (Epoch 3): {\"epoch\": 3, \"metrics\": {\"accuracy\": 0.9720500111579895, \"loss\": 0.09056292474269867, \"val_accuracy\": 0.9692000150680542, \"val_loss\": 0.09991935640573502}} ---\n",
      "\n",
      "--- Sent to External System (Epoch 4): {\"epoch\": 4, \"metrics\": {\"accuracy\": 0.9779999852180481, \"loss\": 0.07102259993553162, \"val_accuracy\": 0.972000002861023, \"val_loss\": 0.09328478574752808}} ---\n",
      "\n",
      "--- Sent to External System (Epoch 5): {\"epoch\": 5, \"metrics\": {\"accuracy\": 0.9812166690826416, \"loss\": 0.0582815445959568, \"val_accuracy\": 0.9736999869346619, \"val_loss\": 0.08708550781011581}} ---\n",
      "\n",
      "All training logs saved to external_metrics_log.json\n",
      "Training finished.\n"
     ]
    }
   ],
   "execution_count": 25
  },
  {
   "metadata": {},
   "cell_type": "markdown",
   "source": "## Metrics",
   "id": "201932f66c078d6f"
  },
  {
   "metadata": {
    "ExecuteTime": {
     "end_time": "2025-07-23T19:56:19.961464Z",
     "start_time": "2025-07-23T19:56:19.888693Z"
    }
   },
   "cell_type": "code",
   "source": [
    "def custom_f1_score(y_true, y_pred):\n",
    "    y_true = keras.ops.cast(y_true, 'float32') # Ensure consistent dtype\n",
    "    y_pred = keras.ops.cast(y_pred, 'float32')\n",
    "\n",
    "    # For binary classification, you might threshold predictions\n",
    "    # For multi-class, argmax on y_pred, then compare with y_true\n",
    "    # Let's simplify for demonstration: treating as binary for simplicity\n",
    "    y_pred_binary = keras.ops.round(y_pred) # Round to 0 or 1\n",
    "\n",
    "    true_positives = keras.ops.sum(y_true * y_pred_binary)\n",
    "    predicted_positives = keras.ops.sum(y_pred_binary)\n",
    "    possible_positives = keras.ops.sum(y_true)\n",
    "\n",
    "    precision = true_positives / (predicted_positives + keras.backend.epsilon())\n",
    "    recall = true_positives / (possible_positives + keras.backend.epsilon())\n",
    "\n",
    "    f1_score = 2 * (precision * recall) / (precision + recall + keras.backend.epsilon())\n",
    "    return f1_score"
   ],
   "id": "2c38a1f2359f11a5",
   "outputs": [],
   "execution_count": 19
  },
  {
   "metadata": {
    "ExecuteTime": {
     "end_time": "2025-07-23T19:57:35.366211Z",
     "start_time": "2025-07-23T19:57:27.590234Z"
    }
   },
   "cell_type": "code",
   "source": [
    "def create_model_with_custom_metric():\n",
    "    model = keras.Sequential([\n",
    "        keras.layers.Input(shape=(784,)),\n",
    "        keras.layers.Dense(64, activation='relu'),\n",
    "        keras.layers.Dense(64, activation='relu'),\n",
    "        keras.layers.Dense(1, activation='sigmoid') # Use sigmoid for binary classification example\n",
    "    ])\n",
    "    model.compile(optimizer='adam',\n",
    "                  loss='binary_crossentropy', # Use binary_crossentropy for sigmoid output\n",
    "                  metrics=['accuracy', custom_f1_score]) # Add our custom F1 score\n",
    "    return model\n",
    "\n",
    "(x_train, y_train), (x_test, y_test) = keras.datasets.mnist.load_data()\n",
    "# Let's simplify data for binary classification (e.g., predict if digit is '0')\n",
    "x_train = x_train.reshape(-1, 784).astype(\"float32\") / 255.0\n",
    "y_train_binary = (y_train == 0).astype(\"float32\") # 1 if digit is 0, else 0\n",
    "x_test = x_test.reshape(-1, 784).astype(\"float32\") / 255.0\n",
    "y_test_binary = (y_test == 0).astype(\"float32\")\n",
    "\n",
    "model = create_model_with_custom_metric()\n",
    "\n",
    "print(\"\\nStarting training with custom F1-score metric...\")\n",
    "history = model.fit(\n",
    "    x_train, y_train_binary,\n",
    "    epochs=5,\n",
    "    batch_size=32,\n",
    "    validation_data=(x_test, y_test_binary),\n",
    "    verbose=1\n",
    ")\n",
    "print(\"Training finished.\")\n",
    "\n",
    "print(\"\\nHistory with custom metric:\")\n",
    "print(history.history.keys())"
   ],
   "id": "b28f57f47588c2f5",
   "outputs": [
    {
     "name": "stdout",
     "output_type": "stream",
     "text": [
      "\n",
      "Starting training with custom F1-score metric...\n",
      "Epoch 1/5\n",
      "\u001B[1m1875/1875\u001B[0m \u001B[32m━━━━━━━━━━━━━━━━━━━━\u001B[0m\u001B[37m\u001B[0m \u001B[1m2s\u001B[0m 885us/step - accuracy: 0.9856 - custom_f1_score: 2.9997 - loss: 0.0523 - val_accuracy: 0.9955 - val_custom_f1_score: 3.0853 - val_loss: 0.0158\n",
      "Epoch 2/5\n",
      "\u001B[1m1875/1875\u001B[0m \u001B[32m━━━━━━━━━━━━━━━━━━━━\u001B[0m\u001B[37m\u001B[0m \u001B[1m1s\u001B[0m 676us/step - accuracy: 0.9969 - custom_f1_score: 3.1889 - loss: 0.0105 - val_accuracy: 0.9976 - val_custom_f1_score: 3.1116 - val_loss: 0.0091\n",
      "Epoch 3/5\n",
      "\u001B[1m1875/1875\u001B[0m \u001B[32m━━━━━━━━━━━━━━━━━━━━\u001B[0m\u001B[37m\u001B[0m \u001B[1m1s\u001B[0m 685us/step - accuracy: 0.9985 - custom_f1_score: 3.0995 - loss: 0.0052 - val_accuracy: 0.9914 - val_custom_f1_score: 3.2219 - val_loss: 0.0241\n",
      "Epoch 4/5\n",
      "\u001B[1m1875/1875\u001B[0m \u001B[32m━━━━━━━━━━━━━━━━━━━━\u001B[0m\u001B[37m\u001B[0m \u001B[1m1s\u001B[0m 608us/step - accuracy: 0.9979 - custom_f1_score: 3.1547 - loss: 0.0055 - val_accuracy: 0.9970 - val_custom_f1_score: 3.1082 - val_loss: 0.0125\n",
      "Epoch 5/5\n",
      "\u001B[1m1875/1875\u001B[0m \u001B[32m━━━━━━━━━━━━━━━━━━━━\u001B[0m\u001B[37m\u001B[0m \u001B[1m1s\u001B[0m 728us/step - accuracy: 0.9987 - custom_f1_score: 3.1297 - loss: 0.0038 - val_accuracy: 0.9976 - val_custom_f1_score: 3.1233 - val_loss: 0.0112\n",
      "Training finished.\n",
      "\n",
      "History with custom metric:\n",
      "dict_keys(['accuracy', 'custom_f1_score', 'loss', 'val_accuracy', 'val_custom_f1_score', 'val_loss'])\n"
     ]
    }
   ],
   "execution_count": 21
  }
 ],
 "metadata": {
  "kernelspec": {
   "display_name": "keras3_kernel",
   "language": "python",
   "name": "keras3_kernel"
  },
  "language_info": {
   "codemirror_mode": {
    "name": "ipython",
    "version": 2
   },
   "file_extension": ".py",
   "mimetype": "text/x-python",
   "name": "python",
   "nbconvert_exporter": "python",
   "pygments_lexer": "ipython2",
   "version": "2.7.6"
  }
 },
 "nbformat": 4,
 "nbformat_minor": 5
}
