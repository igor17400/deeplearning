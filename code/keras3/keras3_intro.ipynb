{
 "cells": [
  {
   "metadata": {},
   "cell_type": "markdown",
   "source": "# Libraries",
   "id": "8367edeb31f87d50"
  },
  {
   "cell_type": "code",
   "id": "initial_id",
   "metadata": {
    "collapsed": true,
    "ExecuteTime": {
     "end_time": "2025-07-23T13:56:58.716717Z",
     "start_time": "2025-07-23T13:56:58.705105Z"
    }
   },
   "source": [
    "import os\n",
    "os.environ[\"KERAS_BACKEND\"] = \"jax\"\n",
    "\n",
    "import keras\n",
    "import numpy as np\n",
    "\n",
    "print(keras.__version__)\n",
    "print(keras.config.backend())"
   ],
   "outputs": [
    {
     "name": "stdout",
     "output_type": "stream",
     "text": [
      "3.10.0\n",
      "jax\n"
     ]
    }
   ],
   "execution_count": 2
  },
  {
   "metadata": {},
   "cell_type": "markdown",
   "source": "# Loading the dataset",
   "id": "3c2a2f2116665f13"
  },
  {
   "metadata": {
    "ExecuteTime": {
     "end_time": "2025-07-23T14:27:27.102699Z",
     "start_time": "2025-07-23T14:27:26.986707Z"
    }
   },
   "cell_type": "code",
   "source": [
    "(x_train, y_train), (x_test, y_test) = keras.datasets.mnist.load_data()\n",
    "\n",
    "print(\"--- MNIST Dataset Shapes ---\")\n",
    "print(f\"Training Images (x_train): {x_train.shape} -> {x_train.shape[0]} images, each {x_train.shape[1]}x{x_train.shape[2]} pixels\")\n",
    "print(f\"Training Labels (y_train): {y_train.shape} -> {y_train.shape[0]} labels\")\n",
    "print(f\"Test Images (x_test):      {x_test.shape} -> {x_test.shape[0]} images, each {x_test.shape[1]}x{x_test.shape[2]} pixels\")\n",
    "print(f\"Test Labels (y_test):      {y_test.shape} -> {y_test.shape[0]} labels\")\n",
    "print(\"--------------------------\")"
   ],
   "id": "70b3cc423a973d3e",
   "outputs": [
    {
     "name": "stdout",
     "output_type": "stream",
     "text": [
      "--- MNIST Dataset Shapes ---\n",
      "Training Images (x_train): (60000, 28, 28) -> 60000 images, each 28x28 pixels\n",
      "Training Labels (y_train): (60000,) -> 60000 labels\n",
      "Test Images (x_test):      (10000, 28, 28) -> 10000 images, each 28x28 pixels\n",
      "Test Labels (y_test):      (10000,) -> 10000 labels\n",
      "--------------------------\n"
     ]
    }
   ],
   "execution_count": 8
  },
  {
   "metadata": {
    "ExecuteTime": {
     "end_time": "2025-07-23T14:27:35.466782Z",
     "start_time": "2025-07-23T14:27:35.424609Z"
    }
   },
   "cell_type": "code",
   "source": "y_train[:2]",
   "id": "1d6ee89d2a08f71c",
   "outputs": [
    {
     "data": {
      "text/plain": [
       "array([5, 0], dtype=uint8)"
      ]
     },
     "execution_count": 9,
     "metadata": {},
     "output_type": "execute_result"
    }
   ],
   "execution_count": 9
  },
  {
   "metadata": {},
   "cell_type": "markdown",
   "source": "# Preprocess data",
   "id": "c301a6906f52a1c5"
  },
  {
   "metadata": {
    "ExecuteTime": {
     "end_time": "2025-07-23T14:27:44.416260Z",
     "start_time": "2025-07-23T14:27:44.262763Z"
    }
   },
   "cell_type": "code",
   "source": [
    "# Normalize pixel values to 0-1 range\n",
    "x_train = x_train.reshape(-1, 28 * 28).astype(\"float32\") / 255.0\n",
    "x_test = x_test.reshape(-1, 28 * 28).astype(\"float32\") / 255.0"
   ],
   "id": "be581dfbf8354651",
   "outputs": [],
   "execution_count": 10
  },
  {
   "metadata": {},
   "cell_type": "markdown",
   "source": "# One-Hot Enconding",
   "id": "a6ca837ab6ceee4a"
  },
  {
   "metadata": {
    "ExecuteTime": {
     "end_time": "2025-07-23T14:27:45.406765Z",
     "start_time": "2025-07-23T14:27:45.395158Z"
    }
   },
   "cell_type": "code",
   "source": [
    "# Convert labels to one-hot encoding\n",
    "num_classes = 10\n",
    "y_train = keras.utils.to_categorical(y_train, num_classes)\n",
    "y_test = keras.utils.to_categorical(y_test, num_classes)"
   ],
   "id": "900cf0731813e4da",
   "outputs": [],
   "execution_count": 11
  },
  {
   "metadata": {
    "ExecuteTime": {
     "end_time": "2025-07-23T14:27:50.153194Z",
     "start_time": "2025-07-23T14:27:50.144579Z"
    }
   },
   "cell_type": "code",
   "source": "y_train[:2]",
   "id": "87f8e80547a2ef55",
   "outputs": [
    {
     "data": {
      "text/plain": [
       "array([[0., 0., 0., 0., 0., 1., 0., 0., 0., 0.],\n",
       "       [1., 0., 0., 0., 0., 0., 0., 0., 0., 0.]])"
      ]
     },
     "execution_count": 12,
     "metadata": {},
     "output_type": "execute_result"
    }
   ],
   "execution_count": 12
  },
  {
   "metadata": {
    "ExecuteTime": {
     "end_time": "2025-07-23T14:28:51.466381Z",
     "start_time": "2025-07-23T14:28:51.454925Z"
    }
   },
   "cell_type": "code",
   "source": "y_train.shape",
   "id": "d60d0884620767e0",
   "outputs": [
    {
     "data": {
      "text/plain": [
       "(60000, 10)"
      ]
     },
     "execution_count": 13,
     "metadata": {},
     "output_type": "execute_result"
    }
   ],
   "execution_count": 13
  },
  {
   "metadata": {},
   "cell_type": "markdown",
   "source": "# Defining the Neural Network Architecture",
   "id": "2744e0173e559d97"
  },
  {
   "metadata": {
    "ExecuteTime": {
     "end_time": "2025-07-23T14:36:49.659663Z",
     "start_time": "2025-07-23T14:36:49.654450Z"
    }
   },
   "cell_type": "code",
   "source": [
    "def create_mnist_model():\n",
    "    model = keras.Sequential([\n",
    "        keras.layers.Input(shape=(784,)),\n",
    "        keras.layers.Dense(128, activation=\"relu\"),\n",
    "        keras.layers.Dropout(0.2),\n",
    "        keras.layers.Dense(num_classes, activation=\"softmax\")\n",
    "    ])\n",
    "    return model"
   ],
   "id": "9a016a0fb4d16511",
   "outputs": [],
   "execution_count": 16
  },
  {
   "metadata": {},
   "cell_type": "markdown",
   "source": "# Instantiating and Compiling the Model",
   "id": "fd2df0c7e4d6c35d"
  },
  {
   "metadata": {
    "ExecuteTime": {
     "end_time": "2025-07-23T15:00:04.482077Z",
     "start_time": "2025-07-23T15:00:04.462914Z"
    }
   },
   "cell_type": "code",
   "source": [
    "# Instantiate and compile the model\n",
    "model = create_mnist_model()\n",
    "model.compile(\n",
    "    optimizer=keras.optimizers.Adam(learning_rate=0.001),\n",
    "    loss=keras.losses.CategoricalCrossentropy(),\n",
    "    metrics=[keras.metrics.CategoricalAccuracy()]\n",
    ")"
   ],
   "id": "d7b555e171d8747d",
   "outputs": [],
   "execution_count": 42
  },
  {
   "metadata": {},
   "cell_type": "markdown",
   "source": "# Training the Model",
   "id": "a48ead420a446830"
  },
  {
   "metadata": {
    "ExecuteTime": {
     "end_time": "2025-07-23T15:00:10.845062Z",
     "start_time": "2025-07-23T15:00:05.907358Z"
    }
   },
   "cell_type": "code",
   "source": [
    "history = model.fit(\n",
    "    x_train,\n",
    "    y_train,\n",
    "    batch_size=128,\n",
    "    epochs=5,\n",
    "    validation_split=0.1\n",
    ")"
   ],
   "id": "1b5623b568120e02",
   "outputs": [
    {
     "name": "stdout",
     "output_type": "stream",
     "text": [
      "Epoch 1/5\n",
      "\u001B[1m422/422\u001B[0m \u001B[32m━━━━━━━━━━━━━━━━━━━━\u001B[0m\u001B[37m\u001B[0m \u001B[1m2s\u001B[0m 5ms/step - categorical_accuracy: 0.7874 - loss: 0.7408 - val_categorical_accuracy: 0.9508 - val_loss: 0.1748\n",
      "Epoch 2/5\n",
      "\u001B[1m422/422\u001B[0m \u001B[32m━━━━━━━━━━━━━━━━━━━━\u001B[0m\u001B[37m\u001B[0m \u001B[1m1s\u001B[0m 1ms/step - categorical_accuracy: 0.9346 - loss: 0.2250 - val_categorical_accuracy: 0.9658 - val_loss: 0.1261\n",
      "Epoch 3/5\n",
      "\u001B[1m422/422\u001B[0m \u001B[32m━━━━━━━━━━━━━━━━━━━━\u001B[0m\u001B[37m\u001B[0m \u001B[1m1s\u001B[0m 1ms/step - categorical_accuracy: 0.9521 - loss: 0.1642 - val_categorical_accuracy: 0.9720 - val_loss: 0.1031\n",
      "Epoch 4/5\n",
      "\u001B[1m422/422\u001B[0m \u001B[32m━━━━━━━━━━━━━━━━━━━━\u001B[0m\u001B[37m\u001B[0m \u001B[1m1s\u001B[0m 2ms/step - categorical_accuracy: 0.9615 - loss: 0.1290 - val_categorical_accuracy: 0.9730 - val_loss: 0.0929\n",
      "Epoch 5/5\n",
      "\u001B[1m422/422\u001B[0m \u001B[32m━━━━━━━━━━━━━━━━━━━━\u001B[0m\u001B[37m\u001B[0m \u001B[1m1s\u001B[0m 1ms/step - categorical_accuracy: 0.9673 - loss: 0.1088 - val_categorical_accuracy: 0.9752 - val_loss: 0.0838\n"
     ]
    }
   ],
   "execution_count": 43
  },
  {
   "metadata": {},
   "cell_type": "markdown",
   "source": "# Evaluate the Model's Performance",
   "id": "a24cdf8901252c9"
  },
  {
   "metadata": {
    "ExecuteTime": {
     "end_time": "2025-07-23T14:53:38.475425Z",
     "start_time": "2025-07-23T14:53:37.478672Z"
    }
   },
   "cell_type": "code",
   "source": [
    "# Evaluate the model\n",
    "print(\"\\nEvaluating the model...\")\n",
    "loss, accuracy = model.evaluate(x_test, y_test)\n",
    "print(f\"Test Loss: {loss:.4f}\")\n",
    "print(f\"Test Accuracy: {accuracy:.4f}\")"
   ],
   "id": "d880a57f58983d60",
   "outputs": [
    {
     "name": "stdout",
     "output_type": "stream",
     "text": [
      "\n",
      "Evaluating the model...\n",
      "\u001B[1m313/313\u001B[0m \u001B[32m━━━━━━━━━━━━━━━━━━━━\u001B[0m\u001B[37m\u001B[0m \u001B[1m1s\u001B[0m 2ms/step - categorical_accuracy: 0.9675 - loss: 0.1062\n",
      "Test Loss: 0.0938\n",
      "Test Accuracy: 0.9716\n"
     ]
    }
   ],
   "execution_count": 27
  },
  {
   "metadata": {},
   "cell_type": "markdown",
   "source": "# Inference with the Trained Model",
   "id": "ed7244f6f1608122"
  },
  {
   "metadata": {
    "ExecuteTime": {
     "end_time": "2025-07-23T15:05:29.955416Z",
     "start_time": "2025-07-23T15:05:29.845041Z"
    }
   },
   "cell_type": "code",
   "source": [
    "num_sample = 15\n",
    "sample_input = x_test[num_sample]\n",
    "print(f\"Original single sample shape: {sample_input.shape}\") # (784,)\n",
    "\n",
    "# Add a batch dimension at axis 0\n",
    "sample_input_batch = np.expand_dims(sample_input, axis=0)\n",
    "print(f\"Shape after adding batch dimension: {sample_input_batch.shape}\\n\") # (1, 784)\n",
    "\n",
    "print(\"Prediction...\")\n",
    "prediction = model.predict(sample_input_batch) # Pass the batch-ready input\n",
    "print(f\"\\nRaw prediction output:\\n{prediction}\") # This will be (1, 10)\n",
    "\n",
    "print(f\"\\nPrediction for a sample input: {np.argmax(prediction[0])}\")\n",
    "print(f\"True Label for sample input: {np.where(y_test[num_sample] == 1.0)[0][0]} \")"
   ],
   "id": "89d6c0b401753aee",
   "outputs": [
    {
     "name": "stdout",
     "output_type": "stream",
     "text": [
      "Original single sample shape: (784,)\n",
      "Shape after adding batch dimension: (1, 784)\n",
      "\n",
      "Prediction...\n",
      "\u001B[1m1/1\u001B[0m \u001B[32m━━━━━━━━━━━━━━━━━━━━\u001B[0m\u001B[37m\u001B[0m \u001B[1m0s\u001B[0m 26ms/step\n",
      "\n",
      "Raw prediction output:\n",
      "[[7.7806098e-06 1.8786210e-04 6.5804066e-05 2.6002495e-02 6.9100747e-06\n",
      "  9.7333771e-01 6.3755738e-06 9.0677504e-06 2.2939921e-04 1.4657571e-04]]\n",
      "\n",
      "Prediction for a sample input: 5\n",
      "True Label for sample input: 5 \n"
     ]
    }
   ],
   "execution_count": 46
  }
 ],
 "metadata": {
  "kernelspec": {
   "display_name": "keras3_kernel",
   "language": "python",
   "name": "keras3_kernel"
  },
  "language_info": {
   "codemirror_mode": {
    "name": "ipython",
    "version": 2
   },
   "file_extension": ".py",
   "mimetype": "text/x-python",
   "name": "python",
   "nbconvert_exporter": "python",
   "pygments_lexer": "ipython2",
   "version": "2.7.6"
  }
 },
 "nbformat": 4,
 "nbformat_minor": 5
}
