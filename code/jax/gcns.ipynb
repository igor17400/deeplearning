{
 "cells": [
  {
   "metadata": {},
   "cell_type": "markdown",
   "source": "# Graphs Convolutional Networks (GCNs)",
   "id": "8f722a97611ec054"
  },
  {
   "cell_type": "code",
   "id": "initial_id",
   "metadata": {
    "collapsed": true,
    "ExecuteTime": {
     "end_time": "2025-07-19T16:03:45.546707Z",
     "start_time": "2025-07-19T16:03:37.780490Z"
    }
   },
   "source": [
    "from flax import nnx\n",
    "import jax.numpy as jnp\n",
    "import numpy as np\n",
    "import scipy.sparse as sp  # Useful for handling sparse adjacency matrices\n",
    "from typing import Sequence\n",
    "import optax\n",
    "import matplotlib.pyplot as plt\n",
    "import torch_geometric"
   ],
   "outputs": [
    {
     "name": "stderr",
     "output_type": "stream",
     "text": [
      "/Users/igorlimarochaazevedo/miniforge3/lib/python3.10/site-packages/tqdm/auto.py:21: TqdmWarning: IProgress not found. Please update jupyter and ipywidgets. See https://ipywidgets.readthedocs.io/en/stable/user_install.html\n",
      "  from .autonotebook import tqdm as notebook_tqdm\n"
     ]
    }
   ],
   "execution_count": 1
  },
  {
   "metadata": {},
   "cell_type": "markdown",
   "source": "# Data (Preprocessing)",
   "id": "e4bb1b55580b53e9"
  },
  {
   "metadata": {
    "ExecuteTime": {
     "end_time": "2025-07-19T16:04:07.871121Z",
     "start_time": "2025-07-19T16:04:07.852041Z"
    }
   },
   "cell_type": "code",
   "source": [
    "def print_file_head(filename, num_lines=5):\n",
    "    print(f\"\\n--- Head of {filename} {num_lines} lines ---\")\n",
    "    try:\n",
    "        with open(filename, 'r') as f:\n",
    "            for i, line in enumerate(f):\n",
    "                if i >= num_lines:\n",
    "                    break\n",
    "                print(line.strip())\n",
    "    except FileNotFoundError:\n",
    "        print(f\"Error: {filename} not found\")\n",
    "\n",
    "\n",
    "print_file_head(\"./dataset/cora/cora.cites\", 5)\n",
    "print_file_head(\"./dataset/cora/cora.content\", 1)"
   ],
   "id": "a88b57de42583b0d",
   "outputs": [
    {
     "name": "stdout",
     "output_type": "stream",
     "text": [
      "\n",
      "--- Head of ./dataset/cora/cora.cites 5 lines ---\n",
      "35\t1033\n",
      "35\t103482\n",
      "35\t103515\n",
      "35\t1050679\n",
      "35\t1103960\n",
      "\n",
      "--- Head of ./dataset/cora/cora.content 1 lines ---\n",
      "31336\t0\t0\t0\t0\t0\t0\t0\t0\t0\t0\t0\t0\t0\t0\t0\t0\t0\t0\t0\t0\t0\t0\t0\t0\t0\t0\t0\t0\t0\t0\t0\t0\t0\t0\t0\t0\t0\t0\t0\t0\t0\t0\t0\t0\t0\t0\t0\t0\t0\t0\t0\t0\t0\t0\t0\t0\t0\t0\t0\t0\t0\t0\t0\t0\t0\t0\t0\t0\t0\t0\t0\t0\t0\t0\t0\t0\t0\t0\t0\t0\t0\t0\t0\t0\t0\t0\t0\t0\t0\t0\t0\t0\t0\t0\t0\t0\t0\t0\t0\t0\t0\t0\t0\t0\t0\t0\t0\t0\t0\t0\t0\t0\t0\t0\t0\t0\t0\t0\t1\t0\t0\t0\t0\t0\t0\t1\t0\t0\t0\t0\t0\t0\t0\t0\t0\t0\t0\t0\t0\t0\t0\t0\t0\t0\t0\t0\t0\t0\t0\t0\t0\t0\t0\t0\t0\t0\t0\t0\t0\t0\t0\t0\t0\t0\t0\t0\t0\t0\t0\t0\t0\t0\t0\t0\t0\t0\t1\t0\t0\t0\t0\t0\t0\t0\t0\t0\t0\t0\t0\t0\t0\t0\t0\t0\t0\t0\t0\t0\t0\t0\t0\t0\t0\t0\t0\t0\t0\t0\t0\t0\t0\t0\t0\t0\t0\t0\t0\t0\t0\t0\t0\t0\t0\t0\t0\t0\t0\t0\t0\t0\t0\t0\t0\t0\t0\t0\t0\t0\t0\t0\t0\t0\t0\t0\t0\t0\t0\t0\t0\t0\t0\t0\t1\t0\t0\t0\t0\t0\t0\t0\t0\t0\t0\t0\t0\t0\t0\t0\t0\t0\t0\t0\t0\t0\t0\t0\t0\t0\t0\t0\t0\t0\t0\t0\t0\t0\t0\t0\t0\t0\t0\t0\t0\t0\t0\t0\t0\t0\t0\t0\t0\t0\t0\t0\t0\t0\t0\t0\t0\t0\t0\t0\t0\t0\t0\t0\t0\t0\t0\t0\t0\t0\t0\t0\t0\t0\t0\t0\t0\t0\t0\t0\t0\t0\t0\t0\t0\t0\t0\t0\t0\t0\t0\t0\t0\t0\t0\t0\t0\t0\t0\t1\t0\t0\t0\t0\t0\t0\t0\t0\t0\t0\t0\t0\t0\t0\t0\t0\t0\t0\t0\t0\t0\t0\t0\t0\t0\t0\t0\t0\t0\t0\t0\t0\t0\t0\t0\t0\t0\t0\t0\t0\t0\t0\t0\t0\t0\t0\t0\t0\t0\t0\t0\t0\t0\t0\t0\t0\t0\t0\t0\t0\t0\t0\t0\t0\t0\t0\t0\t0\t0\t0\t0\t0\t0\t0\t0\t0\t0\t0\t0\t0\t0\t0\t0\t0\t0\t0\t0\t0\t0\t0\t0\t0\t0\t0\t0\t0\t0\t0\t0\t0\t0\t0\t0\t0\t1\t0\t0\t0\t0\t0\t0\t0\t0\t0\t0\t0\t0\t0\t0\t0\t0\t0\t0\t0\t0\t0\t0\t0\t0\t0\t0\t0\t0\t0\t0\t0\t0\t0\t0\t0\t0\t0\t0\t0\t0\t0\t0\t0\t0\t0\t0\t0\t0\t0\t0\t1\t0\t0\t0\t0\t0\t0\t0\t0\t0\t0\t0\t0\t0\t1\t0\t0\t0\t0\t0\t0\t0\t0\t0\t0\t0\t0\t0\t0\t0\t0\t0\t0\t0\t0\t0\t0\t0\t0\t0\t0\t0\t0\t0\t0\t0\t0\t0\t0\t0\t0\t0\t0\t0\t0\t0\t0\t0\t0\t0\t0\t0\t0\t0\t0\t0\t0\t0\t0\t0\t0\t0\t0\t0\t0\t0\t0\t0\t0\t0\t0\t0\t0\t0\t0\t0\t0\t0\t0\t0\t0\t0\t0\t0\t0\t0\t0\t0\t0\t0\t0\t0\t0\t0\t0\t0\t0\t0\t0\t0\t0\t0\t1\t0\t0\t0\t0\t0\t0\t0\t0\t0\t0\t0\t0\t0\t0\t0\t0\t0\t0\t0\t0\t0\t0\t0\t0\t0\t0\t0\t0\t1\t0\t0\t0\t0\t0\t0\t0\t0\t0\t0\t0\t0\t0\t0\t0\t0\t0\t0\t0\t0\t0\t0\t0\t0\t0\t0\t0\t0\t0\t0\t0\t0\t0\t0\t0\t0\t0\t0\t0\t0\t0\t0\t0\t0\t0\t0\t0\t0\t0\t1\t0\t0\t0\t1\t0\t0\t0\t0\t0\t0\t0\t0\t0\t0\t0\t0\t0\t0\t0\t0\t0\t0\t0\t0\t0\t0\t0\t0\t0\t0\t0\t0\t0\t0\t0\t1\t0\t0\t0\t0\t0\t0\t0\t0\t0\t0\t0\t0\t0\t0\t0\t0\t0\t0\t0\t0\t0\t0\t0\t0\t0\t0\t0\t0\t0\t0\t0\t0\t0\t0\t0\t0\t0\t0\t0\t0\t0\t0\t0\t0\t0\t0\t0\t0\t0\t0\t0\t0\t0\t0\t0\t0\t0\t0\t0\t0\t0\t0\t0\t0\t0\t0\t0\t0\t0\t0\t0\t0\t0\t0\t0\t0\t0\t0\t0\t0\t0\t0\t0\t0\t0\t0\t0\t0\t0\t0\t0\t0\t0\t0\t0\t0\t0\t0\t0\t0\t0\t0\t0\t0\t0\t0\t0\t0\t0\t0\t1\t0\t0\t0\t0\t0\t0\t0\t0\t0\t0\t0\t0\t0\t0\t0\t0\t0\t0\t0\t0\t0\t0\t0\t0\t0\t0\t0\t0\t0\t0\t0\t0\t0\t0\t0\t0\t0\t0\t0\t0\t0\t0\t0\t0\t0\t0\t0\t0\t0\t0\t0\t0\t0\t0\t0\t0\t1\t0\t0\t0\t0\t0\t0\t0\t0\t0\t0\t0\t0\t0\t0\t0\t0\t0\t0\t0\t0\t0\t0\t0\t0\t0\t0\t0\t0\t0\t0\t0\t0\t0\t0\t0\t0\t0\t0\t0\t0\t0\t0\t0\t0\t0\t0\t0\t0\t0\t0\t0\t0\t0\t0\t0\t0\t0\t0\t0\t0\t0\t0\t0\t0\t0\t0\t0\t0\t0\t0\t0\t0\t0\t0\t0\t0\t0\t0\t0\t0\t0\t0\t0\t0\t0\t0\t0\t0\t0\t0\t0\t0\t0\t0\t0\t0\t0\t0\t0\t0\t0\t0\t0\t0\t0\t0\t0\t0\t0\t0\t0\t0\t0\t0\t0\t0\t0\t0\t0\t0\t0\t0\t0\t0\t0\t0\t0\t0\t0\t0\t0\t0\t0\t0\t0\t0\t0\t0\t0\t0\t0\t0\t0\t0\t0\t0\t0\t0\t0\t0\t0\t0\t0\t0\t0\t0\t0\t0\t0\t0\t0\t0\t0\t0\t0\t0\t0\t0\t0\t0\t0\t0\t0\t0\t0\t0\t0\t0\t0\t0\t0\t0\t0\t0\t0\t0\t0\t0\t0\t0\t0\t0\t0\t0\t0\t0\t0\t0\t0\t0\t0\t0\t0\t0\t0\t0\t0\t0\t0\t0\t0\t0\t0\t0\t0\t0\t0\t0\t0\t0\t0\t0\t0\t0\t0\t0\t0\t0\t0\t0\t0\t0\t0\t0\t0\t0\t0\t0\t0\t0\t0\t0\t0\t0\t0\t0\t0\t0\t0\t0\t0\t0\t0\t0\t0\t0\t0\t0\t0\t0\t0\t0\t0\t0\t0\t0\t0\t0\t0\t0\t0\t0\t0\t0\t0\t0\t0\t0\t0\t0\t0\t0\t0\t0\t0\t0\t0\t0\t0\t0\t0\t0\t0\t0\t0\t0\t0\t0\t0\t0\t0\t0\t1\t0\t0\t0\t1\t0\t0\t0\t0\t0\t0\t0\t0\t0\t0\t0\t0\t0\t0\t0\t0\t0\t0\t0\t0\t0\t0\t0\t0\t0\t0\t1\t0\t0\t0\t0\t0\t0\t0\t0\t0\t0\t0\t0\t0\t0\t0\t0\t0\t0\t0\t0\t0\t0\t0\t0\t0\t0\t0\t0\t0\t0\t0\t0\t0\t0\t0\t0\t0\t0\t0\t0\t0\t0\t0\t0\t0\t0\t0\t0\t0\t0\t0\t0\t0\t0\t0\t0\t0\t0\t0\t0\t0\t0\t0\t0\t0\t0\t0\t0\t0\t0\t0\t0\t0\t0\t0\t0\t0\t0\t0\t0\t0\t0\t0\t0\t0\t0\t0\t0\t0\t0\t0\t0\t0\t0\t0\t0\t0\t0\t0\t0\t0\t0\t0\t0\t0\t0\t0\t0\t0\t0\t0\t0\t0\t0\t0\t1\t0\t0\t0\t0\t0\t0\t0\t0\t0\t0\t0\t0\t0\t0\t0\t0\t0\t0\t0\t0\t0\t0\t0\t0\t0\t0\t0\t0\t0\t0\t0\t0\t0\t0\t0\t0\t0\t0\t0\t0\t0\t0\t0\t0\t0\t0\t0\t0\t0\t0\t0\t0\t0\t0\t0\t0\t0\t0\t0\t0\t0\t0\t0\t0\t0\t0\t0\t0\t0\t0\t0\t0\t0\t1\t0\t0\t0\t0\t0\t0\tNeural_Networks\n"
     ]
    }
   ],
   "execution_count": 2
  },
  {
   "metadata": {},
   "cell_type": "markdown",
   "source": "## Preprocessing",
   "id": "456e9de7f1fbce18"
  },
  {
   "metadata": {
    "ExecuteTime": {
     "end_time": "2025-07-19T16:04:19.577680Z",
     "start_time": "2025-07-19T16:04:19.568490Z"
    }
   },
   "cell_type": "code",
   "source": [
    "def _load_content_file(filepath: str):\n",
    "    \"\"\"Loads features and labels from the .content file.\"\"\"\n",
    "    print(f\"Loading content file: {filepath}\")\n",
    "    idx_features_labels = np.genfromtxt(\n",
    "        filepath,\n",
    "        dtype=np.dtype(str)\n",
    "    )\n",
    "    features = sp.csr_matrix(\n",
    "        idx_features_labels[:, 1:-1],\n",
    "        dtype=np.float32\n",
    "    )\n",
    "    labels = idx_features_labels[:, -1]\n",
    "    paper_ids = np.array(\n",
    "        idx_features_labels[:, 0],\n",
    "        dtype=np.int32\n",
    "    )\n",
    "    return features, labels, paper_ids"
   ],
   "id": "9c17b9a38fc63319",
   "outputs": [],
   "execution_count": 3
  },
  {
   "metadata": {
    "ExecuteTime": {
     "end_time": "2025-07-19T16:04:23.111719Z",
     "start_time": "2025-07-19T16:04:20.997939Z"
    }
   },
   "cell_type": "code",
   "source": [
    "file_path = \"./dataset/cora/cora.content\"\n",
    "features, labels, paper_ids = _load_content_file(file_path)"
   ],
   "id": "3324dbb25e64b20b",
   "outputs": [
    {
     "name": "stdout",
     "output_type": "stream",
     "text": [
      "Loading content file: ./dataset/cora/cora.content\n"
     ]
    }
   ],
   "execution_count": 4
  },
  {
   "metadata": {
    "ExecuteTime": {
     "end_time": "2025-07-19T16:04:23.226891Z",
     "start_time": "2025-07-19T16:04:23.222614Z"
    }
   },
   "cell_type": "code",
   "source": [
    "print(\"--- Features Matrix ---\\n\")\n",
    "print(features.shape)\n",
    "print(features[0].shape)\n",
    "print(features[0])"
   ],
   "id": "11a5ad82c7461c5f",
   "outputs": [
    {
     "name": "stdout",
     "output_type": "stream",
     "text": [
      "--- Features Matrix ---\n",
      "\n",
      "(2708, 1433)\n",
      "(1, 1433)\n",
      "<Compressed Sparse Row sparse matrix of dtype 'float32'\n",
      "\twith 1433 stored elements and shape (1, 1433)>\n",
      "  Coords\tValues\n",
      "  (0, 0)\t0.0\n",
      "  (0, 1)\t0.0\n",
      "  (0, 2)\t0.0\n",
      "  (0, 3)\t0.0\n",
      "  (0, 4)\t0.0\n",
      "  (0, 5)\t0.0\n",
      "  (0, 6)\t0.0\n",
      "  (0, 7)\t0.0\n",
      "  (0, 8)\t0.0\n",
      "  (0, 9)\t0.0\n",
      "  (0, 10)\t0.0\n",
      "  (0, 11)\t0.0\n",
      "  (0, 12)\t0.0\n",
      "  (0, 13)\t0.0\n",
      "  (0, 14)\t0.0\n",
      "  (0, 15)\t0.0\n",
      "  (0, 16)\t0.0\n",
      "  (0, 17)\t0.0\n",
      "  (0, 18)\t0.0\n",
      "  (0, 19)\t0.0\n",
      "  (0, 20)\t0.0\n",
      "  (0, 21)\t0.0\n",
      "  (0, 22)\t0.0\n",
      "  (0, 23)\t0.0\n",
      "  (0, 24)\t0.0\n",
      "  :\t:\n",
      "  (0, 1408)\t0.0\n",
      "  (0, 1409)\t0.0\n",
      "  (0, 1410)\t0.0\n",
      "  (0, 1411)\t0.0\n",
      "  (0, 1412)\t0.0\n",
      "  (0, 1413)\t0.0\n",
      "  (0, 1414)\t0.0\n",
      "  (0, 1415)\t0.0\n",
      "  (0, 1416)\t0.0\n",
      "  (0, 1417)\t0.0\n",
      "  (0, 1418)\t0.0\n",
      "  (0, 1419)\t0.0\n",
      "  (0, 1420)\t0.0\n",
      "  (0, 1421)\t0.0\n",
      "  (0, 1422)\t0.0\n",
      "  (0, 1423)\t0.0\n",
      "  (0, 1424)\t0.0\n",
      "  (0, 1425)\t0.0\n",
      "  (0, 1426)\t1.0\n",
      "  (0, 1427)\t0.0\n",
      "  (0, 1428)\t0.0\n",
      "  (0, 1429)\t0.0\n",
      "  (0, 1430)\t0.0\n",
      "  (0, 1431)\t0.0\n",
      "  (0, 1432)\t0.0\n"
     ]
    }
   ],
   "execution_count": 5
  },
  {
   "metadata": {
    "ExecuteTime": {
     "end_time": "2025-07-19T16:04:27.533329Z",
     "start_time": "2025-07-19T16:04:27.527425Z"
    }
   },
   "cell_type": "code",
   "source": [
    "print(\"--- Labels Matrix ---\\n\")\n",
    "print(labels.shape)\n",
    "print(labels)"
   ],
   "id": "b1c270a963a6443f",
   "outputs": [
    {
     "name": "stdout",
     "output_type": "stream",
     "text": [
      "--- Labels Matrix ---\n",
      "\n",
      "(2708,)\n",
      "['Neural_Networks' 'Rule_Learning' 'Reinforcement_Learning' ...\n",
      " 'Genetic_Algorithms' 'Case_Based' 'Neural_Networks']\n"
     ]
    }
   ],
   "execution_count": 6
  },
  {
   "metadata": {
    "ExecuteTime": {
     "end_time": "2025-07-19T16:04:29.097994Z",
     "start_time": "2025-07-19T16:04:29.090592Z"
    }
   },
   "cell_type": "code",
   "source": [
    "print(\"--- Paper IDs ---\\n\")\n",
    "print(paper_ids.shape)\n",
    "print(paper_ids)"
   ],
   "id": "d2b3071d2cabca42",
   "outputs": [
    {
     "name": "stdout",
     "output_type": "stream",
     "text": [
      "--- Paper IDs ---\n",
      "\n",
      "(2708,)\n",
      "[  31336 1061127 1106406 ... 1128978  117328   24043]\n"
     ]
    }
   ],
   "execution_count": 7
  },
  {
   "metadata": {
    "ExecuteTime": {
     "end_time": "2025-07-19T16:04:31.258522Z",
     "start_time": "2025-07-19T16:04:31.248928Z"
    }
   },
   "cell_type": "code",
   "source": [
    "def _load_cites_file(filepath: str, idx_map: dict):\n",
    "    \"\"\"Loads citation links and builds the adjacency matrix.\"\"\"\n",
    "    print(f\"Loading cites file: {filepath}\")\n",
    "    edges_unordered = np.genfromtxt(\n",
    "        filepath,\n",
    "        dtype=np.int32\n",
    "    )\n",
    "\n",
    "    # Convert paper IDs in edges to our new integer indices\n",
    "    edges = np.array(\n",
    "        list(map(\n",
    "            idx_map.get,\n",
    "            edges_unordered.flatten())\n",
    "        ), dtype=np.int32,\n",
    "    ).reshape(edges_unordered.shape)\n",
    "\n",
    "    # Create COO (Coordinate) format sparse adjacency matrix\n",
    "    adj = sp.coo_matrix(\n",
    "        (\n",
    "            np.ones(edges.shape[0]),\n",
    "            (edges[:, 0], edges[:, 1])\n",
    "        ),\n",
    "        # Use len(idx_map) for the number of nodes\n",
    "        shape=(len(idx_map), len(idx_map)),\n",
    "        dtype=np.float32\n",
    "    )\n",
    "\n",
    "    # Build symmetric adjacency matrix\n",
    "    adj = (\n",
    "            adj +\n",
    "            adj.T.multiply(adj.T > adj) -\n",
    "            adj.multiply(adj.T > adj)\n",
    "    )\n",
    "    return adj"
   ],
   "id": "96a5f6e697ae645",
   "outputs": [],
   "execution_count": 8
  },
  {
   "metadata": {
    "ExecuteTime": {
     "end_time": "2025-07-19T16:04:33.890208Z",
     "start_time": "2025-07-19T16:04:33.872055Z"
    }
   },
   "cell_type": "code",
   "source": [
    "file_path = \"./dataset/cora/cora.cites\"\n",
    "idx_map = {\n",
    "    paper_id: idx for idx, paper_id in enumerate(paper_ids)\n",
    "}\n",
    "adj = _load_cites_file(file_path, idx_map)\n",
    "print(\"-- Adjacency Matrix ---\")\n",
    "print(adj.shape)\n",
    "print(adj[:2].shape)\n",
    "print(adj[:2])"
   ],
   "id": "6c82d4790fec7894",
   "outputs": [
    {
     "name": "stdout",
     "output_type": "stream",
     "text": [
      "Loading cites file: ./dataset/cora/cora.cites\n",
      "-- Adjacency Matrix ---\n",
      "(2708, 2708)\n",
      "(2, 2708)\n",
      "<Compressed Sparse Row sparse matrix of dtype 'float32'\n",
      "\twith 6 stored elements and shape (2, 2708)>\n",
      "  Coords\tValues\n",
      "  (0, 8)\t1.0\n",
      "  (0, 14)\t1.0\n",
      "  (0, 258)\t1.0\n",
      "  (0, 435)\t1.0\n",
      "  (0, 544)\t1.0\n",
      "  (1, 344)\t1.0\n"
     ]
    }
   ],
   "execution_count": 9
  },
  {
   "metadata": {
    "ExecuteTime": {
     "end_time": "2025-07-19T16:04:41.155936Z",
     "start_time": "2025-07-19T16:04:41.151160Z"
    }
   },
   "cell_type": "code",
   "source": [
    "def _normalize_features(features: np.ndarray):\n",
    "    \"\"\"Normalizes node features.\"\"\"\n",
    "    features = features.todense()\n",
    "    features /= features.sum(1).reshape(-1, 1)\n",
    "    return features"
   ],
   "id": "fb262778dca71dac",
   "outputs": [],
   "execution_count": 10
  },
  {
   "metadata": {
    "ExecuteTime": {
     "end_time": "2025-07-19T16:04:47.472044Z",
     "start_time": "2025-07-19T16:04:47.466263Z"
    }
   },
   "cell_type": "code",
   "source": [
    "def _one_hot_encode_labels(labels: np.ndarray):\n",
    "    \"\"\"Converts categorical labels to one-hot encoded format.\"\"\"\n",
    "    classes = sorted(list(set(labels)))\n",
    "    class_to_idx = {\n",
    "        c: i for i, c in enumerate(classes)\n",
    "    }\n",
    "\n",
    "    # Corrected labels_one_hot initialization shape\n",
    "    labels_one_hot = np.zeros(\n",
    "        (len(labels), len(classes)),\n",
    "        dtype=np.float32\n",
    "    )\n",
    "    for i, label in enumerate(labels):\n",
    "        labels_one_hot[i, class_to_idx[label]] = 1\n",
    "    return labels_one_hot"
   ],
   "id": "9cdc68273ee4c50d",
   "outputs": [],
   "execution_count": 11
  },
  {
   "metadata": {
    "ExecuteTime": {
     "end_time": "2025-07-19T16:04:49.086225Z",
     "start_time": "2025-07-19T16:04:49.078143Z"
    }
   },
   "cell_type": "code",
   "source": [
    "def _create_masks(num_nodes: int):\n",
    "    \"\"\"Defines standard train, validation, and test masks.\"\"\"\n",
    "    idx_train = jnp.arange(140)\n",
    "    idx_val = jnp.arange(140, 140 + 500)\n",
    "    idx_test = jnp.arange(140 + 500, 140 + 500 + 1000)\n",
    "\n",
    "    train_mask = jnp.zeros(\n",
    "        num_nodes, dtype=bool\n",
    "    ).at[idx_train].set(True)\n",
    "    val_mask = jnp.zeros(\n",
    "        num_nodes, dtype=bool\n",
    "    ).at[idx_val].set(True)\n",
    "    test_mask = jnp.zeros(\n",
    "        num_nodes, dtype=bool\n",
    "    ).at[idx_test].set(True)\n",
    "\n",
    "    return train_mask, val_mask, test_mask"
   ],
   "id": "3574b3e31e743e2",
   "outputs": [],
   "execution_count": 12
  },
  {
   "metadata": {
    "ExecuteTime": {
     "end_time": "2025-07-19T16:04:50.671506Z",
     "start_time": "2025-07-19T16:04:50.663705Z"
    }
   },
   "cell_type": "code",
   "source": [
    "def load_cora(path: str = \"./dataset/cora/\"):\n",
    "    \"\"\"\n",
    "    Loads and preprocesses the Cora dataset\n",
    "    from raw .content and .cites files.\n",
    "\n",
    "    Args:\n",
    "        path (str): Directory path where\n",
    "            cora.content and cora.cites are located.\n",
    "            Defaults to \"./dataset/cora/\".\n",
    "\n",
    "    Returns:\n",
    "        tuple:\n",
    "        (adj, features, labels, train_mask, val_mask, test_mask)\n",
    "        where adj, features, and labels are JAX numpy arrays.\n",
    "    \"\"\"\n",
    "    # 1. Load features and labels, and create paper ID to index mapping\n",
    "    features_sparse, labels_raw, paper_ids = _load_content_file(path + \"cora.content\")\n",
    "    idx_map = {paper_id: idx for idx, paper_id in enumerate(paper_ids)}\n",
    "\n",
    "    # 2. Build adjacency matrix\n",
    "    adj_sparse = _load_cites_file(path + \"cora.cites\", idx_map)\n",
    "\n",
    "    # 3. Preprocess features\n",
    "    features_normalized = _normalize_features(features_sparse)\n",
    "\n",
    "    # 4. One-hot encode labels\n",
    "    labels_one_hot = _one_hot_encode_labels(labels_raw)\n",
    "\n",
    "    # 5. Create masks for data splits\n",
    "    num_nodes = labels_raw.shape[0]  # Use the original number of labels for node count\n",
    "    train_mask, val_mask, test_mask = _create_masks(num_nodes)\n",
    "\n",
    "    # 6. Convert to JAX numpy arrays\n",
    "    adj_jax = jnp.asarray(adj_sparse.todense(), dtype=jnp.float32)\n",
    "    features_jax = jnp.asarray(features_normalized, dtype=jnp.float32)\n",
    "    labels_jax = jnp.asarray(labels_one_hot, dtype=jnp.float32)\n",
    "\n",
    "    return adj_jax, features_jax, labels_jax, train_mask, val_mask, test_mask"
   ],
   "id": "e3131219eae4999b",
   "outputs": [],
   "execution_count": 13
  },
  {
   "metadata": {
    "ExecuteTime": {
     "end_time": "2025-07-19T16:04:56.423452Z",
     "start_time": "2025-07-19T16:04:53.605699Z"
    }
   },
   "cell_type": "code",
   "source": [
    "adj_raw, features, labels, train_mask, val_mask, test_mask = load_cora()\n",
    "\n",
    "print(f\"\\nCora dataset loaded:\")\n",
    "print(f\"Number of nodes: {adj_raw.shape[0]}\")\n",
    "print(f\"Number of features per node: {features.shape[1]}\")\n",
    "print(f\"Number of classes: {labels.shape[1]}\")\n",
    "print(f\"Features shape: {features.shape}\")\n",
    "print(f\"Adjacency matrix shape: {adj_raw.shape}\")\n",
    "print(f\"Labels shape (one-hot encoded): {labels.shape}\")\n",
    "print(f\"Train nodes: {jnp.sum(train_mask)}\")\n",
    "print(f\"Validation nodes: {jnp.sum(val_mask)}\")\n",
    "print(f\"Test nodes: {jnp.sum(test_mask)}\")\n"
   ],
   "id": "eaefb660a0207530",
   "outputs": [
    {
     "name": "stdout",
     "output_type": "stream",
     "text": [
      "Loading content file: ./dataset/cora/cora.content\n",
      "Loading cites file: ./dataset/cora/cora.cites\n",
      "\n",
      "Cora dataset loaded:\n",
      "Number of nodes: 2708\n",
      "Number of features per node: 1433\n",
      "Number of classes: 7\n",
      "Features shape: (2708, 1433)\n",
      "Adjacency matrix shape: (2708, 2708)\n",
      "Labels shape (one-hot encoded): (2708, 7)\n",
      "Train nodes: 140\n",
      "Validation nodes: 500\n",
      "Test nodes: 1000\n"
     ]
    }
   ],
   "execution_count": 14
  },
  {
   "metadata": {
    "ExecuteTime": {
     "end_time": "2025-07-19T16:05:21.830217Z",
     "start_time": "2025-07-19T16:05:21.818926Z"
    }
   },
   "cell_type": "code",
   "source": [
    "def preprocess_adjacency_matrix(adj):\n",
    "    \"\"\"\n",
    "    Adds self-loops and symmetrically normalizes the adjacency matrix.\n",
    "\n",
    "    Args:\n",
    "        adj (jnp.ndarray): The raw adjacency matrix from your dataset.\n",
    "\n",
    "    Returns:\n",
    "        jnp.ndarray: The transformed adjacency matrix ready for the GCN.\n",
    "    \"\"\"\n",
    "    # Input validation\n",
    "    if adj is None:\n",
    "        raise ValueError(\"Adjacency matrix cannot be None\")\n",
    "    if adj.ndim != 2:\n",
    "        raise ValueError(f\"Expected 2D adjacency matrix, got {adj.ndim}D\")\n",
    "    if adj.shape[0] != adj.shape[1]:\n",
    "        raise ValueError(f\"Adjacency matrix must be square, got shape {adj.shape}\")\n",
    "\n",
    "    # Step 1: Add self-loops (A' = A + I)\n",
    "    # This ensures each node considers its own features during aggregation.\n",
    "    adj_self_loops = adj + jnp.eye(adj.shape[0])\n",
    "\n",
    "    # Step 2: Calculate the inverse square root of the degree matrix (D'^-0.5)\n",
    "    # This creates the normalization factor.\n",
    "    degrees = jnp.sum(adj_self_loops, axis=1)\n",
    "    # Add small epsilon to prevent division by zero for isolated nodes\n",
    "    D_hat = jnp.diag((degrees + 1e-8) ** -0.5)\n",
    "\n",
    "    # Step 3: Symmetrically normalize the matrix (D'^-0.5 * A' * D'^-0.5)\n",
    "    # This averages neighbor features, preventing issues from node degrees.\n",
    "    A_hat = D_hat @ adj_self_loops @ D_hat\n",
    "\n",
    "    return A_hat\n"
   ],
   "id": "f8fb3829b37d126",
   "outputs": [],
   "execution_count": 15
  },
  {
   "metadata": {
    "ExecuteTime": {
     "end_time": "2025-07-19T16:05:24.308770Z",
     "start_time": "2025-07-19T16:05:24.085674Z"
    }
   },
   "cell_type": "code",
   "source": [
    "# Create the correctly processed adjacency matrix\n",
    "adj_normalized = preprocess_adjacency_matrix(adj_raw)"
   ],
   "id": "a98d6c2e0fccbeb4",
   "outputs": [],
   "execution_count": 16
  },
  {
   "metadata": {},
   "cell_type": "markdown",
   "source": "# Cora Dataset (Torch Geometric)",
   "id": "1db601492187f114"
  },
  {
   "metadata": {
    "ExecuteTime": {
     "end_time": "2025-07-19T16:18:18.821405Z",
     "start_time": "2025-07-19T16:18:18.808561Z"
    }
   },
   "cell_type": "code",
   "source": "print(cora_dataset[0])",
   "id": "eb5dbae35f5551ce",
   "outputs": [
    {
     "name": "stdout",
     "output_type": "stream",
     "text": [
      "Data(x=[2708, 1433], edge_index=[2, 10556], y=[2708], train_mask=[2708], val_mask=[2708], test_mask=[2708])\n"
     ]
    }
   ],
   "execution_count": 39
  },
  {
   "metadata": {
    "ExecuteTime": {
     "end_time": "2025-07-19T16:06:26.457516Z",
     "start_time": "2025-07-19T16:06:25.960313Z"
    }
   },
   "cell_type": "code",
   "source": [
    "# --- Load Data (Torch Geometric) ---\n",
    "cora_dataset = torch_geometric.datasets.Planetoid(root=\"./dataset\", name=\"Cora\")\n",
    "\n",
    "# Convert PyTorch tensors to JAX arrays\n",
    "data = cora_dataset[0]\n",
    "edge_index = jnp.array(data.edge_index.numpy())\n",
    "features = jnp.array(data.x.numpy())\n",
    "labels_int = jnp.array(data.y.numpy())\n",
    "train_mask = jnp.array(data.train_mask.numpy())\n",
    "val_mask = jnp.array(data.val_mask.numpy())\n",
    "test_mask = jnp.array(data.test_mask.numpy())\n",
    "\n",
    "# Convert edge_index to adjacency matrix\n",
    "num_nodes = features.shape[0]\n",
    "adj_raw = jnp.zeros((num_nodes, num_nodes))\n",
    "adj_raw = adj_raw.at[edge_index[0], edge_index[1]].set(1.0)\n",
    "adj_raw = adj_raw.at[edge_index[1], edge_index[0]].set(1.0)\n",
    "\n",
    "# Convert integer labels to one-hot\n",
    "num_classes = jnp.max(labels_int) + 1\n",
    "labels = jnp.eye(num_classes)[labels_int]\n",
    "\n",
    "# Process adjacency matrix (add self-loops and normalize)\n",
    "adj_normalized = preprocess_adjacency_matrix(adj_raw)"
   ],
   "id": "f8044475e74203bb",
   "outputs": [],
   "execution_count": 17
  },
  {
   "metadata": {
    "ExecuteTime": {
     "end_time": "2025-07-19T16:07:00.771695Z",
     "start_time": "2025-07-19T16:07:00.763732Z"
    }
   },
   "cell_type": "code",
   "source": [
    "print(f\"\\nCora dataset loaded:\")\n",
    "print(f\"Number of nodes: {adj_normalized.shape[0]}\")\n",
    "print(f\"Number of features per node: {features.shape[1]}\")\n",
    "print(f\"Number of classes: {labels.shape[1]}\")\n",
    "print(f\"Features shape: {features.shape}\")\n",
    "print(f\"Adjacency matrix shape: {adj_normalized.shape}\")\n",
    "print(f\"Labels shape (one-hot encoded): {labels.shape}\")\n",
    "print(f\"Train nodes: {jnp.sum(train_mask)}\")\n",
    "print(f\"Validation nodes: {jnp.sum(val_mask)}\")\n",
    "print(f\"Test nodes: {jnp.sum(test_mask)}\")"
   ],
   "id": "9c7b85be90af00e6",
   "outputs": [
    {
     "name": "stdout",
     "output_type": "stream",
     "text": [
      "\n",
      "Cora dataset loaded:\n",
      "Number of nodes: 2708\n",
      "Number of features per node: 1433\n",
      "Number of classes: 7\n",
      "Features shape: (2708, 1433)\n",
      "Adjacency matrix shape: (2708, 2708)\n",
      "Labels shape (one-hot encoded): (2708, 7)\n",
      "Train nodes: 140\n",
      "Validation nodes: 500\n",
      "Test nodes: 1000\n"
     ]
    }
   ],
   "execution_count": 18
  },
  {
   "metadata": {},
   "cell_type": "markdown",
   "source": "# Building the MLP Layer (Benchmark)",
   "id": "6f1c6afa110571c3"
  },
  {
   "metadata": {
    "ExecuteTime": {
     "end_time": "2025-07-19T16:08:01.183492Z",
     "start_time": "2025-07-19T16:08:01.173561Z"
    }
   },
   "cell_type": "code",
   "source": [
    "class MLP(nnx.Module):\n",
    "    def __init__(self, in_features, hidden_features, out_features, dropout_rate=0.1, *, rngs: nnx.Rngs):\n",
    "        self.layers = []\n",
    "        current_features = in_features\n",
    "\n",
    "        # Add hidden layers with Linear + ReLU + Dropout\n",
    "        for hidden_dim in hidden_features:\n",
    "            self.layers.extend([\n",
    "                nnx.Linear(current_features, hidden_dim, rngs=rngs),\n",
    "                nnx.relu,\n",
    "                nnx.Dropout(rate=dropout_rate, rngs=rngs)\n",
    "            ])\n",
    "            current_features = hidden_dim\n",
    "\n",
    "        # Final output layer (no activation, no dropout)\n",
    "        self.layers.append(nnx.Linear(current_features, out_features, rngs=rngs))\n",
    "\n",
    "    def __call__(self, x, *, rngs: nnx.Rngs):\n",
    "        for layer in self.layers:\n",
    "            if callable(layer):\n",
    "                if hasattr(layer, '__call__') and 'rngs' in layer.__call__.__code__.co_varnames:\n",
    "                    # For layers that need rngs (Linear, Dropout)\n",
    "                    x = layer(x, rngs=rngs)\n",
    "                else:\n",
    "                    # For activation functions (relu)\n",
    "                    x = layer(x)\n",
    "        return x"
   ],
   "id": "eb625dda45635067",
   "outputs": [],
   "execution_count": 19
  },
  {
   "metadata": {},
   "cell_type": "markdown",
   "source": "# Building the GCN Layer",
   "id": "47c29dd20f661586"
  },
  {
   "metadata": {
    "ExecuteTime": {
     "end_time": "2025-07-19T16:08:22.327812Z",
     "start_time": "2025-07-19T16:08:22.315064Z"
    }
   },
   "cell_type": "code",
   "source": [
    "class GCNLayer(nnx.Module):\n",
    "    def __init__(\n",
    "            self,\n",
    "            input_features: int,\n",
    "            output_features: int,\n",
    "            dropout_rate: float = 0.0,\n",
    "            apply_activation: bool = True,\n",
    "            *, rngs: nnx.Rngs\n",
    "    ):\n",
    "        self.linear = nnx.Linear(\n",
    "            input_features,\n",
    "            output_features,\n",
    "            kernel_init=nnx.initializers.glorot_uniform(),\n",
    "            rngs=rngs\n",
    "        )\n",
    "        self.dropout = nnx.Dropout(\n",
    "            rate=dropout_rate,\n",
    "            rngs=rngs\n",
    "        )\n",
    "        self.apply_activation = apply_activation\n",
    "\n",
    "    def __call__(\n",
    "            self,\n",
    "            A_hat: jnp.ndarray,\n",
    "            H: jnp.ndarray,\n",
    "            *, rngs: nnx.Rngs,\n",
    "    ):\n",
    "        \"\"\"\n",
    "        Applies a single Graph Convolutional\n",
    "        Network layer using NNX.\n",
    "\n",
    "        Args:\n",
    "            A_hat (jnp.ndarray): The symmetrically\n",
    "                normalized adjacency matrix.\n",
    "            H (jnp.ndarray): The input node embeddings/\n",
    "                features from the previous layer.\n",
    "            rngs (nnx.Rngs): Random number generator\n",
    "                collection for dropout.\n",
    "\n",
    "        Returns:\n",
    "            jnp.ndarray: The output node embeddings/\n",
    "                features for the current layer.\n",
    "        \"\"\"\n",
    "        # 1. Dropout for regularization\n",
    "        # nnx knows when to apply dropout - train\n",
    "        #   and when don't - eval\n",
    "        H_dropped = self.dropout(H, rngs=rngs)\n",
    "\n",
    "        # 2. Linear Transformation (H^(l) * W^(l))\n",
    "        H_linear = self.linear(H_dropped)\n",
    "\n",
    "        # 3. Graph Convolution (A_hat * H_linear)\n",
    "        H_aggregated = A_hat @ H_linear\n",
    "\n",
    "        # 4. Activation Function (if enabled)\n",
    "        if self.apply_activation:\n",
    "            H_output = nnx.relu(H_aggregated)\n",
    "        else:\n",
    "            H_output = H_aggregated\n",
    "\n",
    "        return H_output\n"
   ],
   "id": "d1b31036f6a5b5d1",
   "outputs": [],
   "execution_count": 20
  },
  {
   "metadata": {
    "ExecuteTime": {
     "end_time": "2025-07-19T16:08:54.730133Z",
     "start_time": "2025-07-19T16:08:54.721685Z"
    }
   },
   "cell_type": "code",
   "source": [
    "class GCN(nnx.Module):\n",
    "    \"\"\"A graph Convolutional Network Model\"\"\"\n",
    "\n",
    "    def __init__(\n",
    "            self,\n",
    "            input_features: int,\n",
    "            hidden_features: Sequence[int],\n",
    "            output_features: int,\n",
    "            dropout_rate: float,\n",
    "            *, rngs: nnx.Rngs\n",
    "    ):\n",
    "        self.gcn_layers = []\n",
    "        current_features = input_features\n",
    "\n",
    "        # Create the hidden GCN layers\n",
    "        for hidden_dim in hidden_features:\n",
    "            self.gcn_layers.append(\n",
    "                GCNLayer(\n",
    "                    input_features=current_features,\n",
    "                    output_features=hidden_dim,\n",
    "                    dropout_rate=dropout_rate,\n",
    "                    rngs=rngs\n",
    "                )\n",
    "            )\n",
    "            # The input of the next layer is the\n",
    "            #   output to this one\n",
    "            current_features = hidden_dim\n",
    "\n",
    "        # The final layer maps node embeddings to output classes\n",
    "        # No activation for final layer (raw logits for classification)\n",
    "        self.output_layer = GCNLayer(\n",
    "            input_features=current_features,\n",
    "            output_features=output_features,\n",
    "            dropout_rate=0.0,  # No dropout in final layer\n",
    "            apply_activation=False,\n",
    "            rngs=rngs\n",
    "        )\n",
    "\n",
    "    def __call__(\n",
    "            self,\n",
    "            A_hat: jnp.ndarray,\n",
    "            H: jnp.ndarray,\n",
    "            *, rngs: nnx.Rngs,\n",
    "    ):\n",
    "        \"\"\"Performs the forward pass of the GCN.\"\"\"\n",
    "        # Pass data through all the GCN layers\n",
    "        for layer in self.gcn_layers:\n",
    "            H = layer(A_hat=A_hat, H=H, rngs=rngs)\n",
    "\n",
    "        # Apply the final layer to get logits\n",
    "        logits = self.output_layer(A_hat=A_hat, H=H, rngs=rngs)\n",
    "        return logits"
   ],
   "id": "2420c4c7737a68c3",
   "outputs": [],
   "execution_count": 21
  },
  {
   "metadata": {},
   "cell_type": "markdown",
   "source": "# Loss Function",
   "id": "b616b270117591c0"
  },
  {
   "metadata": {
    "ExecuteTime": {
     "end_time": "2025-07-19T16:17:03.422087Z",
     "start_time": "2025-07-19T16:17:03.414927Z"
    }
   },
   "cell_type": "code",
   "source": [
    "# --- Loss & Accuracy Functions ---\n",
    "def categorical_loss(logits, labels, mask):\n",
    "    \"\"\"Calculates masked cross-entropy loss.\"\"\"\n",
    "    # Convert one-hot labels to integer labels for this loss function\n",
    "    int_labels = jnp.argmax(labels, axis=1)\n",
    "    loss = optax.softmax_cross_entropy_with_integer_labels(logits, int_labels)\n",
    "    # Use jnp.where to apply mask without boolean indexing\n",
    "    masked_loss = jnp.where(mask, loss, 0.0)\n",
    "    # Return the mean loss only for the nodes in the mask\n",
    "    return jnp.sum(masked_loss) / jnp.sum(mask)\n",
    "\n",
    "def loss_fn(model, batch, rngs: nnx.Rngs):\n",
    "    \"\"\"Generic loss function that works with both GCN and MLP models.\"\"\"\n",
    "    # Check if model is GCN (needs adjacency matrix) or MLP (only features)\n",
    "    if hasattr(model, 'gcn_layers') or isinstance(model, GCN):\n",
    "        # GCN model - pass adjacency matrix\n",
    "        logits = model(\n",
    "            batch[\"adj\"],\n",
    "            batch[\"features\"],\n",
    "            rngs=rngs\n",
    "        )\n",
    "    else:\n",
    "        # MLP model - only pass features\n",
    "        logits = model(batch[\"features\"], rngs=rngs)\n",
    "\n",
    "    loss = categorical_loss(\n",
    "        logits,\n",
    "        batch[\"label\"],\n",
    "        batch[\"mask\"]\n",
    "    )\n",
    "    return loss, logits"
   ],
   "id": "248b3c91610800cb",
   "outputs": [],
   "execution_count": 36
  },
  {
   "metadata": {},
   "cell_type": "markdown",
   "source": "# Train Step",
   "id": "464af450203f5caa"
  },
  {
   "metadata": {
    "ExecuteTime": {
     "end_time": "2025-07-19T16:10:13.329962Z",
     "start_time": "2025-07-19T16:10:13.317555Z"
    }
   },
   "cell_type": "code",
   "source": [
    "@nnx.jit\n",
    "def train_step(\n",
    "        model,\n",
    "        optimizer,\n",
    "        metrics: nnx.MultiMetric,\n",
    "        batch,\n",
    "        rngs: nnx.Rngs\n",
    "):\n",
    "    \"\"\"Performs one training step: computes grads, updates model.\"\"\"\n",
    "    grad_fn = nnx.value_and_grad(\n",
    "        loss_fn,\n",
    "        has_aux=True,\n",
    "    )\n",
    "    (loss, logits), grads = grad_fn(model, batch, rngs)\n",
    "\n",
    "    metrics.update(\n",
    "        loss=loss,\n",
    "        logits=logits,\n",
    "        labels=jnp.argmax(batch[\"label\"], axis=1),\n",
    "        mask=batch[\"mask\"],\n",
    "    )\n",
    "    optimizer.update(grads)  # In-place updates"
   ],
   "id": "eddc54f62f9626c7",
   "outputs": [],
   "execution_count": 23
  },
  {
   "metadata": {},
   "cell_type": "markdown",
   "source": "# Eval Step",
   "id": "8a586d269e5fd7cc"
  },
  {
   "metadata": {
    "ExecuteTime": {
     "end_time": "2025-07-19T16:10:37.264194Z",
     "start_time": "2025-07-19T16:10:37.246693Z"
    }
   },
   "cell_type": "code",
   "source": [
    "@nnx.jit\n",
    "def eval_step(\n",
    "        model,\n",
    "        metrics: nnx.MultiMetric,\n",
    "        batch,\n",
    "        rngs: nnx.Rngs\n",
    "):\n",
    "    # In evaluation mode, dropout is automatically disabled by NNX\n",
    "    # when no training is happening (deterministic behavior)\n",
    "    loss, logits = loss_fn(model, batch, rngs)\n",
    "\n",
    "    metrics.update(\n",
    "        loss=loss,\n",
    "        logits=logits,\n",
    "        labels=jnp.argmax(batch[\"label\"], axis=1),\n",
    "        mask=batch[\"mask\"],\n",
    "    )"
   ],
   "id": "85367798a2e2b93f",
   "outputs": [],
   "execution_count": 24
  },
  {
   "metadata": {},
   "cell_type": "markdown",
   "source": "# Batch and Iterators",
   "id": "91129ac34da2e956"
  },
  {
   "metadata": {
    "ExecuteTime": {
     "end_time": "2025-07-19T16:11:43.086502Z",
     "start_time": "2025-07-19T16:11:43.080273Z"
    }
   },
   "cell_type": "code",
   "source": [
    "# Create batch format for GCN training\n",
    "def create_batch(adj, features, labels, mask):\n",
    "    \"\"\"Creates a batch in the format expected by the training loop.\"\"\"\n",
    "    return {\n",
    "        \"adj\": adj,\n",
    "        \"label\": labels,\n",
    "        \"mask\": mask,\n",
    "        \"features\": features\n",
    "    }\n",
    "\n",
    "\n",
    "# For the training loop, you can also create a simple dataset iterator\n",
    "def create_dataset_iterator(batch, num_repeats=1):\n",
    "    \"\"\"Creates an iterator that yields the same batch repeatedly.\"\"\"\n",
    "    for _ in range(num_repeats):\n",
    "        yield batch"
   ],
   "id": "2076da4c9f146ffc",
   "outputs": [],
   "execution_count": 25
  },
  {
   "metadata": {},
   "cell_type": "markdown",
   "source": "# Custom Metrics",
   "id": "fe1d91b9b63c35d8"
  },
  {
   "metadata": {
    "ExecuteTime": {
     "end_time": "2025-07-19T16:12:22.794839Z",
     "start_time": "2025-07-19T16:12:22.782134Z"
    }
   },
   "cell_type": "code",
   "source": [
    "class MaskedAccuracy(nnx.metrics.Average):\n",
    "    \"\"\"Accuracy metric that respects node masks for graph node classification.\"\"\"\n",
    "\n",
    "    def __init__(self):\n",
    "        super().__init__()\n",
    "\n",
    "    def update(self, *, logits, labels, mask=None, **kwargs):\n",
    "        predictions = jnp.argmax(logits, axis=-1)\n",
    "        correct_predictions = (predictions == labels).astype(jnp.float32)\n",
    "\n",
    "        if mask is not None:\n",
    "            # Only count predictions for masked nodes\n",
    "            masked_correct = jnp.where(mask, correct_predictions, 0.0)\n",
    "            masked_total = jnp.where(mask, 1.0, 0.0)\n",
    "            # Update with the average accuracy for this batch\n",
    "            batch_accuracy = jnp.sum(masked_correct) / (jnp.sum(masked_total) + 1e-8)\n",
    "        else:\n",
    "            batch_accuracy = jnp.mean(correct_predictions)\n",
    "\n",
    "        super().update(values=batch_accuracy)\n",
    "\n",
    "class F1Score(nnx.metrics.Average):\n",
    "    \"\"\"Macro-averaged F1 score for multi-class classification.\"\"\"\n",
    "\n",
    "    def __init__(self, num_classes):\n",
    "        super().__init__()\n",
    "        self.num_classes = num_classes\n",
    "\n",
    "    def update(self, *, logits, labels, **kwargs):\n",
    "        predictions = jnp.argmax(logits, axis=-1)\n",
    "\n",
    "        # Calculate F1 per class\n",
    "        f1_scores = []\n",
    "        for class_idx in range(self.num_classes):\n",
    "            pred_class = (predictions == class_idx)\n",
    "            true_class = (labels == class_idx)\n",
    "\n",
    "            tp = jnp.sum(pred_class & true_class)\n",
    "            fp = jnp.sum(pred_class & ~true_class)\n",
    "            fn = jnp.sum(~pred_class & true_class)\n",
    "\n",
    "            precision = tp / (tp + fp + 1e-8)\n",
    "            recall = tp / (tp + fn + 1e-8)\n",
    "            f1 = 2 * (precision * recall) / (precision + recall + 1e-8)\n",
    "            f1_scores.append(f1)\n",
    "\n",
    "        # Compute macro-averaged F1\n",
    "        macro_f1 = jnp.mean(jnp.array(f1_scores))\n",
    "        super().update(values=macro_f1)"
   ],
   "id": "edde6fd9b88376ba",
   "outputs": [],
   "execution_count": 26
  },
  {
   "metadata": {},
   "cell_type": "markdown",
   "source": "# Train Model",
   "id": "5d62cbd2b6d3c896"
  },
  {
   "metadata": {
    "ExecuteTime": {
     "end_time": "2025-07-19T16:13:15.419925Z",
     "start_time": "2025-07-19T16:13:15.406172Z"
    }
   },
   "cell_type": "code",
   "source": [
    "def train_model(model, train_batch, val_batch, test_batch,\n",
    "                learning_rate=0.01, epochs=200, eval_every=20,\n",
    "                model_name=\"Model\"):\n",
    "    \"\"\"\n",
    "    Generic training function that works with both GCN and MLP models.\n",
    "\n",
    "    Args:\n",
    "        model: The model to train (GCN or MLP)\n",
    "        train_batch: Training data batch\n",
    "        val_batch: Validation data batch\n",
    "        test_batch: Test data batch\n",
    "        learning_rate: Learning rate for optimizer\n",
    "        epochs: Number of training epochs\n",
    "        eval_every: Evaluate every N steps\n",
    "        model_name: Name for logging purposes\n",
    "\n",
    "    Returns:\n",
    "        dict: Training history and final results\n",
    "    \"\"\"\n",
    "    # Initialize optimizer\n",
    "    optimizer = nnx.Optimizer(model, optax.adam(learning_rate))\n",
    "\n",
    "    # Initialize metrics\n",
    "    num_classes = train_batch['label'].shape[1]\n",
    "    metrics = nnx.MultiMetric(\n",
    "        accuracy=nnx.metrics.Accuracy(),\n",
    "        masked_accuracy=MaskedAccuracy(),\n",
    "        f1_score=F1Score(num_classes=num_classes),\n",
    "        loss=nnx.metrics.Average('loss'),\n",
    "    )\n",
    "\n",
    "    # Training history\n",
    "    metrics_history = {\n",
    "        'train_loss': [],\n",
    "        'train_accuracy': [],\n",
    "        'train_masked_accuracy': [],\n",
    "        'train_f1_score': [],\n",
    "        'val_loss': [],\n",
    "        'val_accuracy': [],\n",
    "        'val_masked_accuracy': [],\n",
    "        'val_f1_score': [],\n",
    "    }\n",
    "\n",
    "    # Best model tracking\n",
    "    best_val_acc = 0.0\n",
    "    best_model_state = None\n",
    "\n",
    "    # Initialize RNG\n",
    "    rng = nnx.Rngs(42)\n",
    "\n",
    "    print(f\"\\n=== Training {model_name} ===\\n\")\n",
    "\n",
    "    # Training loop\n",
    "    for step in range(epochs):\n",
    "        # Training step\n",
    "        train_step(model, optimizer, metrics, train_batch, rng)\n",
    "\n",
    "        # Evaluation\n",
    "        if step > 0 and (step % eval_every == 0 or step == epochs - 1):\n",
    "            # Compute training metrics\n",
    "            for metric, value in metrics.compute().items():\n",
    "                metrics_history[f'train_{metric}'].append(value)\n",
    "            metrics.reset()\n",
    "\n",
    "            # Compute validation metrics\n",
    "            eval_step(model, metrics, val_batch, rng)\n",
    "            for metric, value in metrics.compute().items():\n",
    "                metrics_history[f'val_{metric}'].append(value)\n",
    "            metrics.reset()\n",
    "\n",
    "            # Track best model\n",
    "            current_val_acc = metrics_history['val_accuracy'][-1]\n",
    "            if current_val_acc > best_val_acc:\n",
    "                best_val_acc = current_val_acc\n",
    "                best_model_state = nnx.state(model)\n",
    "                print(f\"New best validation accuracy: {best_val_acc:.4f}\")\n",
    "\n",
    "            # Log progress\n",
    "            print(f\"Step {step}: Train Loss: {metrics_history['train_loss'][-1]:.4f}, \"\n",
    "                  f\"Train Acc: {metrics_history['train_accuracy'][-1]:.4f}, \"\n",
    "                  f\"Train Masked Acc: {metrics_history['train_masked_accuracy'][-1]:.4f}\")\n",
    "            print(f\"          Val Loss: {metrics_history['val_loss'][-1]:.4f}, \"\n",
    "                  f\"Val Acc: {metrics_history['val_accuracy'][-1]:.4f}, \"\n",
    "                  f\"Val Masked Acc: {metrics_history['val_masked_accuracy'][-1]:.4f}\")\n",
    "\n",
    "    # Final test evaluation with best model\n",
    "    if best_model_state is not None:\n",
    "        nnx.update(model, best_model_state)\n",
    "\n",
    "    test_metrics = nnx.MultiMetric(\n",
    "        accuracy=nnx.metrics.Accuracy(),\n",
    "        masked_accuracy=MaskedAccuracy(),\n",
    "        f1_score=F1Score(num_classes=num_classes),\n",
    "        loss=nnx.metrics.Average('loss'),\n",
    "    )\n",
    "\n",
    "    eval_step(model, test_metrics, test_batch, rng)\n",
    "    final_test_results = test_metrics.compute()\n",
    "\n",
    "    print(f\"\\n=== {model_name} Final Results ===\\n\")\n",
    "    print(f\"Best Validation Accuracy: {best_val_acc:.4f}\")\n",
    "    print(f\"Final Test Accuracy: {final_test_results['accuracy']:.4f}\")\n",
    "    print(f\"Final Test Masked Accuracy: {final_test_results['masked_accuracy']:.4f}\")\n",
    "    print(f\"Final Test F1 Score: {final_test_results['f1_score']:.4f}\")\n",
    "\n",
    "    return {\n",
    "        'metrics_history': metrics_history,\n",
    "        'final_test_results': final_test_results,\n",
    "        'best_val_acc': best_val_acc,\n",
    "        'model_state': best_model_state\n",
    "    }"
   ],
   "id": "96eb39b2a0e54776",
   "outputs": [],
   "execution_count": 27
  },
  {
   "metadata": {},
   "cell_type": "markdown",
   "source": "# Training the GCN Model",
   "id": "4e4609c8f1b3797c"
  },
  {
   "metadata": {
    "ExecuteTime": {
     "end_time": "2025-07-19T16:14:54.813520Z",
     "start_time": "2025-07-19T16:14:54.804385Z"
    }
   },
   "cell_type": "code",
   "source": [
    "# --- Model & Hyperparameters ---\n",
    "LEARNING_RATE = 0.01\n",
    "EPOCHS = 200\n",
    "HIDDEN_FEATURES = [16, 16]\n",
    "DROPOUT_RATE = 0.2"
   ],
   "id": "23d6deba20b4676a",
   "outputs": [],
   "execution_count": 31
  },
  {
   "metadata": {
    "ExecuteTime": {
     "end_time": "2025-07-19T16:13:57.439151Z",
     "start_time": "2025-07-19T16:13:57.431490Z"
    }
   },
   "cell_type": "code",
   "source": [
    "# Create train, validation, and test batches\n",
    "train_batch = create_batch(adj_normalized, features, labels, train_mask)\n",
    "val_batch = create_batch(adj_normalized, features, labels, val_mask)\n",
    "test_batch = create_batch(adj_normalized, features, labels, test_mask)"
   ],
   "id": "8e6173d4a43c8c12",
   "outputs": [],
   "execution_count": 28
  },
  {
   "metadata": {
    "ExecuteTime": {
     "end_time": "2025-07-19T16:14:06.418785Z",
     "start_time": "2025-07-19T16:14:06.390080Z"
    }
   },
   "cell_type": "code",
   "source": [
    "# Print dataset information\n",
    "print(f\"\\nDataset splits:\")\n",
    "print(f\"Training nodes: {jnp.sum(train_mask)}\")\n",
    "print(f\"Validation nodes: {jnp.sum(val_mask)}\")\n",
    "print(f\"Test nodes: {jnp.sum(test_mask)}\")\n",
    "print(f\"Total nodes: {len(features)}\")"
   ],
   "id": "b5514f3d747a8fca",
   "outputs": [
    {
     "name": "stdout",
     "output_type": "stream",
     "text": [
      "\n",
      "Dataset splits:\n",
      "Training nodes: 140\n",
      "Validation nodes: 500\n",
      "Test nodes: 1000\n",
      "Total nodes: 2708\n"
     ]
    }
   ],
   "execution_count": 29
  },
  {
   "metadata": {
    "ExecuteTime": {
     "end_time": "2025-07-19T16:14:56.492450Z",
     "start_time": "2025-07-19T16:14:56.484133Z"
    }
   },
   "cell_type": "code",
   "source": [
    "# Create dataset iterators\n",
    "train_ds = create_dataset_iterator(train_batch, EPOCHS)\n",
    "val_ds = create_dataset_iterator(val_batch, 1)  # For evaluation\n",
    "test_ds = create_dataset_iterator(test_batch, 1)  # For final evaluation\n",
    "\n",
    "print(\"Batch format created successfully!\")\n",
    "print(f\"Train batch keys: {list(train_batch.keys())}\")\n",
    "print(f\"Features shape: {train_batch['features'].shape}\")\n",
    "print(f\"Labels shape: {train_batch['label'].shape}\")\n",
    "print(f\"Adjacency shape: {train_batch['adj'].shape}\")\n",
    "print(f\"Train mask sum: {jnp.sum(train_batch['mask'])}\")\n",
    "print(f\"Validation mask sum: {jnp.sum(val_batch['mask'])}\")\n",
    "print(f\"Test mask sum: {jnp.sum(test_batch['mask'])}\")"
   ],
   "id": "a9c9e79c06242a6c",
   "outputs": [
    {
     "name": "stdout",
     "output_type": "stream",
     "text": [
      "Batch format created successfully!\n",
      "Train batch keys: ['adj', 'label', 'mask', 'features']\n",
      "Features shape: (2708, 1433)\n",
      "Labels shape: (2708, 7)\n",
      "Adjacency shape: (2708, 2708)\n",
      "Train mask sum: 140\n",
      "Validation mask sum: 500\n",
      "Test mask sum: 1000\n"
     ]
    }
   ],
   "execution_count": 32
  },
  {
   "metadata": {
    "ExecuteTime": {
     "end_time": "2025-07-19T16:15:17.243085Z",
     "start_time": "2025-07-19T16:15:15.980563Z"
    }
   },
   "cell_type": "code",
   "source": [
    "# --- Model Comparison: GCN vs MLP ---\n",
    "\n",
    "# Initialize both models\n",
    "gcn_model = GCN(\n",
    "    input_features=features.shape[1],\n",
    "    output_features=labels.shape[1],\n",
    "    hidden_features=HIDDEN_FEATURES,\n",
    "    dropout_rate=DROPOUT_RATE,\n",
    "    rngs=nnx.Rngs(0),\n",
    ")\n",
    "\n",
    "mlp_model = MLP(\n",
    "    in_features=features.shape[1],\n",
    "    hidden_features=HIDDEN_FEATURES,\n",
    "    out_features=labels.shape[1],\n",
    "    dropout_rate=DROPOUT_RATE,\n",
    "    rngs=nnx.Rngs(1),\n",
    ")"
   ],
   "id": "949914cb7063684b",
   "outputs": [],
   "execution_count": 33
  },
  {
   "metadata": {
    "ExecuteTime": {
     "end_time": "2025-07-19T16:15:28.236117Z",
     "start_time": "2025-07-19T16:15:27.934095Z"
    }
   },
   "cell_type": "code",
   "source": [
    "# Visualize GCN model\n",
    "graphdef, state = nnx.split(gcn_model)\n",
    "nnx.display(graphdef, state)"
   ],
   "id": "94c49478a07809ef",
   "outputs": [
    {
     "data": {
      "text/plain": [
       "<IPython.core.display.HTML object>"
      ],
      "text/html": [
       "<script> (()=>{ if (customElements.get('treescope-container') === undefined) { class TreescopeContainer extends HTMLElement { constructor() { super(); this.attachShadow({mode: \"open\"}); this.defns = {}; this.state = {}; } } customElements.define(\"treescope-container\", TreescopeContainer); } if (customElements.get('treescope-run-here') === undefined) { class RunHere extends HTMLElement { constructor() { super() } connectedCallback() { const run = child => { const fn = new Function(child.textContent); child.textContent = \"\"; fn.call(this); this.remove(); }; const child = this.querySelector(\"script\"); if (child) { run(child); } else { new MutationObserver(()=>{ run(this.querySelector(\"script\")); }).observe(this, {childList: true}); } } } customElements.define(\"treescope-run-here\", RunHere); } })(); </script> <treescope-container class=\"treescope_out_b4aa680e7add4c2b9ac1cf36f68044de\" style=\"display:block\"></treescope-container> <treescope-run-here><script type=\"application/octet-stream\"> const root = ( Array.from(document.getElementsByClassName( \"treescope_out_b4aa680e7add4c2b9ac1cf36f68044de\")) .filter((elt) => !elt.dataset.setup) )[0]; root.dataset.setup = 1; const msg = document.createElement(\"span\"); msg.style = \"color: #cccccc; font-family: monospace;\"; msg.textContent = \"(Loading...)\"; root.state.loadingMsg = msg; root.shadowRoot.appendChild(msg); root.state.chain = new Promise((resolve, reject) => { const observer = new IntersectionObserver((entries) => { for (const entry of entries) { if (entry.isIntersecting) { resolve(); observer.disconnect(); return; } } }, {rootMargin: \"1000px\"}); window.setTimeout(() => { observer.observe(root); }, 0); }); root.state.deferring = false; const _insertNode = (node) => { for (let oldScript of node.querySelectorAll(\"script\")) { let newScript = document.createElement(\"script\"); newScript.type = oldScript.type; newScript.textContent = oldScript.textContent; oldScript.parentNode.replaceChild(newScript, oldScript); } if (root.state.loadingMsg) { root.state.loadingMsg.remove(); root.state.loadingMsg = null; } root.shadowRoot.appendChild(node); }; root.defns.insertContent = ((contentNode, compressed) => { if (compressed) { root.state.deferring = true; } if (root.state.deferring) { root.state.chain = (async () => { await root.state.chain; if (compressed) { const encoded = contentNode.textContent; const blob = new Blob([ Uint8Array.from(atob(encoded), (m) => m.codePointAt(0)) ]); const reader = blob.stream().pipeThrough( new DecompressionStream(\"deflate\") ).pipeThrough( new TextDecoderStream(\"utf-8\") ).getReader(); const parts = []; while (true) { const step = await reader.read(); if (step.done) { break; } parts.push(step.value); } const tpl = document.createElement('template'); tpl.innerHTML = parts.join(\"\"); _insertNode(tpl.content); } else { _insertNode(contentNode.content); } })(); } else { _insertNode(contentNode.content); } }); </script></treescope-run-here><div style=\"display:none\"> <script type=\"application/octet-stream\" >eNrtXQ1307i2/Su+nfUu7YMmkT9jGFivLbQwAwxQZpiPNytPsZXUNLGD7bSEu/jvT3bSNKnT5njwh2TO3DWXIVES+WwdnX22pKMfo3g2Yk9acchY5AQT1guDIFb+o0yCyIu9wH+ohGxEY++CPVIGgR/vD+jYG80eKuPAD6IJdfjrl2dezPbTvzxUJiF/ZeRF8X761fvxbMJf9QOfv9ynzvkwDKa+u+8EoyB8OP/oI2Xxt/6IN+Df57nx2UNl4MW8mR8zP36kjD1/f/E66XT+i39X8Hk/8r54/pB/LghdFu7zlx4pE+q6/MX9ERvEDxXVOUt647P9M+YNz/grpGUkv+fH1OMPt/z+xX/sX3iR1/dGXswfkU7jYNl23/Pj0PMjz0l+ls3fXTzX1x/bczv+uLTjfjj1+W+G/LXICb1JrCSGeHyPTiYjz6GJaduBE7PETCGj43tPdnf3Hj/hlue/F8WKywZ+pDxW4jMvag1Z/I7D8jpw2e5e6yyI4lb6Pn80Fiu9CfOTRz5wkm9NPvTX35veeU59d8T42/50NHo0/4UW7+ZpEPj81d3LIDzfU1b7EHzgLyVvrb0ce07y4oSFgyAcU99hLT+43N1LBwL/gd3MO8r+/EM/Kpq6x7/HGyi7N3rdGjF/GJ8pjx8rnaTJnV0PWTwNfW53hY0idt2xs6mf9OzmV0dn3iBO+pc2SP7jK//fLb+wy4ef7waXrZB9mrIoPvC9cQrXcUjHbHduk73kOx5lfmgyjc7mZny04RmvfuLx/DHueEp4H5JezIGMg+FwNHffXupifLROku9KXmGj+IHCLvgAXyCZ9C79e+uczRKj74Q7SYcWjVvOiEbRS+7Fi+/d3Vl+Z2/Mh+HO1Y9/3eP25MM/HeNPfmxvcgDXu1DSL3y8sz7P7Cgx7fMnZZ8f73R2uOuGcbZJ4PMucmP4/K27nGGzBXaTz1w9+w53xvl8l044Pdrvh+wiHT/p/POD2VVpp8OfatHACcZj/sGVFjT9J3n4G03oQz+Idx+eBRcs3NvQfr157/KM+T32ecIhZ2760dYgGLm0z5/A54/28IxGu09GtM9GT9bf6c2fc/5zzhlzzpm7t6f8955y+69yC/Jh6a606PB/BoPrFv503GfhagO7SwzzukGUzH7D1d/QiEGMpMFa926JHdxem56Ct3a9aDKis6sYcbOh8kRJrfDwYZ/xWYWt9MBJ/3m08ffm0/8+Seb/RdzguC5/y/PToNAfBUnAufU3UzSzv+zS8DxidMhHqp/9dEFoLvuQfHTzh67ar/UwjWMPlXv/qxp9516d3Vv/0K2dNCvoZIJj8sPTMEoAnAQ8mrNww+96UXE/m7pC+kP76fwT3TbGi/nV68eL2ec4+ystL+oNvDCKe4HfS4b/Bte6y5VaqpF400aolG/u/hzxm11MnmpMwyHnX/NupA799Rt/jU9pk1l/Gsec+GyagK7f3jRod5SdG624ITn73dz4fxnR3Z0b5PneK8pHhUdHyuls3A9GkfLLNE6e11WO5p/kf05m3DH2L1n/nBPh9OPRmMe2s5TyUj/mH/doxNwlff6BdZL/PcoO8/mnU9raadlsfPMp5/6x4Sk2T3fXn2xd0qjncEbLDbv8PB3Ea6Hkap6+6zdvfGb9J1dNr1zQcHd/36Ux3ac+BzYlRnurLyc/krC9kPpXozn9WoVECuMW41R+P5jG+R5l2QMOjMfcf633JP1J5V/eeBKEMfUz390Pg3Me8JNXriej7dZd+diKPa9g/tpKuBPvmNtzOPN2Q+Yvurqe2/DvXG9YGN9Yus4ikK65qkNHzi5PwDj7J5PPKWFsRTFNPr/sb2k9WaSE8564QcyfPenFqvE+TenI53y6x1PWgfeZf8mam3RTN+HJAw15hy9p6HPH611N7FdYDAbUIdqGhhPOvv+zzEbDRfKZzF4LIy1e2u+00mn1Ojd+mCasNNwfhtT1OGy7CtEMlw0fKAEf0kOmdHj3TOfswXyIc9qcTBjpS8rCzJm+ZGbWYqZtJTNBXz3P11ZKcROKvWmOTUIen4g3tpmTs5VW/Fdv+6L5N3A0RnTC58LtfDJ/sLj9F6472lrj87e0KaIfm35izRRXDXqcs1/ngZvMcnvzYrzygXJDVmqt55AKsMM3rbyEosc/1/PX8t1/9rFKnxfY/TVQ7wYS8qsgE0FsCfmxbQ9VhFyWKBjKvw7CkM5agzAY77qBM01S61Yyi0etCzqaMj577LWiYMx207k90T6SP1tzHpboHkAmtnOPz3R7S6UpOmMsTuQodqkcnZ6eJk9zmryWiEvpm62Q8Ud22OnMd3b/738W7M9hV1EmPxOcB6fklxI7hmM6Wrx2uVA29US5iELnoTINR7sJLXmYvN++DAYD9VGfEx9Tf+B27JNXw4PDg/SfF28PDoL0vw7fXfL/f358cPDs4K5/DscHB8Pz4Gf3xbPDo8s/Dg7e/3H008GrF4dHB8fDzy+evzyLo8NXHhtqx09/V1++MP+4OJ1MvTevjPfkp99fvPvt1cWHV1/iN7Pj46P7H4bn773Dp50z7+nb6U/P3JOPnef99uDihTv59LN59umD572dvvJPzp4Pfo0PfjUPX4f6wfEL//yZ6fw6nfr33xmfnOj88mJwPGp/+jx8FnSH/Z8uT7rk+UHbP3hnvAzDn8i7+8MvnXdu5+CnARm+to4uTz6qw04wm76zrPEzYl4+/93+ZTicsPfnM5296H8xnH74y0lMD4ZvX7y+fEqjWfR2+uLF7x+eHV8evHk7efGH+2u7fX9ovbd+1+LO4Oc3nw4uDP6dLw9eWwevLg/Gwy/vTu9P/zxlz37/rA5M58tr/d3zmTE9PPj5y+HHyfFE856/PXrW+XP6Rj+1/MHhy2fPj1+ND7z73Ytn6plPzqz7/d8uf/94+Ty8eHry65H/cfDs2TC+/4vz52hkGfbRT5eH3TNbf/Xq5FQ7+fNgOH5hfDx8a8fvT9hz+9nh4YsT7elQf9f+w5n1D044pr/93D54e0IP2Kuj0cHzL89+Gf4ZD83DN8Nffnnx9PDce2uw48Pfjw6PHa8zOQuDic/HxuTPZ0/JF3J+OjgaxGezn/3nLj2Ong86r8cnz16bh+7Bp99+m9A4Ov1z7LrUs9XBF1v/1fv4yZyMQ/OX4I+jUy88GV/8dKKdfjjVjp+pzuHbwfv7z0fB5EQ/ji4NOvxkdr0/2enr0eSDf/j8BXNfhWz64dPJ0Zh8OA7PT08/G6r54UN0ecB7tKek0nK8ey8d1vcSvvN//P+W3k/dYMLJ3rVLpoJ4q9W6o8WDuc/+zb/rbonxLFVoUz4+TxX4d/Ph4TvK7pyxr+vn3AXfB4n78mYLRp+8FvHpIfmKJEVJeD29pF6s+PTCG9I4CFv8myf9gIZu6zL0YvaeZ/O719/FH3bxXdciLWeZuzsr+Usiz/Jfee+NGU90dq/0+8znQjbmyUjmo18fKGqn00m5JJ98Oa3cTTPxzb+7kqTsXHcu0SCuZrBE0d5RflCOqTfiE1scKEnjf6UzG2ePPififDb2uM0YdZMc6/6q7RZS8xaROcnXrlTmdTHvJvPdefLjPK7/6PmT6SLS7KSRvB983tn4JYugz9+cB3zeifTD67+7Hml31t+8kW7sPBmM6OeW739ucZ4/OWvx5+Otnyz+OElee8oGuz+2F51d+a57V4T43vrLyUu90cVo/eWdTJa4c9f7O0+SB44e327RbzHg0nB/bXyw69z3nhL4R8mQfHwvp0+mkv/ePWWZmD/eaaWPtKOk4fPxzkrSziPw/M1Ea7mpKvA30xHIZ7gz/t8Lsz1ZR6pCYCoa5LDB/e9R/GiDCYp0ggTsW32g1KHyV+fvO0cLf1+GAZOiXrIjr339HYtcOxuGyfV7PyhXE9/R66W5sqjv3PWV3+ROqyuC88GdvqH8+4fPqvWo1xtTz+/1Wrx781f+Pbxj+G/uYOlDtpUAuG3cpo3++eDd/seDrD2WOe/OEwWNdteYnK+GbxiZ8wXanScdSa2cPthWM6etqrAzp8Us7N1q7cWC+Q4PQT6T1OIrj7jV7ittq7A+H8w9GnN+wA1wk2quD3dNUuOvP+FW+683rwKCMYtp8hNID74fenCF+dbheNWwTJpwl1keoOmgpru3XEK7d4ev3Z6urQ/sVqt1e6Pr71oZ3PM/9u5OFTPtJZvOy8sF4RM2Jv+VAU62AE4w+S8nut/eaG11+NuUVeaz0HPezBIVWUAucaPza90VlVsQSBZNvjWLviMiKcoPCp8s0nVTGqcbaBStQywlGCjtXyMWRm1vGIQjb0zDwDmj9Au7YG7QHnu+NwjCIdPaI6/fnszis8DXWqTTjpIzLRPqnNMhi9oJKG0OSnsOymTWUDmkGiALkEOkT9AJSBIhKIkUaXGwJEIElkQ6kho/jyRCvhtJpEDG/CIZqyyaU4XaqDMwVSZFpMrVkWk++90+NV5Ruf98ldQ1r5BoLR8TDN71R0ojdglDvjHwn9PoLHGwV3QySY6lBf2PzIkT6tf5rKmD/oCqdicrO0BmgcR5uA0fAwbXDfjfzN4vHO9oGsXBOEXll7Rnp9wc7K/dYzqK2AMl/WPv7wfKX3/v7f1jaWc1gVj+dKvV2vDY8khtqyNrgQR8KC4+UOpA/Eg/80yh1eN/8jQg+cXW0vhrw5B0TNUwNP2OYVittqcq1+H0n+t8Mo+oCiISirfCRbfytDwUbwUUb9UtgKso3lYg3maGS3/qjWKPQ7lonZSIEVB9TbolqsqqQsQ5FTd41W6071PRVEGKpoqKZpEWByuaqsCKpiqp8fMomqo4iubto1+itE6FpnUqpnUNTOvKZPmY1gmY1mlbANcwrSttx+1LOmOh4Ntu0z6KmrlpkCREw8ytdqN909EcIqmVAdmDhllbkRYHZ22awFmbLqnx82RtGh7NQaJQ7fCEZbUaHtKRyHQoCEidH6IgIKAgoG8BXEdBAA/p4CGdVYcB5NM6HtIRPtRVAyQuaadGBCTpOoojRVocLI7oeEincOPnEUd0PKQj5yEdHZoq63hIRxzXzHtIRxf+kE7X6OIhHQmlNj3vIR1d7EM6qoOHdIQZURVEJBRvhYtu5Wl5KN4KKN4aWwA3ULyVQ7z1/RZnUc4ZjWLPuTG+nobBhCfoIsu3691fdFhUAdeA6H5GxQKuWrx86/vtFVAaK+NWA2eB+9tUSa0MyJUNlHCLtDhYwjUElnBNSY2fR8I1cH8bUqfvgzrB9AWjYMVbOgolkWhULagoGgkX6srTEFA0ElA0MrcAbqJohDv+cMffqsMAFAYTd/wJH+qqARJ3/KVGBMgWJspFRVocLBeZuOOvcOPnkYtM3PEn544/E5oqm7jjTxzXzLvjzxR+x1+fmrjjT0Kpzcy7488UdcdfMgxdpmJZbnFGVAURCcVb4aJbeVoeircCirfWFsAtFG9FKMsdTycjEeXXtF+i6qwWRJ6zsLxb7Ub7PjVNC6RpWqhpFmlxsKZpoaZZuPHzaJoWFuYu2vywxM7CxK6BiV2ZPB8TOwETu+4WwLuY2NWR2C2HS+gPE2V08aF3/jASeXfNordJN0XN9rqQxKVb8a4au1v4npoFFI3dVFMNjgWev9IktTIgCepi8lmkxcHJZxdvhSrc+HmSzy6ev0K+Iz7fgSX03RrOTonBeySSZ6pFE+UZ4eJTedk6yjMCyjP2FsBtlGfw0BQemlp1GIAsYOOhKeFDXTVA4gaD1IgArcFGjadIi4M1Hhs3GBRu/Dwaj42HpuQ8NGVDU2UbD02J45p5D03ZIh+aIjrTO6yr4aEpCaU2O++hKVvoQ1Muw0NT4oyoCiISirfCRbfytDwUbwUUb0lnC+K8Acq3Usi368vS16vTpzzs0rEcS9Tzvooq3HJfAAh+V60qk24N3JknKpIF7s3TZbUzIENeNkPlthibg6XbG43F0m6lHfJ5xNtse9yhh5ypUZwJpiistvzOuJNEAlHVeKJEJF58K1ExQJFIRJGIbIOcoEiEe/xwj9+ay0AEBoK7/MQPeBVBifv85laEqBYE9aJCbQ7Xiwju9Sve/Ln0IoK7/eTc7ZcgB0ydCe73E8g982742/wZsXb82X3c8Sej/Ebybvnb9AmRCqUTB/f8iTOmqohLKOmKF+NK1PdQ0r2NlP5GQy/pXV18VN0Gu4qyrtzr2Ef8m2I5lrHTrgor56ogDVCtWM7Vbdz5JyiSBe78M2S1MyRVVlHJLdTmcCVXrVzJvasm+VIlWtzGQYfz/3i4iBjcGHQ6WgSIrxImWSo4yVIr2Af1jzQj3RUmVcc8rnJCj3mcqHmctg12DfM4ufO4n9lMjiyOd1TYHE4DMX+t6tNbKuZwgiJZYA5nympnSCahYQ5XqM3hOZyGOVzF2ABzOE3QHG5ANMzhBPf/Esk85nAiHq/Qt0GuY/4mR/7m+63EI2h4Y3S9TF8UOYW77vm8r8JmcTqI++sVZ3GqrReexvl+ewFJczO5itAsMJOzZLUzJJ/QMZMr1ObwTE4X+FwF0WS1f66DFToW4kDi1GjiBBQv9BoKcYhDoGQSpCrGFNUi8WJcidIBqkUiqkXGNsgNVIuwGAcW41hzGYjKYGAxDvEDXkVQYjGOuRUh0oWBolGhNoeLRgYW4yje/Lk0IwOLcUhajMMAp84GFuMQyD1zF+MwJLh+y8RiHDLKb0buYhyG2BdwEbyAS6AxVUVcQklXvBhXor6Hkq6oh7jMbbCbKOvKIeteLEZS9iTXGxqKfavEatfTzgor6ZogHdCsWNK1bFK4oruKSXN13YrwLHAjYFdWO0OSZhM13UJtDtd0TTGPdMl4XMsEp1KmeMe1koR80GVdPK4luG+XSNsxWxNxA461DXJL0kzt7iQhCb/v+WcyKYFcDmuBiKaFGwiKsTWE8lhINgu1OZxsWriBoHjz59pAYImzgeB2D5CJ9Ftg0m/h+kkTGXmp9AwZuajrJ91tsHdx/QTXT3D9ZOkNkDSoi+snkkS9ivAscP3EltXOkMSqiyltoTaHp7RdXD8p0O7AVKoraslyw8b1E8F9u0TajtmaiOsn9jbIbVw/EddhbRDRtHH9pBhbQyiPjWSzUJvDyaaN6yfFmz/X+omN6yeFAwAk/TaunzSRkZdKz5CRC8jI1c4WyHkDXDspZe3k5Oj1SzpjIlY47PXG1PN7vdZVH0Vdy+CjE5CSXLUqM1RJNdHXY7ZvWjIgHVkNDUgmls0wjSvG5uA07kZjsdI4XVbz50njsu2x9jJyhpIHKCzNXW1ZVZoruEYgtvFQI5A8YUSNQESNgGyDnKBGgGWHsezwmstAEmyCZYfFD3gVQYmr3nMrQpJ2gnJJoTaHyyUEV72LN38uuYRg2WE5yw4nyAFTZ4JlhwVyz7xlhzd/Rqy7wA0Vyw7LKL+RvGWHN31CoLLDTMOywwKNqSriEkq64sW4EvU9lHRFlHTVbZCrKOlKc30uZ1POGY1iz7kxwp6GwYSn64LfobvS/UWHhZV1VZAWqFYs66pWGffnrsDSXHG3IkCL3AhHZDU0JHVWUdkt1OZwZVcVWNk1ZTV/LmVXxY1wyKK+ExYFFBzUCopLCM2mZNKRKoYVdSTxAl6JogLqSCLqSNo2yDXUkXBrIG4NXHMZiOSg4dZA8QNeRVDi1sC5FSEyhoYCUqE2hwtIGm4NLN78uQQkDbcGSro1UAOnzhpuDRTIPXNvDdRE3hqoqQOHdFwTtwbKKL9pubcGamJvDSS4NVCgMVVFXEJJV7wYV6K+h5KuiJKuvg1yHSXdCiTdzIDpT71R7HEwF63j6WQkoiib9ktY9VUHSXY6FowTwGzfqdKpw5ROHZXOQm0OVzp1VDqLN38upVPH0t+FAwBM9HRM9JqY6JXK+jHRuyvRe1dTomdsg9yQItHbemJCk3A+NmAc0CiYA+JMLAL0JbolzsQiSm7mNshNlNykOUeSeAQNb4yul+mLgh8hWfR83ldhFTwTJEWZVZ/BtfUyjo0sIGnuFsqK0CzyAK4qq6EhjNJEVbFQm8NVRVNgVZFosto/l6xo4glcZE6NZk5Akdes49ytMAxKJqGoYkxRLhIvxpWoHaBcJKJcZG2D3EK5CA/d4qHbNZeByAwWHroVP+BVBCVuRZtbESJdWCgaFWpzuGhk4Va04s2fSzOy8NCtpIduLXDqbOGhW4HcM/ehW0v8Q7fUwUO3MspvVu5Dt5bYh251PHQr0JiqIi6hpCtejCtR30NJ9zZS+hsNvaR3dfHR7jbYuyjryiHrXixGUhJ413F4Q0M6FlnUXe162llhJd0uSAfsVizpWjYpXNFdxaS5um5FeBa5E1CT1dCQrLmLom6hNoeLut3KRd27jrZmBCOZcqkuOJfqVrDl6R9JQ4wJk5FjulY5b8d0TcQdOPY2yG1JU7W7s4Qk/L7nn8nkBHI5rA1imjbuICjG1hDKYyPZLNTmcLJp4w6C4s2faweBjcVsCgcASPptXEBpIiMvlZ4hIxd0AUXrbIGdN8AFFFxAwQWUK28ApEFXrXABRfSoVxWeRS6g6LIaGpBZLZthTluMzcE57Y3GuIDybXaH5VKrLYVaQCEdBxdQBPftEnk7pmsCLqBoZBvkBBdQxHVYAmKaBBdQirE1hPIQJJuF2hxONgkuoBRv/jwLKNn2uIDyzQAAST/BBZQmMvJS6RkychEZuboNchUXT8pZPDk5ev2SzpiINQ57vTH1/F6vddVHYRczVFBKouK9bgKY7dvWDAxZDQ1JJlRM4wq1OTyNUwVO43RZzZ8rjVOx+jJyhooHKDDNVatPc0XXCIQ2HmoEkieMqBGIqBFo2yDXUCPAwsNYeHjNZSAJtoaFh8UPeBVBiavecytCknYN5ZJCbQ6XSzRc9S7e/LnkEg0LD8tZeDhBDpg6a1h4WCD3zFt4ePNnBNoc3R90By4WHpZRftPyFh7e9AmhCg87WHhYnDFVRVxCSVe8GFeivoeSroiSrr4Nch0lXWku0OVsyjmjUew5N0bY0zCY8HRd8Ft0V7q/6LCwsq4O0gL1imVd1SrjBt0VWJor7lYEaJEb4UxZDQ1JnXVUdgu1OVzZ1QVWdqUd8rmUXR03wiGL+k5YFFBw0CsoLiE0m5JJR6oYVtSRxAt4JYoKqCOJqCMZ2yA3UEfCrYG4NXDNZSCSg4FbA8UPeBVBiVsD51aEyBgGCkiF2hwuIBm4NbB48+cSkAzcGijp1kADnDobuDVQIPfMvTXQEHxroEM6hoFbA2WU34zcWwMNsbcGqrg1UKAxVUVcQklXvBhXor6Hkq6Ikq65DXITJd0KJN3MgOlPvVHscTAXrePpZCSiKJv2S1j11QRJdiYWjBPAbN+p0mnClE4Tlc5CbQ5XOk1UOos3fy6l08TS34UDAEz0TEz0mpjolcr6MdG7K9F7V1OiZ22D3JIi0dt6YkKTcD62YBzQKpgD4kwsAvQluiXOxCJKbt1tkHdRcpPmHEniETS8Mbpepi8KfoRk0fN5X4VV8LogKapb9RlcWy/j2MgCkuZuoawIzSIP4FqyGhrCKLuoKhZqc7iq2BVYVSSarPbPJSt28QQuMqdGMyegyNut49ytMAxKJqGoYkxRLhIvxpWoHaBcJKJcZG+D3Ea5CA/d4qHbNZeByAw2HroVP+BVBCVuRZtbESJd2CgaFWpzuGhk41a04s2fSzOy8dCtpIdubXDqbOOhW4HcM/ehW1v8Q7eqioduZZTf7NyHbm2xD91qeOhWoDFVRVxCSVe8GFeivoeS7m2k9DcaeknvauKjemcL7LwByrpSyLoXi5GUBN51HN7QkI5FFnVXu552VlRJl3sDQAe8alWZpGvZpHBFdxWTxuq6VeFZ5E7ArqyGBmTNy2Yo6hZjc7Coe6Nx3UdbM4KRRLlUYkpYLrXaUixpSHOFycgxXauct2O6JuAOHJ1sg5xImqrdnSUk4fc9/0wmJ5DLYQmIaRLcQVCMrSGUhyDZLNTmcLJJcAdB8ebPs4Mg2x6L2XwzAEDST3ABpYmMvFR6hoxc1AUUdRvsKi6g4AIKLqAsvQGSBqm4gCJJ1KsIzyIXUGxZDQ3JrFTMaQu1OTynVXEBpUC7A3MpVdAFFEL6uIAiuG+XyNsxXRNxAUXbBrmGCyjiOqwGYpoaLqAUY2sI5dGQbBZqczjZ1HABpXjz51pA0XABpXAAgKRfwwUUGCOXC/4SyVmdYOu6wkYs+cQ/PlD2t4Qz6p1oVjFX3hasil/X+KvSZGZ7hCoiJlWXzlSdAe/WhNZft2/ZXGskHWbz6Svij+AP+eyVZpm9uSLW4y/TeJF5yjWJrWECxe6vGnbdFizOHPDn2d2Tgjmsm54AISKS8gj1m2nEnsQeWPLUKa5gW1u4AvkTaUa4GjocMTpjYSR5qCLAUEUwVNUIEdC1MFRJ6YElT5sYqjI2VyE2V2UNVZLq6mumh0UlFaNSjRARIEQYlWT0wJJnSIxKGZtrEJtrqPcJ5ywaMFxpGK5qhIgAIcJwJaMHljx1YrjK2FyH2FxvRriik8lo1qNO7F2kDyB5wNKBAUv/+6/vsCzMNwTIpCa159TokrAop/8tiRB/QUdTdufmtffhVKrNazdRaKWPCMVs3lpOfkKUgcdG7ndRJLt6n0TmWRe8JbMgZJ4ZmxsQmxvNYJ5uGEyCaSw54TSAhNNAhaRGiAgQIoxTMnpgyXMmxqmMzU2IzU0U9IVzFhMYrkwMVzVCRIAQYbiS0QNLnjoxXGVsbkFsbjUjXPXDgLoO5dC53lj2TbwWMFxZGK5qhIgAIcJwJaMHljx1YrjK2LwLsXm3ISogi1mYVJSMYs+RPFp1gdGqi4vPUi0+d4Ehrtucxef00mlJ1yW7uVafu7j6LC/K5Tsl8s664C2ZAyHvzNjchtjcbgbvDOXX8m0g3bSRbkpFN21gZLOlp5vL85wtVVIWYufimjZyTXlRLt8jkWvWBW/JvAe5ZrY4BKw4S0OKwIX+MHUC5jTgjA2BVoEjHWSeUjFPAi0eRzrSc8/tm5GlK6fUyUVGV5sjG5UO5wq8FPlobQCXzY2QkWatDvMp0hhGKn2FR3CJR6zxWCtIUMfCYCWnF5Y9bWKwylodVMaMqHgERzyHgdaAJFgEslaQCBQkDFtSemHZEyiGrazVQeXMiNaUvc0DOh3JXuGAQItAEqwCWStIBAoSxispvbDsmRPjVdbqoCJIRMc0SzyHgZaCJDqGrTpBIlCQMGxJ6YVlT6AYtrJWB9VEIg0pJOfwSVT6JAtaR45gIblaQSJQkDBaSemFZc+bGK2yVgeVRCINKSd3zmayxypoETmCVeRqBYlAQcJYJaUXlj1rYqzKWh1UD4k0pJZcTIeyxypoBTli4VkVuc6qQAvPEatpZ1U2LCtLR0+sfGdVLDyrIjHOFXgp0tDaAC6bECENzVodVB6JNKRGZIIXDWVnotDqkKSLqkmdIBEoSBiupPTCsidODFdZq4MqrBAbt1GJ5zDQKnPExrBVJ0gEChKGLSm9sOwJFMNWxuoqaOJTG1Kjqu9R2SsCqNDKVGoHg1WdIBEoSBispPTCsqdNDFZZq8N8ijQnWPU835N9368KrWGjElyflmp9WoUWvlGJxOvTa9AWPxzWomTvDl+96cc/bHf2Hv9m8Ej7mA60VjLjeHTkfWFhdGO48ZeCaPlSdszdNdMUMT9eMY+EnwymflpoVkk7pdBY6XwmHdcx3IHTWaUags2EOXYErDYvxHduMjJF+UF5ysH3mZsYMJnuFMNUgoHS/jXi8Le9YRCOvDENA+eM0i/sgrlBO7nJbBCEQ6a1R16/PZnFZ4GvtUinHXkx259Q55wOWdTm46ndi0Kn7fvttUE1mf0z+ioF868DYtz00dzQhxlebQCXnWtghpe1OqhkkdqQmm8u//kh81lIR7LneNCCb6qKOZ5cOR60SpyqYo5XUY63MXVLxtCi8cq8Ilq2ttK1Zc5mEYcZwuZsaj5Cr9aQs6m6WXzWxsdT8m+zs7U6wMVsrblBDLO12gAuO2/AbC1rdVDBPrUppU4TcGTP06CFTlUsdForSAQKEkYrKb2w7HkTo1XW6qA6fWpDCp16fm/AaDwNmfQ7HqFVTlUdtUW5tEVoaVRVb8w98ETXNFmzaD2fWqKjWiIxzhW4JfLP2gAumwkh/8xaHVR5UzWaUgMy9Jn0y9rQksUqliyuFSQCBQnDlZReWPbEieEqa3VQ8U3VbFK4asRxG2jpYtVsmFyipM2Y23jZBFr3WDWll002biK6oKFHfYf1IofyQTNsJe+OAv6XKIl76RGWxe4ik7qqRjTo7qIHgjp0HtnFrGEHkqZawh4bQU1IpjkHSXZtAJdN95BkZ60OKi2qNqTWejCNG7MoCS26rmLRdcnYNbScs2o1Z1HSlJWW5KuxrmKNdZlxrsApkX7WBnDZRAjpZ9bqoFLBakNqrE9oSMe9RmzjhhZaV7vIPuVin9Dq7GoXj9vWedyWU+fJ7GrsDEYBjTVVkMO26RvKfIq77uqij/OXRT1s281H57vV03kp2LL4ZsSsSKZggVlRbQCXzc8xK8paHVSJXm3IVR6c1DhexHsue04EvcVDxVs8agWJQEHCiCWlF5Y9d2LEylhdA018WqcpESsYBzFrhJKnQa/z0Dqo5Eml5GnQO0C0Dip5whdHX44032+l887N2uhrk5JoVffWOndVd4/ZXdLpiFp3b+4VYA1rtXl1tdL1oja9JsOrzYdXsul1MbyaXHevFnBRoGxuDMR0rzaAy048MN3LWh3mUw25B2sasV4DLm7UoNdgaXgNlmSZHvQuEI1Iv2P4nM0ug5C3eB9OmaysJN8dPRre0SMzzhX4JbLP2gAumwch+8xaHVRrW5P2jp7loRh5/QJ6G4+m4lJ4nSARKEgYnaT0wrLnSYxOWauDamtrDbmToBf0PzIn7vGXaSz9Wjj0cgINLyeoFSQCBQnDlpReWPYEimEra3VQSV6tIZcT0MlkNOtRJ/Yu0geQPXBBbyjQ8IYCyaR9aCl0TUdpXxBPzCPt4xUFMuNcgV8iC60N4LL5ELLQrNVBlba1hlxR4IbBJJjKXu9Zg95RoOEdBbWCRKAgYbyS0gvLnjkxXmWtDipaq5ko9ovnMNBrCjQTw1adIBEoSBi2pPTCsidQDFtZq4OKXWoNqfrdDwPqOpSD53pj6XfxQ+t+axaGrTpBIlCQMGxJ6YVlT6AYtrJWB1Uj0xpSLdhlMQuT89tR7DmyRy1ovWAN6wVLtkANLQGpdZuzQH1MR5G0K9T5arNqWJtVZpwrcEzkoLUBXDYbQg6atTqovqDWkNqsYQN0fmhZVs1G6ikX9YTWctXsxlyU1mmpsvIROx/vtJF3SoxzBV6JvLM2gMtmQMg7M1bXQRxGb0iF5dAfpm7AnAacztGhJZZ1LLEsFwPVoeUl9Y70DHT71mXZmIqerwisjkVgZca5Ai9FRlobwGVzI2SkWavDfIo0hpHKvnVMhxaA1QluHasTJKhjYbCS0wvLnjYxWGWtDqqFpqvNCFYJXjSUPVxBi0jqWESyVpAIFCQMV1J6YdkTJ4arrNVBNdB0LCIpoMNAi0jqWESyVpAIFCQMW1J6YdkTKIatrNVBRZP0hhSRbMCdUDq0cKSuY7CqEyQCBQmDlZReWPa0icEqa3VQxSTdaE6w6nm+J3u1OR1abU43cDOVXJupoCXqdAPvqxf+vvqP6UBrJTOOR0feFxbevLCevxREol1Un3bq6oJ61zHcgSPqBfVzN4BvXzPquKDeLOqCej6e2r0odJIL6tcGVZOvqa8FYtyh2NzQhxlebQCXnWtghpe1Oqi4oN6Q6qwu//kh81lIR7LneNDSrLqJOZ5cOR60nqtuYo5XUY63MXVLxtCi8cq8Ilq2ttK1Zc5mEYcZwuZsZj5Cb9aQs6m6WXzWxsdT8m+zs7U6wMVsrblBDLO12gAuO2/AbC1rdVBNXb0hRcndBBzZ8zRoLXIda5HXChKBgoTRSkovLHvexGiVtTqo+qbekFrknt8bMBpPQyb9jkdoJXIdK5FLpi1CCx7r3caUgySmrDl0virkOlYhlxnnCpwS2WdtAJfNg5B9Zq0OqsGpN6QK+TkLfSb9oja0Drluo1hSJ0gEChKGKym9sOyJE8NVxuoGaOIzOk0KV004bGNAKxcbTatcrKTNmNt00cSA1kY15K9gvHEL0QUNPeo7rBc5lA+aYSt5dxTwv0RJ3EsPsCz2Fln6QCcWeG/RA0EdOofsYnRq2H+kqZawh0ZQE5JpzkGSXRvAZdM9JNlZq8N8qiH1mINp3JQlSQNal9kguCQpF7uGFnM2CC5JiuCGebgxwSVJiXGuwCmRftYGcNlECOln1uqgQsFGQyqsT2hIx70mbOI2oGXWDRXZp1zsE1qb3VDxsG2dh205dZ7MrsbOYBTQWFMFOWqbvqHMp7jrri76OH9Z0KO280ENp/Nq9XReCrYsvhkxK5IpWGBWVBvAZfNzzIqyVgfVoTcacpEHJzWOF8l/Y7cBvcPDwDs8agWJQEHCiCWlF5Y9d2LEylodVIze0JsSsYJxELNmKHnQyzwMHZU8uZQ86A0gho5KnvCl0Zcjzfdb6bxzszL62qQkWs29tc5dVd1jdpd0OqJW3Zt7BVzD0uuolK4Xtek1GV5tPrySTa+L4dXkqnu1gIsCZXNjIKZ7tQFcduKB6V7W6qDK9EZDbsGaRqzXgGsbDeglWAZegiVZpge9CcQwpN8xfM5ml0HIW7wPp0xWVpLvhh4Db+iRGecK/BLZZ20Al82DkH1mrQ6qtG2YjTmzxq3dG9EZC2VnoNAregwTV8jrBIlAQcKgJaUXlj19YtDKWh1UcNtoyEUFvaD/kTlxj79MY+mXyKE3Fhh4Y0GtIBEoSBi2pPTCsidQDFtZq4Mq9RoNubGATiajWY86sXeRPoDsgQt6bYGB1xZIpvhDK6Qb3eYo/sd0FEkr+ee7usDAqwtkxrkCx0QaWhvAZRMipKFZq4MqcBsNubrADYNJMJW+DjT07gID7y6oFSQCBQnjlZReWPbMifEqY3UTNPGZHVT7hXMYE3p9gdnBsFUnSAQKEoYtKb2w7AkUw1bW6jCfakg18H4YUNehHDzXG8u+u9+E1gM3CYatOkGCuhiGLTm9sOwJFMNW1uqgKmVmQ6oIuyxmYXKuO4o9R/aoBa0jbGIdYblWqE1oaUhTxRVqUVwxxwq1iTVbZca5AsdEDlobwGWzIeSgWauD6g6aDanZGjZA54eWazU1pJ5yUU9ojVdTa8wFap1WR1Y+ouXjnRryTolxrsArkXfWBnDZDAh5Z9bqoAJoZkMqL4f+MHUD5jTgeI4JLb1sYullyRgotOykqUvPQLdvXZaOqeQrDmticViZca7AS5GR1gZw2dwIGWnW6qCiaKbRGEYq/dYxaGFY08CtY3WCRKAgYbCS0gvLnjYxWGWtDiqGZjaklmSCF5W9iqQJrSJpYhXJWkEiUJAwXEnphWVPnBiuslYHFUEzsYqkgA4DrSJpYhXJWkEiUJAwbEnphWVPoBi2slYHFU0yG1JFsgF3RZnQypFmF4NVnSARKEgYrKT0wrKnTQxWWauDKiaZdnOCVc/zPdmrzZnQanOmjZup5NpMBS1RZ9p4j73w99h/TAdaK5lxPDryvrDw5kX2/KUgEu0C+7RTVxfXu47hDhxRL66fuwF8+5pdx8X1ZlEX1/Px1O5FoZNcXL82qJp8fX0tEOMOxeaGPszwagO47FwDM7yM1S1QomA1pDqry39+yHwW0pHkOZ4FLc1qdTDHkyrHs6D1XK0O5ngV5XgbU7dkDC0ar8wromVrK11b5mwWcZghas42H9ZgQr/avLKcTdXN4rM2Pp6SfxudrdUCLmZrzQ1imK3VBnDZeQNma1mrw3yqIUXJ3QQc2fM0aC1yC2uR1woS1LMwWsnphWXPmxitslYHVd+0GlKL3PN7A0bjachk3/FoQSuRW1iJXDJtEVrw2FIbUw6SmLLm0PmqkFtYhVxmnCtwSmSftQFcNg9C9pm1OqgGp9WQKuTnLPSZ9Iva0DrkloZiSZ0gEShIGK6k9MKyJ04MV1mrgwr0WXqTwlUTDttY0MrFVtMqFytpM+Y2XjSB1ka15K9gvHEL0QUNPeo7rBc5lA+aYSt5dxTwv0RJ3EsPsCz2Fln6QCe0D91b9EBQh84ju+g17D/SVEvYQyOoCck05yDJrg3gsukekuys1UGFRa2G1GMOpnFjliShdZktA5ck5WLX0GLOltGYJUlLVlZi5KPGBq5ISoxzBT6J7LM2gMvmQcg+s1YH1Qm2GlJgfUJDOu41Yg83tMq6ZSL5lIt8QkuzWyaeta3zrC1nzpPZ1dgZjAIaa6ogJ23TN5T5FHfd1UUf5y+LetLWzEfnzerpvBRsWXwzYlYkU7DArKg2gMvm55gVZa0OKkNvNeQeD05qHC+S/8JuC3qFh4VXeNQKEoGChBFLSi8se+7EiJW1OqgWvdVtSsQKxkHMmqHkQe/ysLqo5Mml5EEvALG6qOQJXxl9OdJ8v5XOOzcLo69NSqKV3Fvr3FXRPWZ3SacjbNG9bj4Nq1tHoXS9qD2vyfBq8+GV7HldDK9GF92rA1wUKJsbAzHdqw3gshMPTPeyVgcVprcacgnWNGK9BtzaaEHvwLLwDizJMj3oRSCWLf2G4XM2uwxC3uJ9OGWyspJ8F/RYeEGPzDhX4JfNYJ8Swls2C6oT2G7nm5H9W1aytB3XKuiRPx33RoxesOiuozNdmdzn+pFuM/F1CzndRpvHum+fDduud/Hk/wGsUAe5</script> <treescope-run-here><script type=\"application/octet-stream\"> const root = ( Array.from(document.getElementsByClassName( \"treescope_out_b4aa680e7add4c2b9ac1cf36f68044de\")) .filter((elt) => !elt.dataset['step0']) )[0]; root.dataset['step0'] = 1; root.defns.insertContent( this.parentNode.querySelector('script[type=\"application/octet-stream\"]'), true ); this.parentNode.remove(); </script></treescope-run-here> </div>"
      ]
     },
     "metadata": {},
     "output_type": "display_data"
    },
    {
     "data": {
      "text/plain": [
       "<IPython.core.display.HTML object>"
      ],
      "text/html": [
       "<script> (()=>{ if (customElements.get('treescope-container') === undefined) { class TreescopeContainer extends HTMLElement { constructor() { super(); this.attachShadow({mode: \"open\"}); this.defns = {}; this.state = {}; } } customElements.define(\"treescope-container\", TreescopeContainer); } if (customElements.get('treescope-run-here') === undefined) { class RunHere extends HTMLElement { constructor() { super() } connectedCallback() { const run = child => { const fn = new Function(child.textContent); child.textContent = \"\"; fn.call(this); this.remove(); }; const child = this.querySelector(\"script\"); if (child) { run(child); } else { new MutationObserver(()=>{ run(this.querySelector(\"script\")); }).observe(this, {childList: true}); } } } customElements.define(\"treescope-run-here\", RunHere); } })(); </script> <treescope-container class=\"treescope_out_9ac770a200bf4562808ec7a6375139a9\" style=\"display:block\"></treescope-container> <treescope-run-here><script type=\"application/octet-stream\"> const root = ( Array.from(document.getElementsByClassName( \"treescope_out_9ac770a200bf4562808ec7a6375139a9\")) .filter((elt) => !elt.dataset.setup) )[0]; root.dataset.setup = 1; const msg = document.createElement(\"span\"); msg.style = \"color: #cccccc; font-family: monospace;\"; msg.textContent = \"(Loading...)\"; root.state.loadingMsg = msg; root.shadowRoot.appendChild(msg); root.state.chain = new Promise((resolve, reject) => { const observer = new IntersectionObserver((entries) => { for (const entry of entries) { if (entry.isIntersecting) { resolve(); observer.disconnect(); return; } } }, {rootMargin: \"1000px\"}); window.setTimeout(() => { observer.observe(root); }, 0); }); root.state.deferring = false; const _insertNode = (node) => { for (let oldScript of node.querySelectorAll(\"script\")) { let newScript = document.createElement(\"script\"); newScript.type = oldScript.type; newScript.textContent = oldScript.textContent; oldScript.parentNode.replaceChild(newScript, oldScript); } if (root.state.loadingMsg) { root.state.loadingMsg.remove(); root.state.loadingMsg = null; } root.shadowRoot.appendChild(node); }; root.defns.insertContent = ((contentNode, compressed) => { if (compressed) { root.state.deferring = true; } if (root.state.deferring) { root.state.chain = (async () => { await root.state.chain; if (compressed) { const encoded = contentNode.textContent; const blob = new Blob([ Uint8Array.from(atob(encoded), (m) => m.codePointAt(0)) ]); const reader = blob.stream().pipeThrough( new DecompressionStream(\"deflate\") ).pipeThrough( new TextDecoderStream(\"utf-8\") ).getReader(); const parts = []; while (true) { const step = await reader.read(); if (step.done) { break; } parts.push(step.value); } const tpl = document.createElement('template'); tpl.innerHTML = parts.join(\"\"); _insertNode(tpl.content); } else { _insertNode(contentNode.content); } })(); } else { _insertNode(contentNode.content); } }); </script></treescope-run-here><div style=\"display:none\"> <script type=\"application/octet-stream\" >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</script> <treescope-run-here><script type=\"application/octet-stream\"> const root = ( Array.from(document.getElementsByClassName( \"treescope_out_9ac770a200bf4562808ec7a6375139a9\")) .filter((elt) => !elt.dataset['step0']) )[0]; root.dataset['step0'] = 1; root.defns.insertContent( this.parentNode.querySelector('script[type=\"application/octet-stream\"]'), true ); this.parentNode.remove(); </script></treescope-run-here> </div>"
      ]
     },
     "metadata": {},
     "output_type": "display_data"
    },
    {
     "data": {
      "text/plain": [
       "<IPython.core.display.HTML object>"
      ],
      "text/html": [
       "<div style=\"display:none\"> <script type=\"application/octet-stream\" >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</script> <treescope-run-here><script type=\"application/octet-stream\"> const root = ( Array.from(document.getElementsByClassName( \"treescope_out_9ac770a200bf4562808ec7a6375139a9\")) .filter((elt) => !elt.dataset['step1']) )[0]; root.dataset['step1'] = 1; root.defns.insertContent( this.parentNode.querySelector('script[type=\"application/octet-stream\"]'), true ); this.parentNode.remove(); </script></treescope-run-here> </div>"
      ]
     },
     "metadata": {},
     "output_type": "display_data"
    }
   ],
   "execution_count": 34
  },
  {
   "metadata": {
    "ExecuteTime": {
     "end_time": "2025-07-19T16:17:24.064076Z",
     "start_time": "2025-07-19T16:17:13.402967Z"
    }
   },
   "cell_type": "code",
   "source": [
    "# Train both models\n",
    "print(\"=\" * 60)\n",
    "print(\"COMPARING GCN vs MLP PERFORMANCE\")\n",
    "print(\"=\" * 60)\n",
    "\n",
    "# Train GCN\n",
    "gcn_results = train_model(\n",
    "    model=gcn_model,\n",
    "    train_batch=train_batch,\n",
    "    val_batch=val_batch,\n",
    "    test_batch=test_batch,\n",
    "    learning_rate=LEARNING_RATE,\n",
    "    epochs=EPOCHS,\n",
    "    eval_every=20,\n",
    "    model_name=\"GCN\"\n",
    ")\n",
    "\n",
    "# Train MLP\n",
    "mlp_results = train_model(\n",
    "    model=mlp_model,\n",
    "    train_batch=train_batch,\n",
    "    val_batch=val_batch,\n",
    "    test_batch=test_batch,\n",
    "    learning_rate=LEARNING_RATE,\n",
    "    epochs=EPOCHS,\n",
    "    eval_every=20,\n",
    "    model_name=\"MLP\"\n",
    ")"
   ],
   "id": "c854626ee1cbe44a",
   "outputs": [
    {
     "name": "stdout",
     "output_type": "stream",
     "text": [
      "============================================================\n",
      "COMPARING GCN vs MLP PERFORMANCE\n",
      "============================================================\n",
      "\n",
      "=== Training GCN ===\n",
      "\n",
      "New best validation accuracy: 0.7884\n",
      "Step 20: Train Loss: 0.9834, Train Acc: 0.5537, Train Masked Acc: 0.7327\n",
      "          Val Loss: 0.8840, Val Acc: 0.7884, Val Masked Acc: 0.7580\n",
      "Step 40: Train Loss: 0.0415, Train Acc: 0.7741, Train Masked Acc: 0.9939\n",
      "          Val Loss: 1.1664, Val Acc: 0.7714, Val Masked Acc: 0.7480\n",
      "Step 60: Train Loss: 0.0080, Train Acc: 0.7652, Train Masked Acc: 0.9979\n",
      "          Val Loss: 1.5372, Val Acc: 0.7685, Val Masked Acc: 0.7340\n",
      "Step 80: Train Loss: 0.0036, Train Acc: 0.7678, Train Masked Acc: 0.9993\n",
      "          Val Loss: 1.4651, Val Acc: 0.7736, Val Masked Acc: 0.7680\n",
      "Step 100: Train Loss: 0.0016, Train Acc: 0.7692, Train Masked Acc: 1.0000\n",
      "          Val Loss: 1.5625, Val Acc: 0.7688, Val Masked Acc: 0.7480\n",
      "Step 120: Train Loss: 0.0013, Train Acc: 0.7615, Train Masked Acc: 1.0000\n",
      "          Val Loss: 1.5265, Val Acc: 0.7762, Val Masked Acc: 0.7460\n",
      "Step 140: Train Loss: 0.0011, Train Acc: 0.7662, Train Masked Acc: 1.0000\n",
      "          Val Loss: 1.7175, Val Acc: 0.7603, Val Masked Acc: 0.7260\n",
      "Step 160: Train Loss: 0.0007, Train Acc: 0.7633, Train Masked Acc: 1.0000\n",
      "          Val Loss: 1.6761, Val Acc: 0.7603, Val Masked Acc: 0.7380\n",
      "Step 180: Train Loss: 0.0006, Train Acc: 0.7670, Train Masked Acc: 1.0000\n",
      "          Val Loss: 1.5167, Val Acc: 0.7688, Val Masked Acc: 0.7480\n",
      "Step 199: Train Loss: 0.0006, Train Acc: 0.7650, Train Masked Acc: 1.0000\n",
      "          Val Loss: 1.6603, Val Acc: 0.7648, Val Masked Acc: 0.7440\n",
      "\n",
      "=== GCN Final Results ===\n",
      "\n",
      "Best Validation Accuracy: 0.7884\n",
      "Final Test Accuracy: 0.7888\n",
      "Final Test Masked Accuracy: 0.7810\n",
      "Final Test F1 Score: 0.7794\n",
      "\n",
      "=== Training MLP ===\n",
      "\n",
      "New best validation accuracy: 0.4276\n",
      "Step 20: Train Loss: 1.1061, Train Acc: 0.3676, Train Masked Acc: 0.6452\n",
      "          Val Loss: 1.8295, Val Acc: 0.4276, Val Masked Acc: 0.4060\n",
      "New best validation accuracy: 0.4498\n",
      "Step 40: Train Loss: 0.2633, Train Acc: 0.4480, Train Masked Acc: 0.9225\n",
      "          Val Loss: 2.5480, Val Acc: 0.4498, Val Masked Acc: 0.4280\n",
      "New best validation accuracy: 0.4631\n",
      "Step 60: Train Loss: 0.1166, Train Acc: 0.4655, Train Masked Acc: 0.9636\n",
      "          Val Loss: 2.9578, Val Acc: 0.4631, Val Masked Acc: 0.4280\n",
      "New best validation accuracy: 0.4638\n",
      "Step 80: Train Loss: 0.0861, Train Acc: 0.4689, Train Masked Acc: 0.9707\n",
      "          Val Loss: 3.1011, Val Acc: 0.4638, Val Masked Acc: 0.4120\n",
      "New best validation accuracy: 0.4738\n",
      "Step 100: Train Loss: 0.0753, Train Acc: 0.4657, Train Masked Acc: 0.9764\n",
      "          Val Loss: 2.9942, Val Acc: 0.4738, Val Masked Acc: 0.4520\n",
      "Step 120: Train Loss: 0.0517, Train Acc: 0.4729, Train Masked Acc: 0.9839\n",
      "          Val Loss: 3.3665, Val Acc: 0.4730, Val Masked Acc: 0.4320\n",
      "Step 140: Train Loss: 0.0568, Train Acc: 0.4628, Train Masked Acc: 0.9854\n",
      "          Val Loss: 3.4274, Val Acc: 0.4682, Val Masked Acc: 0.4440\n",
      "New best validation accuracy: 0.4856\n",
      "Step 160: Train Loss: 0.0540, Train Acc: 0.4810, Train Masked Acc: 0.9850\n",
      "          Val Loss: 3.2243, Val Acc: 0.4856, Val Masked Acc: 0.4640\n",
      "Step 180: Train Loss: 0.0427, Train Acc: 0.4789, Train Masked Acc: 0.9871\n",
      "          Val Loss: 3.5965, Val Acc: 0.4742, Val Masked Acc: 0.4360\n",
      "Step 199: Train Loss: 0.0519, Train Acc: 0.4740, Train Masked Acc: 0.9872\n",
      "          Val Loss: 3.7534, Val Acc: 0.4694, Val Masked Acc: 0.4540\n",
      "\n",
      "=== MLP Final Results ===\n",
      "\n",
      "Best Validation Accuracy: 0.4856\n",
      "Final Test Accuracy: 0.4786\n",
      "Final Test Masked Accuracy: 0.4450\n",
      "Final Test F1 Score: 0.4725\n"
     ]
    }
   ],
   "execution_count": 37
  },
  {
   "metadata": {
    "ExecuteTime": {
     "end_time": "2025-07-19T16:17:43.108780Z",
     "start_time": "2025-07-19T16:17:42.318109Z"
    }
   },
   "cell_type": "code",
   "source": [
    "# Performance comparison\n",
    "print(\"\\n\" + \"=\" * 60)\n",
    "print(\"FINAL PERFORMANCE COMPARISON\")\n",
    "print(\"=\" * 60)\n",
    "\n",
    "\n",
    "def print_comparison_table():\n",
    "    print(f\"{'Metric':<25} {'GCN':<15} {'MLP':<15} {'Difference':<15}\")\n",
    "    print(\"-\" * 70)\n",
    "\n",
    "    metrics_to_compare = [\n",
    "        ('Test Accuracy', 'accuracy'),\n",
    "        ('Test Masked Accuracy', 'masked_accuracy'),\n",
    "        ('Test F1 Score', 'f1_score'),\n",
    "        ('Test Loss', 'loss'),\n",
    "        ('Best Val Accuracy', 'best_val_acc')\n",
    "    ]\n",
    "\n",
    "    for display_name, metric_key in metrics_to_compare:\n",
    "        if metric_key == 'best_val_acc':\n",
    "            gcn_val = gcn_results[metric_key]\n",
    "            mlp_val = mlp_results[metric_key]\n",
    "        else:\n",
    "            gcn_val = gcn_results['final_test_results'][metric_key]\n",
    "            mlp_val = mlp_results['final_test_results'][metric_key]\n",
    "\n",
    "        diff = gcn_val - mlp_val\n",
    "        diff_str = f\"+{diff:.4f}\" if diff > 0 else f\"{diff:.4f}\"\n",
    "\n",
    "        print(f\"{display_name:<25} {gcn_val:<15.4f} {mlp_val:<15.4f} {diff_str:<15}\")\n",
    "\n",
    "\n",
    "print_comparison_table()\n",
    "\n",
    "# Plot comparison\n",
    "fig, ((ax1, ax2), (ax3, ax4)) = plt.subplots(2, 2, figsize=(15, 10))\n",
    "fig.suptitle('GCN vs MLP Training Comparison', fontsize=16)\n",
    "\n",
    "ax1.set_title('Training Loss')\n",
    "ax2.set_title('Validation Accuracy')\n",
    "ax3.set_title('Training Masked Accuracy')\n",
    "ax4.set_title('Validation F1 Score')\n",
    "\n",
    "# Plot training curves for both models\n",
    "models_data = [\n",
    "    ('GCN', gcn_results['metrics_history'], 'blue'),\n",
    "    ('MLP', mlp_results['metrics_history'], 'red')\n",
    "]\n",
    "\n",
    "for model_name, history, color in models_data:\n",
    "    ax1.plot(history['train_loss'], label=f'{model_name} Train Loss', color=color, linestyle='-')\n",
    "    ax2.plot(history['val_accuracy'], label=f'{model_name} Val Accuracy', color=color, linestyle='-')\n",
    "    ax3.plot(history['train_masked_accuracy'], label=f'{model_name} Train Masked Acc', color=color, linestyle='-')\n",
    "    ax4.plot(history['val_f1_score'], label=f'{model_name} Val F1', color=color, linestyle='-')\n",
    "\n",
    "ax1.legend()\n",
    "ax2.legend()\n",
    "ax3.legend()\n",
    "ax4.legend()\n",
    "\n",
    "plt.tight_layout()\n",
    "plt.show()\n",
    "\n",
    "# Summary\n",
    "print(f\"\\n{'=' * 60}\")\n",
    "print(\"SUMMARY\")\n",
    "print(f\"{'=' * 60}\")\n",
    "gcn_test_acc = gcn_results['final_test_results']['accuracy']\n",
    "mlp_test_acc = mlp_results['final_test_results']['accuracy']\n",
    "\n",
    "if gcn_test_acc > mlp_test_acc:\n",
    "    winner = \"GCN\"\n",
    "    improvement = gcn_test_acc - mlp_test_acc\n",
    "else:\n",
    "    winner = \"MLP\"\n",
    "    improvement = mlp_test_acc - gcn_test_acc\n",
    "\n",
    "print(f\"Winner: {winner}\")\n",
    "print(f\"Test Accuracy Improvement: {improvement:.4f} ({improvement * 100:.2f}%)\")\n",
    "print(f\"GCN leverages graph structure: {'✓' if gcn_test_acc > mlp_test_acc else '✗'}\")\n",
    "print(f\"{'=' * 60}\")\n"
   ],
   "id": "10a8d99018251939",
   "outputs": [
    {
     "name": "stdout",
     "output_type": "stream",
     "text": [
      "\n",
      "============================================================\n",
      "FINAL PERFORMANCE COMPARISON\n",
      "============================================================\n",
      "Metric                    GCN             MLP             Difference     \n",
      "----------------------------------------------------------------------\n",
      "Test Accuracy             0.7888          0.4786          +0.3102        \n",
      "Test Masked Accuracy      0.7810          0.4450          +0.3360        \n",
      "Test F1 Score             0.7794          0.4725          +0.3068        \n",
      "Test Loss                 0.7469          3.1705          -2.4236        \n",
      "Best Val Accuracy         0.7884          0.4856          +0.3028        \n"
     ]
    },
    {
     "data": {
      "text/plain": [
       "<Figure size 1500x1000 with 4 Axes>"
      ],
      "image/png": "[encoded data removed]"
     },
     "metadata": {},
     "output_type": "display_data"
    },
    {
     "name": "stdout",
     "output_type": "stream",
     "text": [
      "\n",
      "============================================================\n",
      "SUMMARY\n",
      "============================================================\n",
      "Winner: GCN\n",
      "Test Accuracy Improvement: 0.3102 (31.02%)\n",
      "GCN leverages graph structure: ✓\n",
      "============================================================\n"
     ]
    }
   ],
   "execution_count": 38
  }
 ],
 "metadata": {
  "kernelspec": {
   "display_name": "jax_kernel",
   "language": "python",
   "name": "jax_kernel"
  },
  "language_info": {
   "codemirror_mode": {
    "name": "ipython",
    "version": 2
   },
   "file_extension": ".py",
   "mimetype": "text/x-python",
   "name": "python",
   "nbconvert_exporter": "python",
   "pygments_lexer": "ipython2",
   "version": "2.7.6"
  }
 },
 "nbformat": 4,
 "nbformat_minor": 5
}
