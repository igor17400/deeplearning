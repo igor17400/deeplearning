{
 "cells": [
  {
   "metadata": {},
   "cell_type": "markdown",
   "source": "# Graphs Convolutional Networks (GCNs)",
   "id": "8f722a97611ec054"
  },
  {
   "cell_type": "code",
   "id": "initial_id",
   "metadata": {
    "collapsed": true,
    "ExecuteTime": {
     "end_time": "2025-07-21T09:08:52.346424Z",
     "start_time": "2025-07-21T09:08:52.247067Z"
    }
   },
   "source": [
    "from flax import nnx\n",
    "import jax.numpy as jnp\n",
    "import numpy as np\n",
    "import scipy.sparse as sp  # Useful for handling sparse adjacency matrices\n",
    "from typing import Sequence\n",
    "import optax\n",
    "import matplotlib.pyplot as plt\n",
    "import torch_geometric"
   ],
   "outputs": [],
   "execution_count": 42
  },
  {
   "metadata": {},
   "cell_type": "markdown",
   "source": "# Data (Preprocessing)",
   "id": "e4bb1b55580b53e9"
  },
  {
   "metadata": {
    "ExecuteTime": {
     "end_time": "2025-07-21T09:08:52.538075Z",
     "start_time": "2025-07-21T09:08:52.528307Z"
    }
   },
   "cell_type": "code",
   "source": [
    "def print_file_head(filename, num_lines=5):\n",
    "    print(f\"\\n--- Head of {filename} {num_lines} lines ---\")\n",
    "    try:\n",
    "        with open(filename, 'r') as f:\n",
    "            for i, line in enumerate(f):\n",
    "                if i >= num_lines:\n",
    "                    break\n",
    "                print(line.strip())\n",
    "    except FileNotFoundError:\n",
    "        print(f\"Error: {filename} not found\")\n",
    "\n",
    "\n",
    "print_file_head(\"./dataset/cora/cora.cites\", 5)\n",
    "print_file_head(\"./dataset/cora/cora.content\", 1)"
   ],
   "id": "a88b57de42583b0d",
   "outputs": [
    {
     "name": "stdout",
     "output_type": "stream",
     "text": [
      "\n",
      "--- Head of ./dataset/cora/cora.cites 5 lines ---\n",
      "35\t1033\n",
      "35\t103482\n",
      "35\t103515\n",
      "35\t1050679\n",
      "35\t1103960\n",
      "\n",
      "--- Head of ./dataset/cora/cora.content 1 lines ---\n",
      "31336\t0\t0\t0\t0\t0\t0\t0\t0\t0\t0\t0\t0\t0\t0\t0\t0\t0\t0\t0\t0\t0\t0\t0\t0\t0\t0\t0\t0\t0\t0\t0\t0\t0\t0\t0\t0\t0\t0\t0\t0\t0\t0\t0\t0\t0\t0\t0\t0\t0\t0\t0\t0\t0\t0\t0\t0\t0\t0\t0\t0\t0\t0\t0\t0\t0\t0\t0\t0\t0\t0\t0\t0\t0\t0\t0\t0\t0\t0\t0\t0\t0\t0\t0\t0\t0\t0\t0\t0\t0\t0\t0\t0\t0\t0\t0\t0\t0\t0\t0\t0\t0\t0\t0\t0\t0\t0\t0\t0\t0\t0\t0\t0\t0\t0\t0\t0\t0\t0\t1\t0\t0\t0\t0\t0\t0\t1\t0\t0\t0\t0\t0\t0\t0\t0\t0\t0\t0\t0\t0\t0\t0\t0\t0\t0\t0\t0\t0\t0\t0\t0\t0\t0\t0\t0\t0\t0\t0\t0\t0\t0\t0\t0\t0\t0\t0\t0\t0\t0\t0\t0\t0\t0\t0\t0\t0\t0\t1\t0\t0\t0\t0\t0\t0\t0\t0\t0\t0\t0\t0\t0\t0\t0\t0\t0\t0\t0\t0\t0\t0\t0\t0\t0\t0\t0\t0\t0\t0\t0\t0\t0\t0\t0\t0\t0\t0\t0\t0\t0\t0\t0\t0\t0\t0\t0\t0\t0\t0\t0\t0\t0\t0\t0\t0\t0\t0\t0\t0\t0\t0\t0\t0\t0\t0\t0\t0\t0\t0\t0\t0\t0\t0\t0\t1\t0\t0\t0\t0\t0\t0\t0\t0\t0\t0\t0\t0\t0\t0\t0\t0\t0\t0\t0\t0\t0\t0\t0\t0\t0\t0\t0\t0\t0\t0\t0\t0\t0\t0\t0\t0\t0\t0\t0\t0\t0\t0\t0\t0\t0\t0\t0\t0\t0\t0\t0\t0\t0\t0\t0\t0\t0\t0\t0\t0\t0\t0\t0\t0\t0\t0\t0\t0\t0\t0\t0\t0\t0\t0\t0\t0\t0\t0\t0\t0\t0\t0\t0\t0\t0\t0\t0\t0\t0\t0\t0\t0\t0\t0\t0\t0\t0\t0\t1\t0\t0\t0\t0\t0\t0\t0\t0\t0\t0\t0\t0\t0\t0\t0\t0\t0\t0\t0\t0\t0\t0\t0\t0\t0\t0\t0\t0\t0\t0\t0\t0\t0\t0\t0\t0\t0\t0\t0\t0\t0\t0\t0\t0\t0\t0\t0\t0\t0\t0\t0\t0\t0\t0\t0\t0\t0\t0\t0\t0\t0\t0\t0\t0\t0\t0\t0\t0\t0\t0\t0\t0\t0\t0\t0\t0\t0\t0\t0\t0\t0\t0\t0\t0\t0\t0\t0\t0\t0\t0\t0\t0\t0\t0\t0\t0\t0\t0\t0\t0\t0\t0\t0\t0\t1\t0\t0\t0\t0\t0\t0\t0\t0\t0\t0\t0\t0\t0\t0\t0\t0\t0\t0\t0\t0\t0\t0\t0\t0\t0\t0\t0\t0\t0\t0\t0\t0\t0\t0\t0\t0\t0\t0\t0\t0\t0\t0\t0\t0\t0\t0\t0\t0\t0\t0\t1\t0\t0\t0\t0\t0\t0\t0\t0\t0\t0\t0\t0\t0\t1\t0\t0\t0\t0\t0\t0\t0\t0\t0\t0\t0\t0\t0\t0\t0\t0\t0\t0\t0\t0\t0\t0\t0\t0\t0\t0\t0\t0\t0\t0\t0\t0\t0\t0\t0\t0\t0\t0\t0\t0\t0\t0\t0\t0\t0\t0\t0\t0\t0\t0\t0\t0\t0\t0\t0\t0\t0\t0\t0\t0\t0\t0\t0\t0\t0\t0\t0\t0\t0\t0\t0\t0\t0\t0\t0\t0\t0\t0\t0\t0\t0\t0\t0\t0\t0\t0\t0\t0\t0\t0\t0\t0\t0\t0\t0\t0\t0\t1\t0\t0\t0\t0\t0\t0\t0\t0\t0\t0\t0\t0\t0\t0\t0\t0\t0\t0\t0\t0\t0\t0\t0\t0\t0\t0\t0\t0\t1\t0\t0\t0\t0\t0\t0\t0\t0\t0\t0\t0\t0\t0\t0\t0\t0\t0\t0\t0\t0\t0\t0\t0\t0\t0\t0\t0\t0\t0\t0\t0\t0\t0\t0\t0\t0\t0\t0\t0\t0\t0\t0\t0\t0\t0\t0\t0\t0\t0\t1\t0\t0\t0\t1\t0\t0\t0\t0\t0\t0\t0\t0\t0\t0\t0\t0\t0\t0\t0\t0\t0\t0\t0\t0\t0\t0\t0\t0\t0\t0\t0\t0\t0\t0\t0\t1\t0\t0\t0\t0\t0\t0\t0\t0\t0\t0\t0\t0\t0\t0\t0\t0\t0\t0\t0\t0\t0\t0\t0\t0\t0\t0\t0\t0\t0\t0\t0\t0\t0\t0\t0\t0\t0\t0\t0\t0\t0\t0\t0\t0\t0\t0\t0\t0\t0\t0\t0\t0\t0\t0\t0\t0\t0\t0\t0\t0\t0\t0\t0\t0\t0\t0\t0\t0\t0\t0\t0\t0\t0\t0\t0\t0\t0\t0\t0\t0\t0\t0\t0\t0\t0\t0\t0\t0\t0\t0\t0\t0\t0\t0\t0\t0\t0\t0\t0\t0\t0\t0\t0\t0\t0\t0\t0\t0\t0\t0\t1\t0\t0\t0\t0\t0\t0\t0\t0\t0\t0\t0\t0\t0\t0\t0\t0\t0\t0\t0\t0\t0\t0\t0\t0\t0\t0\t0\t0\t0\t0\t0\t0\t0\t0\t0\t0\t0\t0\t0\t0\t0\t0\t0\t0\t0\t0\t0\t0\t0\t0\t0\t0\t0\t0\t0\t0\t1\t0\t0\t0\t0\t0\t0\t0\t0\t0\t0\t0\t0\t0\t0\t0\t0\t0\t0\t0\t0\t0\t0\t0\t0\t0\t0\t0\t0\t0\t0\t0\t0\t0\t0\t0\t0\t0\t0\t0\t0\t0\t0\t0\t0\t0\t0\t0\t0\t0\t0\t0\t0\t0\t0\t0\t0\t0\t0\t0\t0\t0\t0\t0\t0\t0\t0\t0\t0\t0\t0\t0\t0\t0\t0\t0\t0\t0\t0\t0\t0\t0\t0\t0\t0\t0\t0\t0\t0\t0\t0\t0\t0\t0\t0\t0\t0\t0\t0\t0\t0\t0\t0\t0\t0\t0\t0\t0\t0\t0\t0\t0\t0\t0\t0\t0\t0\t0\t0\t0\t0\t0\t0\t0\t0\t0\t0\t0\t0\t0\t0\t0\t0\t0\t0\t0\t0\t0\t0\t0\t0\t0\t0\t0\t0\t0\t0\t0\t0\t0\t0\t0\t0\t0\t0\t0\t0\t0\t0\t0\t0\t0\t0\t0\t0\t0\t0\t0\t0\t0\t0\t0\t0\t0\t0\t0\t0\t0\t0\t0\t0\t0\t0\t0\t0\t0\t0\t0\t0\t0\t0\t0\t0\t0\t0\t0\t0\t0\t0\t0\t0\t0\t0\t0\t0\t0\t0\t0\t0\t0\t0\t0\t0\t0\t0\t0\t0\t0\t0\t0\t0\t0\t0\t0\t0\t0\t0\t0\t0\t0\t0\t0\t0\t0\t0\t0\t0\t0\t0\t0\t0\t0\t0\t0\t0\t0\t0\t0\t0\t0\t0\t0\t0\t0\t0\t0\t0\t0\t0\t0\t0\t0\t0\t0\t0\t0\t0\t0\t0\t0\t0\t0\t0\t0\t0\t0\t0\t0\t0\t0\t0\t0\t0\t0\t0\t0\t0\t0\t0\t0\t0\t0\t0\t0\t0\t0\t0\t0\t0\t0\t0\t0\t0\t1\t0\t0\t0\t1\t0\t0\t0\t0\t0\t0\t0\t0\t0\t0\t0\t0\t0\t0\t0\t0\t0\t0\t0\t0\t0\t0\t0\t0\t0\t0\t1\t0\t0\t0\t0\t0\t0\t0\t0\t0\t0\t0\t0\t0\t0\t0\t0\t0\t0\t0\t0\t0\t0\t0\t0\t0\t0\t0\t0\t0\t0\t0\t0\t0\t0\t0\t0\t0\t0\t0\t0\t0\t0\t0\t0\t0\t0\t0\t0\t0\t0\t0\t0\t0\t0\t0\t0\t0\t0\t0\t0\t0\t0\t0\t0\t0\t0\t0\t0\t0\t0\t0\t0\t0\t0\t0\t0\t0\t0\t0\t0\t0\t0\t0\t0\t0\t0\t0\t0\t0\t0\t0\t0\t0\t0\t0\t0\t0\t0\t0\t0\t0\t0\t0\t0\t0\t0\t0\t0\t0\t0\t0\t0\t0\t0\t0\t1\t0\t0\t0\t0\t0\t0\t0\t0\t0\t0\t0\t0\t0\t0\t0\t0\t0\t0\t0\t0\t0\t0\t0\t0\t0\t0\t0\t0\t0\t0\t0\t0\t0\t0\t0\t0\t0\t0\t0\t0\t0\t0\t0\t0\t0\t0\t0\t0\t0\t0\t0\t0\t0\t0\t0\t0\t0\t0\t0\t0\t0\t0\t0\t0\t0\t0\t0\t0\t0\t0\t0\t0\t0\t1\t0\t0\t0\t0\t0\t0\tNeural_Networks\n"
     ]
    }
   ],
   "execution_count": 43
  },
  {
   "metadata": {},
   "cell_type": "markdown",
   "source": "## Preprocessing",
   "id": "456e9de7f1fbce18"
  },
  {
   "metadata": {
    "ExecuteTime": {
     "end_time": "2025-07-21T09:08:52.638566Z",
     "start_time": "2025-07-21T09:08:52.631173Z"
    }
   },
   "cell_type": "code",
   "source": [
    "def _load_content_file(filepath: str):\n",
    "    \"\"\"Loads features and labels from the .content file.\"\"\"\n",
    "    print(f\"Loading content file: {filepath}\")\n",
    "    idx_features_labels = np.genfromtxt(\n",
    "        filepath,\n",
    "        dtype=np.dtype(str)\n",
    "    )\n",
    "    features = sp.csr_matrix(\n",
    "        idx_features_labels[:, 1:-1],\n",
    "        dtype=np.float32\n",
    "    )\n",
    "    labels = idx_features_labels[:, -1]\n",
    "    paper_ids = np.array(\n",
    "        idx_features_labels[:, 0],\n",
    "        dtype=np.int32\n",
    "    )\n",
    "    return features, labels, paper_ids"
   ],
   "id": "9c17b9a38fc63319",
   "outputs": [],
   "execution_count": 44
  },
  {
   "metadata": {
    "ExecuteTime": {
     "end_time": "2025-07-21T09:08:54.941584Z",
     "start_time": "2025-07-21T09:08:52.698650Z"
    }
   },
   "cell_type": "code",
   "source": [
    "file_path = \"./dataset/cora/cora.content\"\n",
    "features, labels, paper_ids = _load_content_file(file_path)"
   ],
   "id": "3324dbb25e64b20b",
   "outputs": [
    {
     "name": "stdout",
     "output_type": "stream",
     "text": [
      "Loading content file: ./dataset/cora/cora.content\n"
     ]
    }
   ],
   "execution_count": 45
  },
  {
   "metadata": {
    "ExecuteTime": {
     "end_time": "2025-07-21T09:08:54.975376Z",
     "start_time": "2025-07-21T09:08:54.970044Z"
    }
   },
   "cell_type": "code",
   "source": [
    "print(\"--- Features Matrix ---\\n\")\n",
    "print(features.shape)\n",
    "print(features[0].shape)\n",
    "print(features[0])"
   ],
   "id": "11a5ad82c7461c5f",
   "outputs": [
    {
     "name": "stdout",
     "output_type": "stream",
     "text": [
      "--- Features Matrix ---\n",
      "\n",
      "(2708, 1433)\n",
      "(1, 1433)\n",
      "<Compressed Sparse Row sparse matrix of dtype 'float32'\n",
      "\twith 1433 stored elements and shape (1, 1433)>\n",
      "  Coords\tValues\n",
      "  (0, 0)\t0.0\n",
      "  (0, 1)\t0.0\n",
      "  (0, 2)\t0.0\n",
      "  (0, 3)\t0.0\n",
      "  (0, 4)\t0.0\n",
      "  (0, 5)\t0.0\n",
      "  (0, 6)\t0.0\n",
      "  (0, 7)\t0.0\n",
      "  (0, 8)\t0.0\n",
      "  (0, 9)\t0.0\n",
      "  (0, 10)\t0.0\n",
      "  (0, 11)\t0.0\n",
      "  (0, 12)\t0.0\n",
      "  (0, 13)\t0.0\n",
      "  (0, 14)\t0.0\n",
      "  (0, 15)\t0.0\n",
      "  (0, 16)\t0.0\n",
      "  (0, 17)\t0.0\n",
      "  (0, 18)\t0.0\n",
      "  (0, 19)\t0.0\n",
      "  (0, 20)\t0.0\n",
      "  (0, 21)\t0.0\n",
      "  (0, 22)\t0.0\n",
      "  (0, 23)\t0.0\n",
      "  (0, 24)\t0.0\n",
      "  :\t:\n",
      "  (0, 1408)\t0.0\n",
      "  (0, 1409)\t0.0\n",
      "  (0, 1410)\t0.0\n",
      "  (0, 1411)\t0.0\n",
      "  (0, 1412)\t0.0\n",
      "  (0, 1413)\t0.0\n",
      "  (0, 1414)\t0.0\n",
      "  (0, 1415)\t0.0\n",
      "  (0, 1416)\t0.0\n",
      "  (0, 1417)\t0.0\n",
      "  (0, 1418)\t0.0\n",
      "  (0, 1419)\t0.0\n",
      "  (0, 1420)\t0.0\n",
      "  (0, 1421)\t0.0\n",
      "  (0, 1422)\t0.0\n",
      "  (0, 1423)\t0.0\n",
      "  (0, 1424)\t0.0\n",
      "  (0, 1425)\t0.0\n",
      "  (0, 1426)\t1.0\n",
      "  (0, 1427)\t0.0\n",
      "  (0, 1428)\t0.0\n",
      "  (0, 1429)\t0.0\n",
      "  (0, 1430)\t0.0\n",
      "  (0, 1431)\t0.0\n",
      "  (0, 1432)\t0.0\n"
     ]
    }
   ],
   "execution_count": 46
  },
  {
   "metadata": {
    "ExecuteTime": {
     "end_time": "2025-07-21T09:08:55.034135Z",
     "start_time": "2025-07-21T09:08:55.029941Z"
    }
   },
   "cell_type": "code",
   "source": [
    "print(\"--- Labels Matrix ---\\n\")\n",
    "print(labels.shape)\n",
    "print(labels)"
   ],
   "id": "b1c270a963a6443f",
   "outputs": [
    {
     "name": "stdout",
     "output_type": "stream",
     "text": [
      "--- Labels Matrix ---\n",
      "\n",
      "(2708,)\n",
      "['Neural_Networks' 'Rule_Learning' 'Reinforcement_Learning' ...\n",
      " 'Genetic_Algorithms' 'Case_Based' 'Neural_Networks']\n"
     ]
    }
   ],
   "execution_count": 47
  },
  {
   "metadata": {
    "ExecuteTime": {
     "end_time": "2025-07-21T09:08:55.093947Z",
     "start_time": "2025-07-21T09:08:55.090582Z"
    }
   },
   "cell_type": "code",
   "source": [
    "print(\"--- Paper IDs ---\\n\")\n",
    "print(paper_ids.shape)\n",
    "print(paper_ids)"
   ],
   "id": "d2b3071d2cabca42",
   "outputs": [
    {
     "name": "stdout",
     "output_type": "stream",
     "text": [
      "--- Paper IDs ---\n",
      "\n",
      "(2708,)\n",
      "[  31336 1061127 1106406 ... 1128978  117328   24043]\n"
     ]
    }
   ],
   "execution_count": 48
  },
  {
   "metadata": {
    "ExecuteTime": {
     "end_time": "2025-07-21T09:08:55.152444Z",
     "start_time": "2025-07-21T09:08:55.145364Z"
    }
   },
   "cell_type": "code",
   "source": [
    "def _load_cites_file(filepath: str, idx_map: dict):\n",
    "    \"\"\"Loads citation links and builds the adjacency matrix.\"\"\"\n",
    "    print(f\"Loading cites file: {filepath}\")\n",
    "    edges_unordered = np.genfromtxt(\n",
    "        filepath,\n",
    "        dtype=np.int32\n",
    "    )\n",
    "\n",
    "    # Convert paper IDs in edges to our new integer indices\n",
    "    edges = np.array(\n",
    "        list(map(\n",
    "            idx_map.get,\n",
    "            edges_unordered.flatten())\n",
    "        ), dtype=np.int32,\n",
    "    ).reshape(edges_unordered.shape)\n",
    "\n",
    "    # Create COO (Coordinate) format sparse adjacency matrix\n",
    "    adj = sp.coo_matrix(\n",
    "        (\n",
    "            np.ones(edges.shape[0]),\n",
    "            (edges[:, 0], edges[:, 1])\n",
    "        ),\n",
    "        # Use len(idx_map) for the number of nodes\n",
    "        shape=(len(idx_map), len(idx_map)),\n",
    "        dtype=np.float32\n",
    "    )\n",
    "\n",
    "    # Build symmetric adjacency matrix\n",
    "    adj = (\n",
    "            adj +\n",
    "            adj.T.multiply(adj.T > adj) -\n",
    "            adj.multiply(adj.T > adj)\n",
    "    )\n",
    "    return adj"
   ],
   "id": "96a5f6e697ae645",
   "outputs": [],
   "execution_count": 49
  },
  {
   "metadata": {
    "ExecuteTime": {
     "end_time": "2025-07-21T09:08:55.206808Z",
     "start_time": "2025-07-21T09:08:55.184266Z"
    }
   },
   "cell_type": "code",
   "source": [
    "file_path = \"./dataset/cora/cora.cites\"\n",
    "idx_map = {\n",
    "    paper_id: idx for idx, paper_id in enumerate(paper_ids)\n",
    "}\n",
    "adj = _load_cites_file(file_path, idx_map)\n",
    "print(\"-- Adjacency Matrix ---\")\n",
    "print(adj.shape)\n",
    "print(adj[:2].shape)\n",
    "print(adj[:2])"
   ],
   "id": "6c82d4790fec7894",
   "outputs": [
    {
     "name": "stdout",
     "output_type": "stream",
     "text": [
      "Loading cites file: ./dataset/cora/cora.cites\n",
      "-- Adjacency Matrix ---\n",
      "(2708, 2708)\n",
      "(2, 2708)\n",
      "<Compressed Sparse Row sparse matrix of dtype 'float32'\n",
      "\twith 6 stored elements and shape (2, 2708)>\n",
      "  Coords\tValues\n",
      "  (0, 8)\t1.0\n",
      "  (0, 14)\t1.0\n",
      "  (0, 258)\t1.0\n",
      "  (0, 435)\t1.0\n",
      "  (0, 544)\t1.0\n",
      "  (1, 344)\t1.0\n"
     ]
    }
   ],
   "execution_count": 50
  },
  {
   "metadata": {
    "ExecuteTime": {
     "end_time": "2025-07-21T09:08:55.266536Z",
     "start_time": "2025-07-21T09:08:55.263561Z"
    }
   },
   "cell_type": "code",
   "source": [
    "def _normalize_features(features: np.ndarray):\n",
    "    \"\"\"Normalizes node features.\"\"\"\n",
    "    features = features.todense()\n",
    "    features /= features.sum(1).reshape(-1, 1)\n",
    "    return features"
   ],
   "id": "fb262778dca71dac",
   "outputs": [],
   "execution_count": 51
  },
  {
   "metadata": {
    "ExecuteTime": {
     "end_time": "2025-07-21T09:08:55.303035Z",
     "start_time": "2025-07-21T09:08:55.298042Z"
    }
   },
   "cell_type": "code",
   "source": [
    "def _one_hot_encode_labels(labels: np.ndarray):\n",
    "    \"\"\"Converts categorical labels to one-hot encoded format.\"\"\"\n",
    "    classes = sorted(list(set(labels)))\n",
    "    class_to_idx = {\n",
    "        c: i for i, c in enumerate(classes)\n",
    "    }\n",
    "\n",
    "    # Corrected labels_one_hot initialization shape\n",
    "    labels_one_hot = np.zeros(\n",
    "        (len(labels), len(classes)),\n",
    "        dtype=np.float32\n",
    "    )\n",
    "    for i, label in enumerate(labels):\n",
    "        labels_one_hot[i, class_to_idx[label]] = 1\n",
    "    return labels_one_hot"
   ],
   "id": "9cdc68273ee4c50d",
   "outputs": [],
   "execution_count": 52
  },
  {
   "metadata": {
    "ExecuteTime": {
     "end_time": "2025-07-21T09:08:55.347348Z",
     "start_time": "2025-07-21T09:08:55.341761Z"
    }
   },
   "cell_type": "code",
   "source": [
    "def _create_masks(num_nodes: int):\n",
    "    \"\"\"Defines standard train, validation, and test masks.\"\"\"\n",
    "    idx_train = jnp.arange(140)\n",
    "    idx_val = jnp.arange(140, 140 + 500)\n",
    "    idx_test = jnp.arange(140 + 500, 140 + 500 + 1000)\n",
    "\n",
    "    train_mask = jnp.zeros(\n",
    "        num_nodes, dtype=bool\n",
    "    ).at[idx_train].set(True)\n",
    "    val_mask = jnp.zeros(\n",
    "        num_nodes, dtype=bool\n",
    "    ).at[idx_val].set(True)\n",
    "    test_mask = jnp.zeros(\n",
    "        num_nodes, dtype=bool\n",
    "    ).at[idx_test].set(True)\n",
    "\n",
    "    return train_mask, val_mask, test_mask"
   ],
   "id": "3574b3e31e743e2",
   "outputs": [],
   "execution_count": 53
  },
  {
   "metadata": {
    "ExecuteTime": {
     "end_time": "2025-07-21T09:08:55.389989Z",
     "start_time": "2025-07-21T09:08:55.384597Z"
    }
   },
   "cell_type": "code",
   "source": [
    "def load_cora(path: str = \"./dataset/cora/\"):\n",
    "    \"\"\"\n",
    "    Loads and preprocesses the Cora dataset\n",
    "    from raw .content and .cites files.\n",
    "\n",
    "    Args:\n",
    "        path (str): Directory path where\n",
    "            cora.content and cora.cites are located.\n",
    "            Defaults to \"./dataset/cora/\".\n",
    "\n",
    "    Returns:\n",
    "        tuple:\n",
    "        (adj, features, labels, train_mask, val_mask, test_mask)\n",
    "        where adj, features, and labels are JAX numpy arrays.\n",
    "    \"\"\"\n",
    "    # 1. Load features and labels, and create paper ID to index mapping\n",
    "    features_sparse, labels_raw, paper_ids = _load_content_file(path + \"cora.content\")\n",
    "    idx_map = {paper_id: idx for idx, paper_id in enumerate(paper_ids)}\n",
    "\n",
    "    # 2. Build adjacency matrix\n",
    "    adj_sparse = _load_cites_file(path + \"cora.cites\", idx_map)\n",
    "\n",
    "    # 3. Preprocess features\n",
    "    features_normalized = _normalize_features(features_sparse)\n",
    "\n",
    "    # 4. One-hot encode labels\n",
    "    labels_one_hot = _one_hot_encode_labels(labels_raw)\n",
    "\n",
    "    # 5. Create masks for data splits\n",
    "    num_nodes = labels_raw.shape[0]  # Use the original number of labels for node count\n",
    "    train_mask, val_mask, test_mask = _create_masks(num_nodes)\n",
    "\n",
    "    # 6. Convert to JAX numpy arrays\n",
    "    adj_jax = jnp.asarray(adj_sparse.todense(), dtype=jnp.float32)\n",
    "    features_jax = jnp.asarray(features_normalized, dtype=jnp.float32)\n",
    "    labels_jax = jnp.asarray(labels_one_hot, dtype=jnp.float32)\n",
    "\n",
    "    return adj_jax, features_jax, labels_jax, train_mask, val_mask, test_mask"
   ],
   "id": "e3131219eae4999b",
   "outputs": [],
   "execution_count": 54
  },
  {
   "metadata": {
    "ExecuteTime": {
     "end_time": "2025-07-21T09:08:57.704042Z",
     "start_time": "2025-07-21T09:08:55.426483Z"
    }
   },
   "cell_type": "code",
   "source": [
    "adj_raw, features, labels, train_mask, val_mask, test_mask = load_cora()\n",
    "\n",
    "print(f\"\\nCora dataset loaded:\")\n",
    "print(f\"Number of nodes: {adj_raw.shape[0]}\")\n",
    "print(f\"Number of features per node: {features.shape[1]}\")\n",
    "print(f\"Number of classes: {labels.shape[1]}\")\n",
    "print(f\"Features shape: {features.shape}\")\n",
    "print(f\"Adjacency matrix shape: {adj_raw.shape}\")\n",
    "print(f\"Labels shape (one-hot encoded): {labels.shape}\")\n",
    "print(f\"Train nodes: {jnp.sum(train_mask)}\")\n",
    "print(f\"Validation nodes: {jnp.sum(val_mask)}\")\n",
    "print(f\"Test nodes: {jnp.sum(test_mask)}\")\n"
   ],
   "id": "eaefb660a0207530",
   "outputs": [
    {
     "name": "stdout",
     "output_type": "stream",
     "text": [
      "Loading content file: ./dataset/cora/cora.content\n",
      "Loading cites file: ./dataset/cora/cora.cites\n",
      "\n",
      "Cora dataset loaded:\n",
      "Number of nodes: 2708\n",
      "Number of features per node: 1433\n",
      "Number of classes: 7\n",
      "Features shape: (2708, 1433)\n",
      "Adjacency matrix shape: (2708, 2708)\n",
      "Labels shape (one-hot encoded): (2708, 7)\n",
      "Train nodes: 140\n",
      "Validation nodes: 500\n",
      "Test nodes: 1000\n"
     ]
    }
   ],
   "execution_count": 55
  },
  {
   "metadata": {
    "ExecuteTime": {
     "end_time": "2025-07-21T09:08:57.743617Z",
     "start_time": "2025-07-21T09:08:57.739048Z"
    }
   },
   "cell_type": "code",
   "source": [
    "def preprocess_adjacency_matrix(adj):\n",
    "    \"\"\"\n",
    "    Adds self-loops and symmetrically normalizes the adjacency matrix.\n",
    "\n",
    "    Args:\n",
    "        adj (jnp.ndarray): The raw adjacency matrix from your dataset.\n",
    "\n",
    "    Returns:\n",
    "        jnp.ndarray: The transformed adjacency matrix ready for the GCN.\n",
    "    \"\"\"\n",
    "    # Input validation\n",
    "    if adj is None:\n",
    "        raise ValueError(\"Adjacency matrix cannot be None\")\n",
    "    if adj.ndim != 2:\n",
    "        raise ValueError(f\"Expected 2D adjacency matrix, got {adj.ndim}D\")\n",
    "    if adj.shape[0] != adj.shape[1]:\n",
    "        raise ValueError(f\"Adjacency matrix must be square, got shape {adj.shape}\")\n",
    "\n",
    "    # Step 1: Add self-loops (A' = A + I)\n",
    "    # This ensures each node considers its own features during aggregation.\n",
    "    adj_self_loops = adj + jnp.eye(adj.shape[0])\n",
    "\n",
    "    # Step 2: Calculate the inverse square root of the degree matrix (D'^-0.5)\n",
    "    # This creates the normalization factor.\n",
    "    degrees = jnp.sum(adj_self_loops, axis=1)\n",
    "    # Add small epsilon to prevent division by zero for isolated nodes\n",
    "    D_hat = jnp.diag((degrees + 1e-8) ** -0.5)\n",
    "\n",
    "    # Step 3: Symmetrically normalize the matrix (D'^-0.5 * A' * D'^-0.5)\n",
    "    # This averages neighbor features, preventing issues from node degrees.\n",
    "    A_hat = D_hat @ adj_self_loops @ D_hat\n",
    "\n",
    "    return A_hat\n"
   ],
   "id": "f8fb3829b37d126",
   "outputs": [],
   "execution_count": 56
  },
  {
   "metadata": {
    "ExecuteTime": {
     "end_time": "2025-07-21T09:08:57.798184Z",
     "start_time": "2025-07-21T09:08:57.777841Z"
    }
   },
   "cell_type": "code",
   "source": [
    "# Create the correctly processed adjacency matrix\n",
    "adj_normalized = preprocess_adjacency_matrix(adj_raw)"
   ],
   "id": "a98d6c2e0fccbeb4",
   "outputs": [],
   "execution_count": 57
  },
  {
   "metadata": {},
   "cell_type": "markdown",
   "source": "# Cora Dataset (Torch Geometric)",
   "id": "1db601492187f114"
  },
  {
   "metadata": {
    "ExecuteTime": {
     "end_time": "2025-07-21T09:29:32.335492Z",
     "start_time": "2025-07-21T09:29:32.250299Z"
    }
   },
   "cell_type": "code",
   "source": [
    "# --- Load Data (Torch Geometric) ---\n",
    "cora_dataset = torch_geometric.datasets.Planetoid(root=\"./dataset\", name=\"Cora\")\n",
    "\n",
    "print(cora_dataset[0])"
   ],
   "id": "eb5dbae35f5551ce",
   "outputs": [
    {
     "name": "stdout",
     "output_type": "stream",
     "text": [
      "Data(x=[2708, 1433], edge_index=[2, 10556], y=[2708], train_mask=[2708], val_mask=[2708], test_mask=[2708])\n"
     ]
    }
   ],
   "execution_count": 80
  },
  {
   "metadata": {
    "ExecuteTime": {
     "end_time": "2025-07-21T09:08:58.190900Z",
     "start_time": "2025-07-21T09:08:58.091563Z"
    }
   },
   "cell_type": "code",
   "source": [
    "# Convert PyTorch tensors to JAX arrays\n",
    "data = cora_dataset[0]\n",
    "edge_index = jnp.array(data.edge_index.numpy())\n",
    "features = jnp.array(data.x.numpy())\n",
    "labels_int = jnp.array(data.y.numpy())\n",
    "train_mask = jnp.array(data.train_mask.numpy())\n",
    "val_mask = jnp.array(data.val_mask.numpy())\n",
    "test_mask = jnp.array(data.test_mask.numpy())\n",
    "\n",
    "# Convert edge_index to adjacency matrix\n",
    "num_nodes = features.shape[0]\n",
    "adj_raw = jnp.zeros((num_nodes, num_nodes))\n",
    "adj_raw = adj_raw.at[edge_index[0], edge_index[1]].set(1.0)\n",
    "adj_raw = adj_raw.at[edge_index[1], edge_index[0]].set(1.0)\n",
    "\n",
    "# Convert integer labels to one-hot\n",
    "num_classes = jnp.max(labels_int) + 1\n",
    "labels = jnp.eye(num_classes)[labels_int]\n",
    "\n",
    "# Process adjacency matrix (add self-loops and normalize)\n",
    "adj_normalized = preprocess_adjacency_matrix(adj_raw)"
   ],
   "id": "f8044475e74203bb",
   "outputs": [],
   "execution_count": 59
  },
  {
   "metadata": {
    "ExecuteTime": {
     "end_time": "2025-07-21T09:08:58.447467Z",
     "start_time": "2025-07-21T09:08:58.443489Z"
    }
   },
   "cell_type": "code",
   "source": [
    "print(f\"\\nCora dataset loaded:\")\n",
    "print(f\"Number of nodes: {adj_normalized.shape[0]}\")\n",
    "print(f\"Number of features per node: {features.shape[1]}\")\n",
    "print(f\"Number of classes: {labels.shape[1]}\")\n",
    "print(f\"Features shape: {features.shape}\")\n",
    "print(f\"Adjacency matrix shape: {adj_normalized.shape}\")\n",
    "print(f\"Labels shape (one-hot encoded): {labels.shape}\")\n",
    "print(f\"Train nodes: {jnp.sum(train_mask)}\")\n",
    "print(f\"Validation nodes: {jnp.sum(val_mask)}\")\n",
    "print(f\"Test nodes: {jnp.sum(test_mask)}\")"
   ],
   "id": "9c7b85be90af00e6",
   "outputs": [
    {
     "name": "stdout",
     "output_type": "stream",
     "text": [
      "\n",
      "Cora dataset loaded:\n",
      "Number of nodes: 2708\n",
      "Number of features per node: 1433\n",
      "Number of classes: 7\n",
      "Features shape: (2708, 1433)\n",
      "Adjacency matrix shape: (2708, 2708)\n",
      "Labels shape (one-hot encoded): (2708, 7)\n",
      "Train nodes: 140\n",
      "Validation nodes: 500\n",
      "Test nodes: 1000\n"
     ]
    }
   ],
   "execution_count": 60
  },
  {
   "metadata": {},
   "cell_type": "markdown",
   "source": "# Building the MLP Layer (Benchmark)",
   "id": "6f1c6afa110571c3"
  },
  {
   "metadata": {
    "ExecuteTime": {
     "end_time": "2025-07-21T09:08:58.537601Z",
     "start_time": "2025-07-21T09:08:58.531265Z"
    }
   },
   "cell_type": "code",
   "source": [
    "class MLP(nnx.Module):\n",
    "    def __init__(self, in_features, hidden_features, out_features, dropout_rate=0.1, *, rngs: nnx.Rngs):\n",
    "        self.layers = []\n",
    "        current_features = in_features\n",
    "\n",
    "        # Add hidden layers with Linear + ReLU + Dropout\n",
    "        for hidden_dim in hidden_features:\n",
    "            self.layers.extend([\n",
    "                nnx.Linear(current_features, hidden_dim, rngs=rngs),\n",
    "                nnx.relu,\n",
    "                nnx.Dropout(rate=dropout_rate, rngs=rngs)\n",
    "            ])\n",
    "            current_features = hidden_dim\n",
    "\n",
    "        # Final output layer (no activation, no dropout)\n",
    "        self.layers.append(nnx.Linear(current_features, out_features, rngs=rngs))\n",
    "\n",
    "    def __call__(self, x, *, rngs: nnx.Rngs):\n",
    "        for layer in self.layers:\n",
    "            if callable(layer):\n",
    "                if hasattr(layer, '__call__') and 'rngs' in layer.__call__.__code__.co_varnames:\n",
    "                    # For layers that need rngs (Linear, Dropout)\n",
    "                    x = layer(x, rngs=rngs)\n",
    "                else:\n",
    "                    # For activation functions (relu)\n",
    "                    x = layer(x)\n",
    "        return x"
   ],
   "id": "eb625dda45635067",
   "outputs": [],
   "execution_count": 61
  },
  {
   "metadata": {},
   "cell_type": "markdown",
   "source": "# Building the GCN Layer",
   "id": "47c29dd20f661586"
  },
  {
   "metadata": {
    "ExecuteTime": {
     "end_time": "2025-07-21T09:08:58.575006Z",
     "start_time": "2025-07-21T09:08:58.570013Z"
    }
   },
   "cell_type": "code",
   "source": [
    "class GCNLayer(nnx.Module):\n",
    "    def __init__(\n",
    "            self,\n",
    "            input_features: int,\n",
    "            output_features: int,\n",
    "            dropout_rate: float = 0.0,\n",
    "            apply_activation: bool = True,\n",
    "            *, rngs: nnx.Rngs\n",
    "    ):\n",
    "        self.linear = nnx.Linear(\n",
    "            input_features,\n",
    "            output_features,\n",
    "            kernel_init=nnx.initializers.glorot_uniform(),\n",
    "            rngs=rngs\n",
    "        )\n",
    "        self.dropout = nnx.Dropout(\n",
    "            rate=dropout_rate,\n",
    "            rngs=rngs\n",
    "        )\n",
    "        self.apply_activation = apply_activation\n",
    "\n",
    "    def __call__(\n",
    "            self,\n",
    "            A_hat: jnp.ndarray,\n",
    "            H: jnp.ndarray,\n",
    "            *, rngs: nnx.Rngs,\n",
    "    ):\n",
    "        \"\"\"\n",
    "        Applies a single Graph Convolutional\n",
    "        Network layer using NNX.\n",
    "\n",
    "        Args:\n",
    "            A_hat (jnp.ndarray): The symmetrically\n",
    "                normalized adjacency matrix.\n",
    "            H (jnp.ndarray): The input node embeddings/\n",
    "                features from the previous layer.\n",
    "            rngs (nnx.Rngs): Random number generator\n",
    "                collection for dropout.\n",
    "\n",
    "        Returns:\n",
    "            jnp.ndarray: The output node embeddings/\n",
    "                features for the current layer.\n",
    "        \"\"\"\n",
    "        # 1. Dropout for regularization\n",
    "        # nnx knows when to apply dropout - train\n",
    "        #   and when don't - eval\n",
    "        H_dropped = self.dropout(H, rngs=rngs)\n",
    "\n",
    "        # 2. Linear Transformation (H^(l) * W^(l))\n",
    "        H_linear = self.linear(H_dropped)\n",
    "\n",
    "        # 3. Graph Convolution (A_hat * H_linear)\n",
    "        H_aggregated = A_hat @ H_linear\n",
    "\n",
    "        # 4. Activation Function (if enabled)\n",
    "        if self.apply_activation:\n",
    "            H_output = nnx.relu(H_aggregated)\n",
    "        else:\n",
    "            H_output = H_aggregated\n",
    "\n",
    "        return H_output\n"
   ],
   "id": "d1b31036f6a5b5d1",
   "outputs": [],
   "execution_count": 62
  },
  {
   "metadata": {
    "ExecuteTime": {
     "end_time": "2025-07-21T09:08:58.611845Z",
     "start_time": "2025-07-21T09:08:58.606984Z"
    }
   },
   "cell_type": "code",
   "source": [
    "class GCN(nnx.Module):\n",
    "    \"\"\"A graph Convolutional Network Model\"\"\"\n",
    "\n",
    "    def __init__(\n",
    "            self,\n",
    "            input_features: int,\n",
    "            hidden_features: Sequence[int],\n",
    "            output_features: int,\n",
    "            dropout_rate: float,\n",
    "            *, rngs: nnx.Rngs\n",
    "    ):\n",
    "        self.gcn_layers = []\n",
    "        current_features = input_features\n",
    "\n",
    "        # Create the hidden GCN layers\n",
    "        for hidden_dim in hidden_features:\n",
    "            self.gcn_layers.append(\n",
    "                GCNLayer(\n",
    "                    input_features=current_features,\n",
    "                    output_features=hidden_dim,\n",
    "                    dropout_rate=dropout_rate,\n",
    "                    rngs=rngs\n",
    "                )\n",
    "            )\n",
    "            # The input of the next layer is the\n",
    "            #   output to this one\n",
    "            current_features = hidden_dim\n",
    "\n",
    "        # The final layer maps node embeddings to output classes\n",
    "        # No activation for final layer (raw logits for classification)\n",
    "        self.output_layer = GCNLayer(\n",
    "            input_features=current_features,\n",
    "            output_features=output_features,\n",
    "            dropout_rate=0.0,  # No dropout in final layer\n",
    "            apply_activation=False,\n",
    "            rngs=rngs\n",
    "        )\n",
    "\n",
    "    def __call__(\n",
    "            self,\n",
    "            A_hat: jnp.ndarray,\n",
    "            H: jnp.ndarray,\n",
    "            *, rngs: nnx.Rngs,\n",
    "    ):\n",
    "        \"\"\"Performs the forward pass of the GCN.\"\"\"\n",
    "        # Pass data through all the GCN layers\n",
    "        for layer in self.gcn_layers:\n",
    "            H = layer(A_hat=A_hat, H=H, rngs=rngs)\n",
    "\n",
    "        # Apply the final layer to get logits\n",
    "        logits = self.output_layer(A_hat=A_hat, H=H, rngs=rngs)\n",
    "        return logits"
   ],
   "id": "2420c4c7737a68c3",
   "outputs": [],
   "execution_count": 63
  },
  {
   "metadata": {},
   "cell_type": "markdown",
   "source": "# Loss Function",
   "id": "b616b270117591c0"
  },
  {
   "metadata": {
    "ExecuteTime": {
     "end_time": "2025-07-21T09:08:58.649023Z",
     "start_time": "2025-07-21T09:08:58.644789Z"
    }
   },
   "cell_type": "code",
   "source": [
    "# --- Loss & Accuracy Functions ---\n",
    "def categorical_loss(logits, labels, mask):\n",
    "    \"\"\"Calculates masked cross-entropy loss.\"\"\"\n",
    "    # Convert one-hot labels to integer labels for this loss function\n",
    "    int_labels = jnp.argmax(labels, axis=1)\n",
    "    loss = optax.softmax_cross_entropy_with_integer_labels(logits, int_labels)\n",
    "    # Use jnp.where to apply mask without boolean indexing\n",
    "    masked_loss = jnp.where(mask, loss, 0.0)\n",
    "    # Return the mean loss only for the nodes in the mask\n",
    "    return jnp.sum(masked_loss) / jnp.sum(mask)\n",
    "\n",
    "def loss_fn(model, batch, rngs: nnx.Rngs):\n",
    "    \"\"\"Generic loss function that works with both GCN and MLP models.\"\"\"\n",
    "    # Check if model is GCN (needs adjacency matrix) or MLP (only features)\n",
    "    if hasattr(model, 'gcn_layers') or isinstance(model, GCN):\n",
    "        # GCN model - pass adjacency matrix\n",
    "        logits = model(\n",
    "            batch[\"adj\"],\n",
    "            batch[\"features\"],\n",
    "            rngs=rngs\n",
    "        )\n",
    "    else:\n",
    "        # MLP model - only pass features\n",
    "        logits = model(batch[\"features\"], rngs=rngs)\n",
    "\n",
    "    loss = categorical_loss(\n",
    "        logits,\n",
    "        batch[\"label\"],\n",
    "        batch[\"mask\"]\n",
    "    )\n",
    "    return loss, logits"
   ],
   "id": "248b3c91610800cb",
   "outputs": [],
   "execution_count": 64
  },
  {
   "metadata": {},
   "cell_type": "markdown",
   "source": "# Train Step",
   "id": "464af450203f5caa"
  },
  {
   "metadata": {
    "ExecuteTime": {
     "end_time": "2025-07-21T09:08:58.692852Z",
     "start_time": "2025-07-21T09:08:58.686944Z"
    }
   },
   "cell_type": "code",
   "source": [
    "@nnx.jit\n",
    "def train_step(\n",
    "        model,\n",
    "        optimizer,\n",
    "        metrics: nnx.MultiMetric,\n",
    "        batch,\n",
    "        rngs: nnx.Rngs\n",
    "):\n",
    "    \"\"\"Performs one training step: computes grads, updates model.\"\"\"\n",
    "    grad_fn = nnx.value_and_grad(\n",
    "        loss_fn,\n",
    "        has_aux=True,\n",
    "    )\n",
    "    (loss, logits), grads = grad_fn(model, batch, rngs)\n",
    "\n",
    "    metrics.update(\n",
    "        loss=loss,\n",
    "        logits=logits,\n",
    "        labels=jnp.argmax(batch[\"label\"], axis=1),\n",
    "        mask=batch[\"mask\"],\n",
    "    )\n",
    "    optimizer.update(grads)  # In-place updates"
   ],
   "id": "eddc54f62f9626c7",
   "outputs": [],
   "execution_count": 65
  },
  {
   "metadata": {},
   "cell_type": "markdown",
   "source": "# Eval Step",
   "id": "8a586d269e5fd7cc"
  },
  {
   "metadata": {
    "ExecuteTime": {
     "end_time": "2025-07-21T09:08:58.729434Z",
     "start_time": "2025-07-21T09:08:58.725847Z"
    }
   },
   "cell_type": "code",
   "source": [
    "@nnx.jit\n",
    "def eval_step(\n",
    "        model,\n",
    "        metrics: nnx.MultiMetric,\n",
    "        batch,\n",
    "        rngs: nnx.Rngs\n",
    "):\n",
    "    # In evaluation mode, dropout is automatically disabled by NNX\n",
    "    # when no training is happening (deterministic behavior)\n",
    "    loss, logits = loss_fn(model, batch, rngs)\n",
    "\n",
    "    metrics.update(\n",
    "        loss=loss,\n",
    "        logits=logits,\n",
    "        labels=jnp.argmax(batch[\"label\"], axis=1),\n",
    "        mask=batch[\"mask\"],\n",
    "    )"
   ],
   "id": "85367798a2e2b93f",
   "outputs": [],
   "execution_count": 66
  },
  {
   "metadata": {},
   "cell_type": "markdown",
   "source": "# Batch",
   "id": "91129ac34da2e956"
  },
  {
   "metadata": {
    "ExecuteTime": {
     "end_time": "2025-07-21T09:08:58.762048Z",
     "start_time": "2025-07-21T09:08:58.758804Z"
    }
   },
   "cell_type": "code",
   "source": [
    "# Create batch format for GCN training\n",
    "def create_batch(adj, features, labels, mask):\n",
    "    \"\"\"Creates a batch in the format expected by the training loop.\"\"\"\n",
    "    return {\n",
    "        \"adj\": adj,\n",
    "        \"label\": labels,\n",
    "        \"mask\": mask,\n",
    "        \"features\": features\n",
    "    }\n"
   ],
   "id": "2076da4c9f146ffc",
   "outputs": [],
   "execution_count": 67
  },
  {
   "metadata": {},
   "cell_type": "markdown",
   "source": "# Custom Metrics",
   "id": "fe1d91b9b63c35d8"
  },
  {
   "metadata": {
    "ExecuteTime": {
     "end_time": "2025-07-21T09:08:58.801985Z",
     "start_time": "2025-07-21T09:08:58.795671Z"
    }
   },
   "cell_type": "code",
   "source": [
    "class MaskedAccuracy(nnx.metrics.Average):\n",
    "    \"\"\"Accuracy metric that respects node masks for graph node classification.\"\"\"\n",
    "\n",
    "    def __init__(self):\n",
    "        super().__init__()\n",
    "\n",
    "    def update(self, *, logits, labels, mask=None, **kwargs):\n",
    "        predictions = jnp.argmax(logits, axis=-1)\n",
    "        correct_predictions = (predictions == labels).astype(jnp.float32)\n",
    "\n",
    "        if mask is not None:\n",
    "            # Only count predictions for masked nodes\n",
    "            masked_correct = jnp.where(mask, correct_predictions, 0.0)\n",
    "            masked_total = jnp.where(mask, 1.0, 0.0)\n",
    "            # Update with the average accuracy for this batch\n",
    "            batch_accuracy = jnp.sum(masked_correct) / (jnp.sum(masked_total) + 1e-8)\n",
    "        else:\n",
    "            batch_accuracy = jnp.mean(correct_predictions)\n",
    "\n",
    "        super().update(values=batch_accuracy)\n",
    "\n",
    "class F1Score(nnx.metrics.Average):\n",
    "    \"\"\"Macro-averaged F1 score for multi-class classification.\"\"\"\n",
    "\n",
    "    def __init__(self, num_classes):\n",
    "        super().__init__()\n",
    "        self.num_classes = num_classes\n",
    "\n",
    "    def update(self, *, logits, labels, **kwargs):\n",
    "        predictions = jnp.argmax(logits, axis=-1)\n",
    "\n",
    "        # Calculate F1 per class\n",
    "        f1_scores = []\n",
    "        for class_idx in range(self.num_classes):\n",
    "            pred_class = (predictions == class_idx)\n",
    "            true_class = (labels == class_idx)\n",
    "\n",
    "            tp = jnp.sum(pred_class & true_class)\n",
    "            fp = jnp.sum(pred_class & ~true_class)\n",
    "            fn = jnp.sum(~pred_class & true_class)\n",
    "\n",
    "            precision = tp / (tp + fp + 1e-8)\n",
    "            recall = tp / (tp + fn + 1e-8)\n",
    "            f1 = 2 * (precision * recall) / (precision + recall + 1e-8)\n",
    "            f1_scores.append(f1)\n",
    "\n",
    "        # Compute macro-averaged F1\n",
    "        macro_f1 = jnp.mean(jnp.array(f1_scores))\n",
    "        super().update(values=macro_f1)"
   ],
   "id": "edde6fd9b88376ba",
   "outputs": [],
   "execution_count": 68
  },
  {
   "metadata": {},
   "cell_type": "markdown",
   "source": "# Train Model",
   "id": "5d62cbd2b6d3c896"
  },
  {
   "metadata": {
    "ExecuteTime": {
     "end_time": "2025-07-21T09:08:58.844171Z",
     "start_time": "2025-07-21T09:08:58.833961Z"
    }
   },
   "cell_type": "code",
   "source": [
    "def train_model(model, train_batch, val_batch, test_batch,\n",
    "                learning_rate=0.01, epochs=200, eval_every=20,\n",
    "                model_name=\"Model\"):\n",
    "    \"\"\"\n",
    "    Generic training function that works with both GCN and MLP models.\n",
    "\n",
    "    Args:\n",
    "        model: The model to train (GCN or MLP)\n",
    "        train_batch: Training data batch\n",
    "        val_batch: Validation data batch\n",
    "        test_batch: Test data batch\n",
    "        learning_rate: Learning rate for optimizer\n",
    "        epochs: Number of training epochs\n",
    "        eval_every: Evaluate every N steps\n",
    "        model_name: Name for logging purposes\n",
    "\n",
    "    Returns:\n",
    "        dict: Training history and final results\n",
    "    \"\"\"\n",
    "    # Initialize optimizer\n",
    "    optimizer = nnx.Optimizer(model, optax.adam(learning_rate))\n",
    "\n",
    "    # Initialize metrics\n",
    "    num_classes = train_batch['label'].shape[1]\n",
    "    metrics = nnx.MultiMetric(\n",
    "        accuracy=nnx.metrics.Accuracy(),\n",
    "        masked_accuracy=MaskedAccuracy(),\n",
    "        f1_score=F1Score(num_classes=num_classes),\n",
    "        loss=nnx.metrics.Average('loss'),\n",
    "    )\n",
    "\n",
    "    # Training history\n",
    "    metrics_history = {\n",
    "        'train_loss': [],\n",
    "        'train_accuracy': [],\n",
    "        'train_masked_accuracy': [],\n",
    "        'train_f1_score': [],\n",
    "        'val_loss': [],\n",
    "        'val_accuracy': [],\n",
    "        'val_masked_accuracy': [],\n",
    "        'val_f1_score': [],\n",
    "    }\n",
    "\n",
    "    # Best model tracking\n",
    "    best_val_acc = 0.0\n",
    "    best_model_state = None\n",
    "\n",
    "    # Initialize RNG\n",
    "    rng = nnx.Rngs(42)\n",
    "\n",
    "    print(f\"\\n=== Training {model_name} ===\\n\")\n",
    "\n",
    "    # Training loop\n",
    "    for step in range(epochs):\n",
    "        # Training step\n",
    "        train_step(model, optimizer, metrics, train_batch, rng)\n",
    "\n",
    "        # Evaluation\n",
    "        if step > 0 and (step % eval_every == 0 or step == epochs - 1):\n",
    "            # Compute training metrics\n",
    "            for metric, value in metrics.compute().items():\n",
    "                metrics_history[f'train_{metric}'].append(value)\n",
    "            metrics.reset()\n",
    "\n",
    "            # Compute validation metrics\n",
    "            eval_step(model, metrics, val_batch, rng)\n",
    "            for metric, value in metrics.compute().items():\n",
    "                metrics_history[f'val_{metric}'].append(value)\n",
    "            metrics.reset()\n",
    "\n",
    "            # Track best model\n",
    "            current_val_acc = metrics_history['val_accuracy'][-1]\n",
    "            if current_val_acc > best_val_acc:\n",
    "                best_val_acc = current_val_acc\n",
    "                best_model_state = nnx.state(model)\n",
    "                print(f\"New best validation accuracy: {best_val_acc:.4f}\")\n",
    "\n",
    "            # Log progress\n",
    "            print(f\"Step {step}: Train Loss: {metrics_history['train_loss'][-1]:.4f}, \"\n",
    "                  f\"Train Acc: {metrics_history['train_accuracy'][-1]:.4f}, \"\n",
    "                  f\"Train Masked Acc: {metrics_history['train_masked_accuracy'][-1]:.4f}\")\n",
    "            print(f\"          Val Loss: {metrics_history['val_loss'][-1]:.4f}, \"\n",
    "                  f\"Val Acc: {metrics_history['val_accuracy'][-1]:.4f}, \"\n",
    "                  f\"Val Masked Acc: {metrics_history['val_masked_accuracy'][-1]:.4f}\")\n",
    "\n",
    "    # Final test evaluation with best model\n",
    "    if best_model_state is not None:\n",
    "        nnx.update(model, best_model_state)\n",
    "\n",
    "    test_metrics = nnx.MultiMetric(\n",
    "        accuracy=nnx.metrics.Accuracy(),\n",
    "        masked_accuracy=MaskedAccuracy(),\n",
    "        f1_score=F1Score(num_classes=num_classes),\n",
    "        loss=nnx.metrics.Average('loss'),\n",
    "    )\n",
    "\n",
    "    eval_step(model, test_metrics, test_batch, rng)\n",
    "    final_test_results = test_metrics.compute()\n",
    "\n",
    "    print(f\"\\n=== {model_name} Final Results ===\\n\")\n",
    "    print(f\"Best Validation Accuracy: {best_val_acc:.4f}\")\n",
    "    print(f\"Final Test Accuracy: {final_test_results['accuracy']:.4f}\")\n",
    "    print(f\"Final Test Masked Accuracy: {final_test_results['masked_accuracy']:.4f}\")\n",
    "    print(f\"Final Test F1 Score: {final_test_results['f1_score']:.4f}\")\n",
    "\n",
    "    return {\n",
    "        'metrics_history': metrics_history,\n",
    "        'final_test_results': final_test_results,\n",
    "        'best_val_acc': best_val_acc,\n",
    "        'model_state': best_model_state\n",
    "    }"
   ],
   "id": "96eb39b2a0e54776",
   "outputs": [],
   "execution_count": 69
  },
  {
   "metadata": {},
   "cell_type": "markdown",
   "source": "# Training the GCN Model",
   "id": "4e4609c8f1b3797c"
  },
  {
   "metadata": {
    "ExecuteTime": {
     "end_time": "2025-07-21T09:08:58.877490Z",
     "start_time": "2025-07-21T09:08:58.873952Z"
    }
   },
   "cell_type": "code",
   "source": [
    "# --- Model & Hyperparameters ---\n",
    "LEARNING_RATE = 0.01\n",
    "EPOCHS = 200\n",
    "HIDDEN_FEATURES = [16, 16]\n",
    "DROPOUT_RATE = 0.2"
   ],
   "id": "23d6deba20b4676a",
   "outputs": [],
   "execution_count": 70
  },
  {
   "metadata": {
    "ExecuteTime": {
     "end_time": "2025-07-21T09:15:48.564234Z",
     "start_time": "2025-07-21T09:15:48.523916Z"
    }
   },
   "cell_type": "code",
   "source": [
    "# Print dataset information\n",
    "print(f\"\\nDataset splits:\")\n",
    "print(f\"Training nodes: {jnp.sum(train_mask)}\")\n",
    "print(f\"Validation nodes: {jnp.sum(val_mask)}\")\n",
    "print(f\"Test nodes: {jnp.sum(test_mask)}\")\n",
    "print(f\"Total nodes: {len(features)}\")"
   ],
   "id": "98781c3e60596d61",
   "outputs": [
    {
     "name": "stdout",
     "output_type": "stream",
     "text": [
      "\n",
      "Dataset splits:\n",
      "Training nodes: 140\n",
      "Validation nodes: 500\n",
      "Test nodes: 1000\n",
      "Total nodes: 2708\n"
     ]
    }
   ],
   "execution_count": 78
  },
  {
   "metadata": {
    "ExecuteTime": {
     "end_time": "2025-07-21T09:08:58.912630Z",
     "start_time": "2025-07-21T09:08:58.909943Z"
    }
   },
   "cell_type": "code",
   "source": [
    "# Create train, validation, and test batches\n",
    "train_batch = create_batch(adj_normalized, features, labels, train_mask)\n",
    "val_batch = create_batch(adj_normalized, features, labels, val_mask)\n",
    "test_batch = create_batch(adj_normalized, features, labels, test_mask)"
   ],
   "id": "8e6173d4a43c8c12",
   "outputs": [],
   "execution_count": 71
  },
  {
   "metadata": {
    "ExecuteTime": {
     "end_time": "2025-07-21T09:15:54.601946Z",
     "start_time": "2025-07-21T09:15:54.591308Z"
    }
   },
   "cell_type": "code",
   "source": [
    "print(\"Batch format created successfully!\")\n",
    "print(f\"Train batch keys: {list(train_batch.keys())}\")\n",
    "print(f\"Features shape: {train_batch['features'].shape}\")\n",
    "print(f\"Labels shape: {train_batch['label'].shape}\")\n",
    "print(f\"Adjacency shape: {train_batch['adj'].shape}\")\n",
    "print(f\"Train mask sum: {jnp.sum(train_batch['mask'])}\")\n",
    "print(f\"Validation mask sum: {jnp.sum(val_batch['mask'])}\")\n",
    "print(f\"Test mask sum: {jnp.sum(test_batch['mask'])}\")"
   ],
   "id": "a9c9e79c06242a6c",
   "outputs": [
    {
     "name": "stdout",
     "output_type": "stream",
     "text": [
      "Batch format created successfully!\n",
      "Train batch keys: ['adj', 'label', 'mask', 'features']\n",
      "Features shape: (2708, 1433)\n",
      "Labels shape: (2708, 7)\n",
      "Adjacency shape: (2708, 2708)\n",
      "Train mask sum: 140\n",
      "Validation mask sum: 500\n",
      "Test mask sum: 1000\n"
     ]
    }
   ],
   "execution_count": 79
  },
  {
   "metadata": {
    "ExecuteTime": {
     "end_time": "2025-07-21T09:08:59.087435Z",
     "start_time": "2025-07-21T09:08:59.049143Z"
    }
   },
   "cell_type": "code",
   "source": [
    "# --- Model Comparison: GCN vs MLP ---\n",
    "\n",
    "# Initialize both models\n",
    "gcn_model = GCN(\n",
    "    input_features=features.shape[1],\n",
    "    output_features=labels.shape[1],\n",
    "    hidden_features=HIDDEN_FEATURES,\n",
    "    dropout_rate=DROPOUT_RATE,\n",
    "    rngs=nnx.Rngs(0),\n",
    ")\n",
    "\n",
    "mlp_model = MLP(\n",
    "    in_features=features.shape[1],\n",
    "    hidden_features=HIDDEN_FEATURES,\n",
    "    out_features=labels.shape[1],\n",
    "    dropout_rate=DROPOUT_RATE,\n",
    "    rngs=nnx.Rngs(1),\n",
    ")"
   ],
   "id": "949914cb7063684b",
   "outputs": [],
   "execution_count": 74
  },
  {
   "metadata": {
    "ExecuteTime": {
     "end_time": "2025-07-21T09:08:59.247034Z",
     "start_time": "2025-07-21T09:08:59.122747Z"
    }
   },
   "cell_type": "code",
   "source": [
    "# Visualize GCN model\n",
    "graphdef, state = nnx.split(gcn_model)\n",
    "nnx.display(graphdef, state)"
   ],
   "id": "94c49478a07809ef",
   "outputs": [
    {
     "data": {
      "text/plain": [
       "<IPython.core.display.HTML object>"
      ],
      "text/html": [
       "<script> (()=>{ if (customElements.get('treescope-container') === undefined) { class TreescopeContainer extends HTMLElement { constructor() { super(); this.attachShadow({mode: \"open\"}); this.defns = {}; this.state = {}; } } customElements.define(\"treescope-container\", TreescopeContainer); } if (customElements.get('treescope-run-here') === undefined) { class RunHere extends HTMLElement { constructor() { super() } connectedCallback() { const run = child => { const fn = new Function(child.textContent); child.textContent = \"\"; fn.call(this); this.remove(); }; const child = this.querySelector(\"script\"); if (child) { run(child); } else { new MutationObserver(()=>{ run(this.querySelector(\"script\")); }).observe(this, {childList: true}); } } } customElements.define(\"treescope-run-here\", RunHere); } })(); </script> <treescope-container class=\"treescope_out_f45ffd5ccec941dea56a27e58d620c75\" style=\"display:block\"></treescope-container> <treescope-run-here><script type=\"application/octet-stream\"> const root = ( Array.from(document.getElementsByClassName( \"treescope_out_f45ffd5ccec941dea56a27e58d620c75\")) .filter((elt) => !elt.dataset.setup) )[0]; root.dataset.setup = 1; const msg = document.createElement(\"span\"); msg.style = \"color: #cccccc; font-family: monospace;\"; msg.textContent = \"(Loading...)\"; root.state.loadingMsg = msg; root.shadowRoot.appendChild(msg); root.state.chain = new Promise((resolve, reject) => { const observer = new IntersectionObserver((entries) => { for (const entry of entries) { if (entry.isIntersecting) { resolve(); observer.disconnect(); return; } } }, {rootMargin: \"1000px\"}); window.setTimeout(() => { observer.observe(root); }, 0); }); root.state.deferring = false; const _insertNode = (node) => { for (let oldScript of node.querySelectorAll(\"script\")) { let newScript = document.createElement(\"script\"); newScript.type = oldScript.type; newScript.textContent = oldScript.textContent; oldScript.parentNode.replaceChild(newScript, oldScript); } if (root.state.loadingMsg) { root.state.loadingMsg.remove(); root.state.loadingMsg = null; } root.shadowRoot.appendChild(node); }; root.defns.insertContent = ((contentNode, compressed) => { if (compressed) { root.state.deferring = true; } if (root.state.deferring) { root.state.chain = (async () => { await root.state.chain; if (compressed) { const encoded = contentNode.textContent; const blob = new Blob([ Uint8Array.from(atob(encoded), (m) => m.codePointAt(0)) ]); const reader = blob.stream().pipeThrough( new DecompressionStream(\"deflate\") ).pipeThrough( new TextDecoderStream(\"utf-8\") ).getReader(); const parts = []; while (true) { const step = await reader.read(); if (step.done) { break; } parts.push(step.value); } const tpl = document.createElement('template'); tpl.innerHTML = parts.join(\"\"); _insertNode(tpl.content); } else { _insertNode(contentNode.content); } })(); } else { _insertNode(contentNode.content); } }); </script></treescope-run-here><div style=\"display:none\"> <script type=\"application/octet-stream\" >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</script> <treescope-run-here><script type=\"application/octet-stream\"> const root = ( Array.from(document.getElementsByClassName( \"treescope_out_f45ffd5ccec941dea56a27e58d620c75\")) .filter((elt) => !elt.dataset['step0']) )[0]; root.dataset['step0'] = 1; root.defns.insertContent( this.parentNode.querySelector('script[type=\"application/octet-stream\"]'), true ); this.parentNode.remove(); </script></treescope-run-here> </div>"
      ]
     },
     "metadata": {},
     "output_type": "display_data"
    },
    {
     "data": {
      "text/plain": [
       "<IPython.core.display.HTML object>"
      ],
      "text/html": [
       "<script> (()=>{ if (customElements.get('treescope-container') === undefined) { class TreescopeContainer extends HTMLElement { constructor() { super(); this.attachShadow({mode: \"open\"}); this.defns = {}; this.state = {}; } } customElements.define(\"treescope-container\", TreescopeContainer); } if (customElements.get('treescope-run-here') === undefined) { class RunHere extends HTMLElement { constructor() { super() } connectedCallback() { const run = child => { const fn = new Function(child.textContent); child.textContent = \"\"; fn.call(this); this.remove(); }; const child = this.querySelector(\"script\"); if (child) { run(child); } else { new MutationObserver(()=>{ run(this.querySelector(\"script\")); }).observe(this, {childList: true}); } } } customElements.define(\"treescope-run-here\", RunHere); } })(); </script> <treescope-container class=\"treescope_out_892ae8ae6ded4529accca1d0fa6dd370\" style=\"display:block\"></treescope-container> <treescope-run-here><script type=\"application/octet-stream\"> const root = ( Array.from(document.getElementsByClassName( \"treescope_out_892ae8ae6ded4529accca1d0fa6dd370\")) .filter((elt) => !elt.dataset.setup) )[0]; root.dataset.setup = 1; const msg = document.createElement(\"span\"); msg.style = \"color: #cccccc; font-family: monospace;\"; msg.textContent = \"(Loading...)\"; root.state.loadingMsg = msg; root.shadowRoot.appendChild(msg); root.state.chain = new Promise((resolve, reject) => { const observer = new IntersectionObserver((entries) => { for (const entry of entries) { if (entry.isIntersecting) { resolve(); observer.disconnect(); return; } } }, {rootMargin: \"1000px\"}); window.setTimeout(() => { observer.observe(root); }, 0); }); root.state.deferring = false; const _insertNode = (node) => { for (let oldScript of node.querySelectorAll(\"script\")) { let newScript = document.createElement(\"script\"); newScript.type = oldScript.type; newScript.textContent = oldScript.textContent; oldScript.parentNode.replaceChild(newScript, oldScript); } if (root.state.loadingMsg) { root.state.loadingMsg.remove(); root.state.loadingMsg = null; } root.shadowRoot.appendChild(node); }; root.defns.insertContent = ((contentNode, compressed) => { if (compressed) { root.state.deferring = true; } if (root.state.deferring) { root.state.chain = (async () => { await root.state.chain; if (compressed) { const encoded = contentNode.textContent; const blob = new Blob([ Uint8Array.from(atob(encoded), (m) => m.codePointAt(0)) ]); const reader = blob.stream().pipeThrough( new DecompressionStream(\"deflate\") ).pipeThrough( new TextDecoderStream(\"utf-8\") ).getReader(); const parts = []; while (true) { const step = await reader.read(); if (step.done) { break; } parts.push(step.value); } const tpl = document.createElement('template'); tpl.innerHTML = parts.join(\"\"); _insertNode(tpl.content); } else { _insertNode(contentNode.content); } })(); } else { _insertNode(contentNode.content); } }); </script></treescope-run-here><div style=\"display:none\"> <script type=\"application/octet-stream\" >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</script> <treescope-run-here><script type=\"application/octet-stream\"> const root = ( Array.from(document.getElementsByClassName( \"treescope_out_892ae8ae6ded4529accca1d0fa6dd370\")) .filter((elt) => !elt.dataset['step0']) )[0]; root.dataset['step0'] = 1; root.defns.insertContent( this.parentNode.querySelector('script[type=\"application/octet-stream\"]'), true ); this.parentNode.remove(); </script></treescope-run-here> </div>"
      ]
     },
     "metadata": {},
     "output_type": "display_data"
    },
    {
     "data": {
      "text/plain": [
       "<IPython.core.display.HTML object>"
      ],
      "text/html": [
       "<div style=\"display:none\"> <script type=\"application/octet-stream\" >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</script> <treescope-run-here><script type=\"application/octet-stream\"> const root = ( Array.from(document.getElementsByClassName( \"treescope_out_892ae8ae6ded4529accca1d0fa6dd370\")) .filter((elt) => !elt.dataset['step1']) )[0]; root.dataset['step1'] = 1; root.defns.insertContent( this.parentNode.querySelector('script[type=\"application/octet-stream\"]'), true ); this.parentNode.remove(); </script></treescope-run-here> </div>"
      ]
     },
     "metadata": {},
     "output_type": "display_data"
    }
   ],
   "execution_count": 75
  },
  {
   "metadata": {
    "ExecuteTime": {
     "end_time": "2025-07-21T09:09:11.969515Z",
     "start_time": "2025-07-21T09:08:59.323051Z"
    }
   },
   "cell_type": "code",
   "source": [
    "# Train both models\n",
    "print(\"=\" * 60)\n",
    "print(\"COMPARING GCN vs MLP PERFORMANCE\")\n",
    "print(\"=\" * 60)\n",
    "\n",
    "# Train GCN\n",
    "gcn_results = train_model(\n",
    "    model=gcn_model,\n",
    "    train_batch=train_batch,\n",
    "    val_batch=val_batch,\n",
    "    test_batch=test_batch,\n",
    "    learning_rate=LEARNING_RATE,\n",
    "    epochs=EPOCHS,\n",
    "    eval_every=20,\n",
    "    model_name=\"GCN\"\n",
    ")\n",
    "\n",
    "# Train MLP\n",
    "mlp_results = train_model(\n",
    "    model=mlp_model,\n",
    "    train_batch=train_batch,\n",
    "    val_batch=val_batch,\n",
    "    test_batch=test_batch,\n",
    "    learning_rate=LEARNING_RATE,\n",
    "    epochs=EPOCHS,\n",
    "    eval_every=20,\n",
    "    model_name=\"MLP\"\n",
    ")"
   ],
   "id": "c854626ee1cbe44a",
   "outputs": [
    {
     "name": "stdout",
     "output_type": "stream",
     "text": [
      "============================================================\n",
      "COMPARING GCN vs MLP PERFORMANCE\n",
      "============================================================\n",
      "\n",
      "=== Training GCN ===\n",
      "\n",
      "New best validation accuracy: 0.7884\n",
      "Step 20: Train Loss: 0.9834, Train Acc: 0.5537, Train Masked Acc: 0.7327\n",
      "          Val Loss: 0.8840, Val Acc: 0.7884, Val Masked Acc: 0.7580\n",
      "Step 40: Train Loss: 0.0415, Train Acc: 0.7741, Train Masked Acc: 0.9939\n",
      "          Val Loss: 1.1664, Val Acc: 0.7714, Val Masked Acc: 0.7480\n",
      "Step 60: Train Loss: 0.0080, Train Acc: 0.7652, Train Masked Acc: 0.9979\n",
      "          Val Loss: 1.5372, Val Acc: 0.7685, Val Masked Acc: 0.7340\n",
      "Step 80: Train Loss: 0.0036, Train Acc: 0.7678, Train Masked Acc: 0.9993\n",
      "          Val Loss: 1.4651, Val Acc: 0.7736, Val Masked Acc: 0.7680\n",
      "Step 100: Train Loss: 0.0016, Train Acc: 0.7692, Train Masked Acc: 1.0000\n",
      "          Val Loss: 1.5625, Val Acc: 0.7688, Val Masked Acc: 0.7480\n",
      "Step 120: Train Loss: 0.0013, Train Acc: 0.7615, Train Masked Acc: 1.0000\n",
      "          Val Loss: 1.5265, Val Acc: 0.7762, Val Masked Acc: 0.7460\n",
      "Step 140: Train Loss: 0.0011, Train Acc: 0.7662, Train Masked Acc: 1.0000\n",
      "          Val Loss: 1.7175, Val Acc: 0.7603, Val Masked Acc: 0.7260\n",
      "Step 160: Train Loss: 0.0007, Train Acc: 0.7633, Train Masked Acc: 1.0000\n",
      "          Val Loss: 1.6761, Val Acc: 0.7603, Val Masked Acc: 0.7380\n",
      "Step 180: Train Loss: 0.0006, Train Acc: 0.7670, Train Masked Acc: 1.0000\n",
      "          Val Loss: 1.5167, Val Acc: 0.7688, Val Masked Acc: 0.7480\n",
      "Step 199: Train Loss: 0.0006, Train Acc: 0.7650, Train Masked Acc: 1.0000\n",
      "          Val Loss: 1.6603, Val Acc: 0.7648, Val Masked Acc: 0.7440\n",
      "\n",
      "=== GCN Final Results ===\n",
      "\n",
      "Best Validation Accuracy: 0.7884\n",
      "Final Test Accuracy: 0.7888\n",
      "Final Test Masked Accuracy: 0.7810\n",
      "Final Test F1 Score: 0.7794\n",
      "\n",
      "=== Training MLP ===\n",
      "\n",
      "New best validation accuracy: 0.4276\n",
      "Step 20: Train Loss: 1.1061, Train Acc: 0.3676, Train Masked Acc: 0.6452\n",
      "          Val Loss: 1.8295, Val Acc: 0.4276, Val Masked Acc: 0.4060\n",
      "New best validation accuracy: 0.4498\n",
      "Step 40: Train Loss: 0.2633, Train Acc: 0.4480, Train Masked Acc: 0.9225\n",
      "          Val Loss: 2.5480, Val Acc: 0.4498, Val Masked Acc: 0.4280\n",
      "New best validation accuracy: 0.4631\n",
      "Step 60: Train Loss: 0.1166, Train Acc: 0.4655, Train Masked Acc: 0.9636\n",
      "          Val Loss: 2.9578, Val Acc: 0.4631, Val Masked Acc: 0.4280\n",
      "New best validation accuracy: 0.4638\n",
      "Step 80: Train Loss: 0.0861, Train Acc: 0.4689, Train Masked Acc: 0.9707\n",
      "          Val Loss: 3.1011, Val Acc: 0.4638, Val Masked Acc: 0.4120\n",
      "New best validation accuracy: 0.4738\n",
      "Step 100: Train Loss: 0.0753, Train Acc: 0.4657, Train Masked Acc: 0.9764\n",
      "          Val Loss: 2.9942, Val Acc: 0.4738, Val Masked Acc: 0.4520\n",
      "Step 120: Train Loss: 0.0517, Train Acc: 0.4729, Train Masked Acc: 0.9839\n",
      "          Val Loss: 3.3665, Val Acc: 0.4730, Val Masked Acc: 0.4320\n",
      "Step 140: Train Loss: 0.0568, Train Acc: 0.4628, Train Masked Acc: 0.9854\n",
      "          Val Loss: 3.4274, Val Acc: 0.4682, Val Masked Acc: 0.4440\n",
      "New best validation accuracy: 0.4856\n",
      "Step 160: Train Loss: 0.0540, Train Acc: 0.4810, Train Masked Acc: 0.9850\n",
      "          Val Loss: 3.2243, Val Acc: 0.4856, Val Masked Acc: 0.4640\n",
      "Step 180: Train Loss: 0.0427, Train Acc: 0.4789, Train Masked Acc: 0.9871\n",
      "          Val Loss: 3.5965, Val Acc: 0.4742, Val Masked Acc: 0.4360\n",
      "Step 199: Train Loss: 0.0519, Train Acc: 0.4740, Train Masked Acc: 0.9872\n",
      "          Val Loss: 3.7534, Val Acc: 0.4694, Val Masked Acc: 0.4540\n",
      "\n",
      "=== MLP Final Results ===\n",
      "\n",
      "Best Validation Accuracy: 0.4856\n",
      "Final Test Accuracy: 0.4786\n",
      "Final Test Masked Accuracy: 0.4450\n",
      "Final Test F1 Score: 0.4725\n"
     ]
    }
   ],
   "execution_count": 76
  },
  {
   "metadata": {
    "ExecuteTime": {
     "end_time": "2025-07-21T09:09:12.477254Z",
     "start_time": "2025-07-21T09:09:12.047298Z"
    }
   },
   "cell_type": "code",
   "source": [
    "# Performance comparison\n",
    "print(\"\\n\" + \"=\" * 60)\n",
    "print(\"FINAL PERFORMANCE COMPARISON\")\n",
    "print(\"=\" * 60)\n",
    "\n",
    "\n",
    "def print_comparison_table():\n",
    "    print(f\"{'Metric':<25} {'GCN':<15} {'MLP':<15} {'Difference':<15}\")\n",
    "    print(\"-\" * 70)\n",
    "\n",
    "    metrics_to_compare = [\n",
    "        ('Test Accuracy', 'accuracy'),\n",
    "        ('Test Masked Accuracy', 'masked_accuracy'),\n",
    "        ('Test F1 Score', 'f1_score'),\n",
    "        ('Test Loss', 'loss'),\n",
    "        ('Best Val Accuracy', 'best_val_acc')\n",
    "    ]\n",
    "\n",
    "    for display_name, metric_key in metrics_to_compare:\n",
    "        if metric_key == 'best_val_acc':\n",
    "            gcn_val = gcn_results[metric_key]\n",
    "            mlp_val = mlp_results[metric_key]\n",
    "        else:\n",
    "            gcn_val = gcn_results['final_test_results'][metric_key]\n",
    "            mlp_val = mlp_results['final_test_results'][metric_key]\n",
    "\n",
    "        diff = gcn_val - mlp_val\n",
    "        diff_str = f\"+{diff:.4f}\" if diff > 0 else f\"{diff:.4f}\"\n",
    "\n",
    "        print(f\"{display_name:<25} {gcn_val:<15.4f} {mlp_val:<15.4f} {diff_str:<15}\")\n",
    "\n",
    "\n",
    "print_comparison_table()\n",
    "\n",
    "# Plot comparison\n",
    "fig, ((ax1, ax2), (ax3, ax4)) = plt.subplots(2, 2, figsize=(15, 10))\n",
    "fig.suptitle('GCN vs MLP Training Comparison', fontsize=16)\n",
    "\n",
    "ax1.set_title('Training Loss')\n",
    "ax2.set_title('Validation Accuracy')\n",
    "ax3.set_title('Training Masked Accuracy')\n",
    "ax4.set_title('Validation F1 Score')\n",
    "\n",
    "# Plot training curves for both models\n",
    "models_data = [\n",
    "    ('GCN', gcn_results['metrics_history'], 'blue'),\n",
    "    ('MLP', mlp_results['metrics_history'], 'red')\n",
    "]\n",
    "\n",
    "for model_name, history, color in models_data:\n",
    "    ax1.plot(history['train_loss'], label=f'{model_name} Train Loss', color=color, linestyle='-')\n",
    "    ax2.plot(history['val_accuracy'], label=f'{model_name} Val Accuracy', color=color, linestyle='-')\n",
    "    ax3.plot(history['train_masked_accuracy'], label=f'{model_name} Train Masked Acc', color=color, linestyle='-')\n",
    "    ax4.plot(history['val_f1_score'], label=f'{model_name} Val F1', color=color, linestyle='-')\n",
    "\n",
    "ax1.legend()\n",
    "ax2.legend()\n",
    "ax3.legend()\n",
    "ax4.legend()\n",
    "\n",
    "plt.tight_layout()\n",
    "plt.show()\n",
    "\n",
    "# Summary\n",
    "print(f\"\\n{'=' * 60}\")\n",
    "print(\"SUMMARY\")\n",
    "print(f\"{'=' * 60}\")\n",
    "gcn_test_acc = gcn_results['final_test_results']['accuracy']\n",
    "mlp_test_acc = mlp_results['final_test_results']['accuracy']\n",
    "\n",
    "if gcn_test_acc > mlp_test_acc:\n",
    "    winner = \"GCN\"\n",
    "    improvement = gcn_test_acc - mlp_test_acc\n",
    "else:\n",
    "    winner = \"MLP\"\n",
    "    improvement = mlp_test_acc - gcn_test_acc\n",
    "\n",
    "print(f\"Winner: {winner}\")\n",
    "print(f\"Test Accuracy Improvement: {improvement:.4f} ({improvement * 100:.2f}%)\")\n",
    "print(f\"GCN leverages graph structure: {'✓' if gcn_test_acc > mlp_test_acc else '✗'}\")\n",
    "print(f\"{'=' * 60}\")\n"
   ],
   "id": "10a8d99018251939",
   "outputs": [
    {
     "name": "stdout",
     "output_type": "stream",
     "text": [
      "\n",
      "============================================================\n",
      "FINAL PERFORMANCE COMPARISON\n",
      "============================================================\n",
      "Metric                    GCN             MLP             Difference     \n",
      "----------------------------------------------------------------------\n",
      "Test Accuracy             0.7888          0.4786          +0.3102        \n",
      "Test Masked Accuracy      0.7810          0.4450          +0.3360        \n",
      "Test F1 Score             0.7794          0.4725          +0.3068        \n",
      "Test Loss                 0.7469          3.1705          -2.4236        \n",
      "Best Val Accuracy         0.7884          0.4856          +0.3028        \n"
     ]
    },
    {
     "data": {
      "text/plain": [
       "<Figure size 1500x1000 with 4 Axes>"
      ],
      "image/png": "[encoded data removed]"
     },
     "metadata": {},
     "output_type": "display_data"
    },
    {
     "name": "stdout",
     "output_type": "stream",
     "text": [
      "\n",
      "============================================================\n",
      "SUMMARY\n",
      "============================================================\n",
      "Winner: GCN\n",
      "Test Accuracy Improvement: 0.3102 (31.02%)\n",
      "GCN leverages graph structure: ✓\n",
      "============================================================\n"
     ]
    }
   ],
   "execution_count": 77
  }
 ],
 "metadata": {
  "kernelspec": {
   "display_name": "jax_kernel",
   "language": "python",
   "name": "jax_kernel"
  },
  "language_info": {
   "codemirror_mode": {
    "name": "ipython",
    "version": 2
   },
   "file_extension": ".py",
   "mimetype": "text/x-python",
   "name": "python",
   "nbconvert_exporter": "python",
   "pygments_lexer": "ipython2",
   "version": "2.7.6"
  }
 },
 "nbformat": 4,
 "nbformat_minor": 5
}
