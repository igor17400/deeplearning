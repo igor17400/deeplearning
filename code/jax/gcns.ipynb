{
 "cells": [
  {
   "metadata": {},
   "cell_type": "markdown",
   "source": "# Graphs Convolutional Networks (GCNs)",
   "id": "8f722a97611ec054"
  },
  {
   "cell_type": "code",
   "id": "initial_id",
   "metadata": {
    "collapsed": true,
    "ExecuteTime": {
     "end_time": "2025-07-18T18:17:47.548599Z",
     "start_time": "2025-07-18T18:17:47.542420Z"
    }
   },
   "source": [
    "import jax\n",
    "from clu import metrics\n",
    "from flax import struct\n",
    "from flax import nnx\n",
    "from flax.training import train_state\n",
    "import jax.numpy as jnp\n",
    "import numpy as np\n",
    "import scipy.sparse as sp  # Useful for handling sparse adjacency matrices\n",
    "from typing import Sequence\n",
    "import optax\n",
    "from tqdm import tqdm"
   ],
   "outputs": [],
   "execution_count": 60
  },
  {
   "metadata": {},
   "cell_type": "markdown",
   "source": "# Data",
   "id": "e4bb1b55580b53e9"
  },
  {
   "metadata": {
    "ExecuteTime": {
     "end_time": "2025-07-18T15:38:58.681550Z",
     "start_time": "2025-07-18T15:38:58.667371Z"
    }
   },
   "cell_type": "code",
   "source": [
    "def print_file_head(filename, num_lines=5):\n",
    "    print(f\"\\n--- Head of {filename} {num_lines} lines ---\")\n",
    "    try:\n",
    "        with open(filename, 'r') as f:\n",
    "            for i, line in enumerate(f):\n",
    "                if i >= num_lines:\n",
    "                    break\n",
    "                print(line.strip())\n",
    "    except FileNotFoundError:\n",
    "        print(f\"Error: {filename} not found\")\n",
    "\n",
    "\n",
    "print_file_head(\"./dataset/cora/cora.cites\", 5)\n",
    "print_file_head(\"./dataset/cora/cora.content\", 1)"
   ],
   "id": "a88b57de42583b0d",
   "outputs": [
    {
     "name": "stdout",
     "output_type": "stream",
     "text": [
      "\n",
      "--- Head of ./dataset/cora/cora.cites 5 lines ---\n",
      "35\t1033\n",
      "35\t103482\n",
      "35\t103515\n",
      "35\t1050679\n",
      "35\t1103960\n",
      "\n",
      "--- Head of ./dataset/cora/cora.content 1 lines ---\n",
      "31336\t0\t0\t0\t0\t0\t0\t0\t0\t0\t0\t0\t0\t0\t0\t0\t0\t0\t0\t0\t0\t0\t0\t0\t0\t0\t0\t0\t0\t0\t0\t0\t0\t0\t0\t0\t0\t0\t0\t0\t0\t0\t0\t0\t0\t0\t0\t0\t0\t0\t0\t0\t0\t0\t0\t0\t0\t0\t0\t0\t0\t0\t0\t0\t0\t0\t0\t0\t0\t0\t0\t0\t0\t0\t0\t0\t0\t0\t0\t0\t0\t0\t0\t0\t0\t0\t0\t0\t0\t0\t0\t0\t0\t0\t0\t0\t0\t0\t0\t0\t0\t0\t0\t0\t0\t0\t0\t0\t0\t0\t0\t0\t0\t0\t0\t0\t0\t0\t0\t1\t0\t0\t0\t0\t0\t0\t1\t0\t0\t0\t0\t0\t0\t0\t0\t0\t0\t0\t0\t0\t0\t0\t0\t0\t0\t0\t0\t0\t0\t0\t0\t0\t0\t0\t0\t0\t0\t0\t0\t0\t0\t0\t0\t0\t0\t0\t0\t0\t0\t0\t0\t0\t0\t0\t0\t0\t0\t1\t0\t0\t0\t0\t0\t0\t0\t0\t0\t0\t0\t0\t0\t0\t0\t0\t0\t0\t0\t0\t0\t0\t0\t0\t0\t0\t0\t0\t0\t0\t0\t0\t0\t0\t0\t0\t0\t0\t0\t0\t0\t0\t0\t0\t0\t0\t0\t0\t0\t0\t0\t0\t0\t0\t0\t0\t0\t0\t0\t0\t0\t0\t0\t0\t0\t0\t0\t0\t0\t0\t0\t0\t0\t0\t0\t1\t0\t0\t0\t0\t0\t0\t0\t0\t0\t0\t0\t0\t0\t0\t0\t0\t0\t0\t0\t0\t0\t0\t0\t0\t0\t0\t0\t0\t0\t0\t0\t0\t0\t0\t0\t0\t0\t0\t0\t0\t0\t0\t0\t0\t0\t0\t0\t0\t0\t0\t0\t0\t0\t0\t0\t0\t0\t0\t0\t0\t0\t0\t0\t0\t0\t0\t0\t0\t0\t0\t0\t0\t0\t0\t0\t0\t0\t0\t0\t0\t0\t0\t0\t0\t0\t0\t0\t0\t0\t0\t0\t0\t0\t0\t0\t0\t0\t0\t1\t0\t0\t0\t0\t0\t0\t0\t0\t0\t0\t0\t0\t0\t0\t0\t0\t0\t0\t0\t0\t0\t0\t0\t0\t0\t0\t0\t0\t0\t0\t0\t0\t0\t0\t0\t0\t0\t0\t0\t0\t0\t0\t0\t0\t0\t0\t0\t0\t0\t0\t0\t0\t0\t0\t0\t0\t0\t0\t0\t0\t0\t0\t0\t0\t0\t0\t0\t0\t0\t0\t0\t0\t0\t0\t0\t0\t0\t0\t0\t0\t0\t0\t0\t0\t0\t0\t0\t0\t0\t0\t0\t0\t0\t0\t0\t0\t0\t0\t0\t0\t0\t0\t0\t0\t1\t0\t0\t0\t0\t0\t0\t0\t0\t0\t0\t0\t0\t0\t0\t0\t0\t0\t0\t0\t0\t0\t0\t0\t0\t0\t0\t0\t0\t0\t0\t0\t0\t0\t0\t0\t0\t0\t0\t0\t0\t0\t0\t0\t0\t0\t0\t0\t0\t0\t0\t1\t0\t0\t0\t0\t0\t0\t0\t0\t0\t0\t0\t0\t0\t1\t0\t0\t0\t0\t0\t0\t0\t0\t0\t0\t0\t0\t0\t0\t0\t0\t0\t0\t0\t0\t0\t0\t0\t0\t0\t0\t0\t0\t0\t0\t0\t0\t0\t0\t0\t0\t0\t0\t0\t0\t0\t0\t0\t0\t0\t0\t0\t0\t0\t0\t0\t0\t0\t0\t0\t0\t0\t0\t0\t0\t0\t0\t0\t0\t0\t0\t0\t0\t0\t0\t0\t0\t0\t0\t0\t0\t0\t0\t0\t0\t0\t0\t0\t0\t0\t0\t0\t0\t0\t0\t0\t0\t0\t0\t0\t0\t0\t1\t0\t0\t0\t0\t0\t0\t0\t0\t0\t0\t0\t0\t0\t0\t0\t0\t0\t0\t0\t0\t0\t0\t0\t0\t0\t0\t0\t0\t1\t0\t0\t0\t0\t0\t0\t0\t0\t0\t0\t0\t0\t0\t0\t0\t0\t0\t0\t0\t0\t0\t0\t0\t0\t0\t0\t0\t0\t0\t0\t0\t0\t0\t0\t0\t0\t0\t0\t0\t0\t0\t0\t0\t0\t0\t0\t0\t0\t0\t1\t0\t0\t0\t1\t0\t0\t0\t0\t0\t0\t0\t0\t0\t0\t0\t0\t0\t0\t0\t0\t0\t0\t0\t0\t0\t0\t0\t0\t0\t0\t0\t0\t0\t0\t0\t1\t0\t0\t0\t0\t0\t0\t0\t0\t0\t0\t0\t0\t0\t0\t0\t0\t0\t0\t0\t0\t0\t0\t0\t0\t0\t0\t0\t0\t0\t0\t0\t0\t0\t0\t0\t0\t0\t0\t0\t0\t0\t0\t0\t0\t0\t0\t0\t0\t0\t0\t0\t0\t0\t0\t0\t0\t0\t0\t0\t0\t0\t0\t0\t0\t0\t0\t0\t0\t0\t0\t0\t0\t0\t0\t0\t0\t0\t0\t0\t0\t0\t0\t0\t0\t0\t0\t0\t0\t0\t0\t0\t0\t0\t0\t0\t0\t0\t0\t0\t0\t0\t0\t0\t0\t0\t0\t0\t0\t0\t0\t1\t0\t0\t0\t0\t0\t0\t0\t0\t0\t0\t0\t0\t0\t0\t0\t0\t0\t0\t0\t0\t0\t0\t0\t0\t0\t0\t0\t0\t0\t0\t0\t0\t0\t0\t0\t0\t0\t0\t0\t0\t0\t0\t0\t0\t0\t0\t0\t0\t0\t0\t0\t0\t0\t0\t0\t0\t1\t0\t0\t0\t0\t0\t0\t0\t0\t0\t0\t0\t0\t0\t0\t0\t0\t0\t0\t0\t0\t0\t0\t0\t0\t0\t0\t0\t0\t0\t0\t0\t0\t0\t0\t0\t0\t0\t0\t0\t0\t0\t0\t0\t0\t0\t0\t0\t0\t0\t0\t0\t0\t0\t0\t0\t0\t0\t0\t0\t0\t0\t0\t0\t0\t0\t0\t0\t0\t0\t0\t0\t0\t0\t0\t0\t0\t0\t0\t0\t0\t0\t0\t0\t0\t0\t0\t0\t0\t0\t0\t0\t0\t0\t0\t0\t0\t0\t0\t0\t0\t0\t0\t0\t0\t0\t0\t0\t0\t0\t0\t0\t0\t0\t0\t0\t0\t0\t0\t0\t0\t0\t0\t0\t0\t0\t0\t0\t0\t0\t0\t0\t0\t0\t0\t0\t0\t0\t0\t0\t0\t0\t0\t0\t0\t0\t0\t0\t0\t0\t0\t0\t0\t0\t0\t0\t0\t0\t0\t0\t0\t0\t0\t0\t0\t0\t0\t0\t0\t0\t0\t0\t0\t0\t0\t0\t0\t0\t0\t0\t0\t0\t0\t0\t0\t0\t0\t0\t0\t0\t0\t0\t0\t0\t0\t0\t0\t0\t0\t0\t0\t0\t0\t0\t0\t0\t0\t0\t0\t0\t0\t0\t0\t0\t0\t0\t0\t0\t0\t0\t0\t0\t0\t0\t0\t0\t0\t0\t0\t0\t0\t0\t0\t0\t0\t0\t0\t0\t0\t0\t0\t0\t0\t0\t0\t0\t0\t0\t0\t0\t0\t0\t0\t0\t0\t0\t0\t0\t0\t0\t0\t0\t0\t0\t0\t0\t0\t0\t0\t0\t0\t0\t0\t0\t0\t0\t0\t0\t0\t0\t0\t0\t0\t0\t0\t0\t0\t0\t0\t0\t0\t0\t0\t0\t0\t0\t0\t0\t0\t0\t0\t0\t0\t1\t0\t0\t0\t1\t0\t0\t0\t0\t0\t0\t0\t0\t0\t0\t0\t0\t0\t0\t0\t0\t0\t0\t0\t0\t0\t0\t0\t0\t0\t0\t1\t0\t0\t0\t0\t0\t0\t0\t0\t0\t0\t0\t0\t0\t0\t0\t0\t0\t0\t0\t0\t0\t0\t0\t0\t0\t0\t0\t0\t0\t0\t0\t0\t0\t0\t0\t0\t0\t0\t0\t0\t0\t0\t0\t0\t0\t0\t0\t0\t0\t0\t0\t0\t0\t0\t0\t0\t0\t0\t0\t0\t0\t0\t0\t0\t0\t0\t0\t0\t0\t0\t0\t0\t0\t0\t0\t0\t0\t0\t0\t0\t0\t0\t0\t0\t0\t0\t0\t0\t0\t0\t0\t0\t0\t0\t0\t0\t0\t0\t0\t0\t0\t0\t0\t0\t0\t0\t0\t0\t0\t0\t0\t0\t0\t0\t0\t1\t0\t0\t0\t0\t0\t0\t0\t0\t0\t0\t0\t0\t0\t0\t0\t0\t0\t0\t0\t0\t0\t0\t0\t0\t0\t0\t0\t0\t0\t0\t0\t0\t0\t0\t0\t0\t0\t0\t0\t0\t0\t0\t0\t0\t0\t0\t0\t0\t0\t0\t0\t0\t0\t0\t0\t0\t0\t0\t0\t0\t0\t0\t0\t0\t0\t0\t0\t0\t0\t0\t0\t0\t0\t1\t0\t0\t0\t0\t0\t0\tNeural_Networks\n"
     ]
    }
   ],
   "execution_count": 2
  },
  {
   "metadata": {},
   "cell_type": "markdown",
   "source": "## Preprocessing",
   "id": "456e9de7f1fbce18"
  },
  {
   "metadata": {
    "ExecuteTime": {
     "end_time": "2025-07-18T15:38:58.919030Z",
     "start_time": "2025-07-18T15:38:58.914718Z"
    }
   },
   "cell_type": "code",
   "source": [
    "def _load_content_file(filepath: str):\n",
    "    \"\"\"Loads features and labels from the .content file.\"\"\"\n",
    "    print(f\"Loading content file: {filepath}\")\n",
    "    idx_features_labels = np.genfromtxt(\n",
    "        filepath,\n",
    "        dtype=np.dtype(str)\n",
    "    )\n",
    "    features = sp.csr_matrix(\n",
    "        idx_features_labels[:, 1:-1],\n",
    "        dtype=np.float32\n",
    "    )\n",
    "    labels = idx_features_labels[:, -1]\n",
    "    paper_ids = np.array(\n",
    "        idx_features_labels[:, 0],\n",
    "        dtype=np.int32\n",
    "    )\n",
    "    return features, labels, paper_ids"
   ],
   "id": "9c17b9a38fc63319",
   "outputs": [],
   "execution_count": 3
  },
  {
   "metadata": {
    "ExecuteTime": {
     "end_time": "2025-07-18T15:39:02.133220Z",
     "start_time": "2025-07-18T15:38:58.949520Z"
    }
   },
   "cell_type": "code",
   "source": [
    "file_path = \"./dataset/cora/cora.content\"\n",
    "features, labels, paper_ids = _load_content_file(file_path)"
   ],
   "id": "3324dbb25e64b20b",
   "outputs": [
    {
     "name": "stdout",
     "output_type": "stream",
     "text": [
      "Loading content file: ./dataset/cora/cora.content\n"
     ]
    }
   ],
   "execution_count": 4
  },
  {
   "metadata": {
    "ExecuteTime": {
     "end_time": "2025-07-18T15:39:02.170491Z",
     "start_time": "2025-07-18T15:39:02.162828Z"
    }
   },
   "cell_type": "code",
   "source": [
    "print(\"--- Features Matrix ---\\n\")\n",
    "print(features.shape)\n",
    "print(features[0].shape)\n",
    "print(features[0])"
   ],
   "id": "11a5ad82c7461c5f",
   "outputs": [
    {
     "name": "stdout",
     "output_type": "stream",
     "text": [
      "--- Features Matrix ---\n",
      "\n",
      "(2708, 1433)\n",
      "(1, 1433)\n",
      "  (0, 0)\t0.0\n",
      "  (0, 1)\t0.0\n",
      "  (0, 2)\t0.0\n",
      "  (0, 3)\t0.0\n",
      "  (0, 4)\t0.0\n",
      "  (0, 5)\t0.0\n",
      "  (0, 6)\t0.0\n",
      "  (0, 7)\t0.0\n",
      "  (0, 8)\t0.0\n",
      "  (0, 9)\t0.0\n",
      "  (0, 10)\t0.0\n",
      "  (0, 11)\t0.0\n",
      "  (0, 12)\t0.0\n",
      "  (0, 13)\t0.0\n",
      "  (0, 14)\t0.0\n",
      "  (0, 15)\t0.0\n",
      "  (0, 16)\t0.0\n",
      "  (0, 17)\t0.0\n",
      "  (0, 18)\t0.0\n",
      "  (0, 19)\t0.0\n",
      "  (0, 20)\t0.0\n",
      "  (0, 21)\t0.0\n",
      "  (0, 22)\t0.0\n",
      "  (0, 23)\t0.0\n",
      "  (0, 24)\t0.0\n",
      "  :\t:\n",
      "  (0, 1408)\t0.0\n",
      "  (0, 1409)\t0.0\n",
      "  (0, 1410)\t0.0\n",
      "  (0, 1411)\t0.0\n",
      "  (0, 1412)\t0.0\n",
      "  (0, 1413)\t0.0\n",
      "  (0, 1414)\t0.0\n",
      "  (0, 1415)\t0.0\n",
      "  (0, 1416)\t0.0\n",
      "  (0, 1417)\t0.0\n",
      "  (0, 1418)\t0.0\n",
      "  (0, 1419)\t0.0\n",
      "  (0, 1420)\t0.0\n",
      "  (0, 1421)\t0.0\n",
      "  (0, 1422)\t0.0\n",
      "  (0, 1423)\t0.0\n",
      "  (0, 1424)\t0.0\n",
      "  (0, 1425)\t0.0\n",
      "  (0, 1426)\t1.0\n",
      "  (0, 1427)\t0.0\n",
      "  (0, 1428)\t0.0\n",
      "  (0, 1429)\t0.0\n",
      "  (0, 1430)\t0.0\n",
      "  (0, 1431)\t0.0\n",
      "  (0, 1432)\t0.0\n"
     ]
    }
   ],
   "execution_count": 5
  },
  {
   "metadata": {
    "ExecuteTime": {
     "end_time": "2025-07-18T15:39:02.199688Z",
     "start_time": "2025-07-18T15:39:02.193559Z"
    }
   },
   "cell_type": "code",
   "source": [
    "print(\"--- Labels Matrix ---\\n\")\n",
    "print(labels.shape)\n",
    "print(labels)"
   ],
   "id": "b1c270a963a6443f",
   "outputs": [
    {
     "name": "stdout",
     "output_type": "stream",
     "text": [
      "--- Labels Matrix ---\n",
      "\n",
      "(2708,)\n",
      "['Neural_Networks' 'Rule_Learning' 'Reinforcement_Learning' ...\n",
      " 'Genetic_Algorithms' 'Case_Based' 'Neural_Networks']\n"
     ]
    }
   ],
   "execution_count": 6
  },
  {
   "metadata": {
    "ExecuteTime": {
     "end_time": "2025-07-18T15:39:02.229250Z",
     "start_time": "2025-07-18T15:39:02.223574Z"
    }
   },
   "cell_type": "code",
   "source": [
    "print(\"--- Paper IDs ---\\n\")\n",
    "print(paper_ids.shape)\n",
    "print(paper_ids)"
   ],
   "id": "d2b3071d2cabca42",
   "outputs": [
    {
     "name": "stdout",
     "output_type": "stream",
     "text": [
      "--- Paper IDs ---\n",
      "\n",
      "(2708,)\n",
      "[  31336 1061127 1106406 ... 1128978  117328   24043]\n"
     ]
    }
   ],
   "execution_count": 7
  },
  {
   "metadata": {
    "ExecuteTime": {
     "end_time": "2025-07-18T15:39:02.260547Z",
     "start_time": "2025-07-18T15:39:02.254221Z"
    }
   },
   "cell_type": "code",
   "source": [
    "def _load_cites_file(filepath: str, idx_map: dict):\n",
    "    \"\"\"Loads citation links and builds the adjacency matrix.\"\"\"\n",
    "    print(f\"Loading cites file: {filepath}\")\n",
    "    edges_unordered = np.genfromtxt(\n",
    "        filepath,\n",
    "        dtype=np.int32\n",
    "    )\n",
    "\n",
    "    # Convert paper IDs in edges to our new integer indices\n",
    "    edges = np.array(\n",
    "        list(map(\n",
    "            idx_map.get,\n",
    "            edges_unordered.flatten())\n",
    "        ), dtype=np.int32,\n",
    "    ).reshape(edges_unordered.shape)\n",
    "\n",
    "    # Create COO (Coordinate) format sparse adjacency matrix\n",
    "    adj = sp.coo_matrix(\n",
    "        (\n",
    "            np.ones(edges.shape[0]),\n",
    "            (edges[:, 0], edges[:, 1])\n",
    "        ),\n",
    "        # Use len(idx_map) for the number of nodes\n",
    "        shape=(len(idx_map), len(idx_map)),\n",
    "        dtype=np.float32\n",
    "    )\n",
    "\n",
    "    # Build symmetric adjacency matrix\n",
    "    adj = (\n",
    "            adj +\n",
    "            adj.T.multiply(adj.T > adj) -\n",
    "            adj.multiply(adj.T > adj)\n",
    "    )\n",
    "    return adj"
   ],
   "id": "96a5f6e697ae645",
   "outputs": [],
   "execution_count": 8
  },
  {
   "metadata": {
    "ExecuteTime": {
     "end_time": "2025-07-18T15:39:02.357921Z",
     "start_time": "2025-07-18T15:39:02.275621Z"
    }
   },
   "cell_type": "code",
   "source": [
    "file_path = \"./dataset/cora/cora.cites\"\n",
    "idx_map = {\n",
    "    paper_id: idx for idx, paper_id in enumerate(paper_ids)\n",
    "}\n",
    "adj = _load_cites_file(file_path, idx_map)\n",
    "print(\"-- Adjacency Matrix ---\")\n",
    "print(adj.shape)\n",
    "print(adj[:2].shape)\n",
    "print(adj[:2])"
   ],
   "id": "6c82d4790fec7894",
   "outputs": [
    {
     "name": "stdout",
     "output_type": "stream",
     "text": [
      "Loading cites file: ./dataset/cora/cora.cites\n",
      "-- Adjacency Matrix ---\n",
      "(2708, 2708)\n",
      "(2, 2708)\n",
      "  (0, 8)\t1.0\n",
      "  (0, 14)\t1.0\n",
      "  (0, 258)\t1.0\n",
      "  (0, 435)\t1.0\n",
      "  (0, 544)\t1.0\n",
      "  (1, 344)\t1.0\n"
     ]
    }
   ],
   "execution_count": 9
  },
  {
   "metadata": {
    "ExecuteTime": {
     "end_time": "2025-07-18T15:39:02.396370Z",
     "start_time": "2025-07-18T15:39:02.383903Z"
    }
   },
   "cell_type": "code",
   "source": [
    "def _normalize_features(features: np.ndarray):\n",
    "    \"\"\"Normalizes node features.\"\"\"\n",
    "    features = features.todense()\n",
    "    features /= features.sum(1).reshape(-1, 1)\n",
    "    return features"
   ],
   "id": "fb262778dca71dac",
   "outputs": [],
   "execution_count": 10
  },
  {
   "metadata": {
    "ExecuteTime": {
     "end_time": "2025-07-18T15:39:02.415316Z",
     "start_time": "2025-07-18T15:39:02.408860Z"
    }
   },
   "cell_type": "code",
   "source": [
    "def _one_hot_encode_labels(labels: np.ndarray):\n",
    "    \"\"\"Converts categorical labels to one-hot encoded format.\"\"\"\n",
    "    classes = sorted(list(set(labels)))\n",
    "    class_to_idx = {\n",
    "        c: i for i, c in enumerate(classes)\n",
    "    }\n",
    "\n",
    "    # Corrected labels_one_hot initialization shape\n",
    "    labels_one_hot = np.zeros(\n",
    "        (len(labels), len(classes)),\n",
    "        dtype=np.float32\n",
    "    )\n",
    "    for i, label in enumerate(labels):\n",
    "        labels_one_hot[i, class_to_idx[label]] = 1\n",
    "    return labels_one_hot"
   ],
   "id": "9cdc68273ee4c50d",
   "outputs": [],
   "execution_count": 11
  },
  {
   "metadata": {
    "ExecuteTime": {
     "end_time": "2025-07-18T15:39:02.447657Z",
     "start_time": "2025-07-18T15:39:02.441825Z"
    }
   },
   "cell_type": "code",
   "source": [
    "def _create_masks(num_nodes: int):\n",
    "    \"\"\"Defines standard train, validation, and test masks.\"\"\"\n",
    "    idx_train = jnp.arange(140)\n",
    "    idx_val = jnp.arange(140, 140 + 500)\n",
    "    idx_test = jnp.arange(140 + 500, 140 + 500 + 1000)\n",
    "\n",
    "    train_mask = jnp.zeros(\n",
    "        num_nodes, dtype=bool\n",
    "    ).at[idx_train].set(True)\n",
    "    val_mask = jnp.zeros(\n",
    "        num_nodes, dtype=bool\n",
    "    ).at[idx_val].set(True)\n",
    "    test_mask = jnp.zeros(\n",
    "        num_nodes, dtype=bool\n",
    "    ).at[idx_test].set(True)\n",
    "\n",
    "    return train_mask, val_mask, test_mask"
   ],
   "id": "3574b3e31e743e2",
   "outputs": [],
   "execution_count": 12
  },
  {
   "metadata": {
    "ExecuteTime": {
     "end_time": "2025-07-18T15:39:02.486219Z",
     "start_time": "2025-07-18T15:39:02.477223Z"
    }
   },
   "cell_type": "code",
   "source": [
    "def load_cora(path: str = \"./dataset/cora/\"):\n",
    "    \"\"\"\n",
    "    Loads and preprocesses the Cora dataset\n",
    "    from raw .content and .cites files.\n",
    "\n",
    "    Args:\n",
    "        path (str): Directory path where\n",
    "            cora.content and cora.cites are located.\n",
    "            Defaults to \"./dataset/cora/\".\n",
    "\n",
    "    Returns:\n",
    "        tuple:\n",
    "        (adj, features, labels, train_mask, val_mask, test_mask)\n",
    "        where adj, features, and labels are JAX numpy arrays.\n",
    "    \"\"\"\n",
    "    # 1. Load features and labels, and create paper ID to index mapping\n",
    "    features_sparse, labels_raw, paper_ids = _load_content_file(path + \"cora.content\")\n",
    "    idx_map = {paper_id: idx for idx, paper_id in enumerate(paper_ids)}\n",
    "\n",
    "    # 2. Build adjacency matrix\n",
    "    adj_sparse = _load_cites_file(path + \"cora.cites\", idx_map)\n",
    "\n",
    "    # 3. Preprocess features\n",
    "    features_normalized = _normalize_features(features_sparse)\n",
    "\n",
    "    # 4. One-hot encode labels\n",
    "    labels_one_hot = _one_hot_encode_labels(labels_raw)\n",
    "\n",
    "    # 5. Create masks for data splits\n",
    "    num_nodes = labels_raw.shape[0]  # Use the original number of labels for node count\n",
    "    train_mask, val_mask, test_mask = _create_masks(num_nodes)\n",
    "\n",
    "    # 6. Convert to JAX numpy arrays\n",
    "    adj_jax = jnp.asarray(adj_sparse.todense(), dtype=jnp.float32)\n",
    "    features_jax = jnp.asarray(features_normalized, dtype=jnp.float32)\n",
    "    labels_jax = jnp.asarray(labels_one_hot, dtype=jnp.float32)\n",
    "\n",
    "    return adj_jax, features_jax, labels_jax, train_mask, val_mask, test_mask"
   ],
   "id": "e3131219eae4999b",
   "outputs": [],
   "execution_count": 13
  },
  {
   "metadata": {
    "ExecuteTime": {
     "end_time": "2025-07-18T15:39:35.275323Z",
     "start_time": "2025-07-18T15:39:30.915487Z"
    }
   },
   "cell_type": "code",
   "source": [
    "adj_raw, features, labels, train_mask, val_mask, test_mask = load_cora()\n",
    "\n",
    "print(f\"\\nCora dataset loaded:\")\n",
    "print(f\"Number of nodes: {adj_raw.shape[0]}\")\n",
    "print(f\"Number of features per node: {features.shape[1]}\")\n",
    "print(f\"Number of classes: {labels.shape[1]}\")\n",
    "print(f\"Features shape: {features.shape}\")\n",
    "print(f\"Adjacency matrix shape: {adj_raw.shape}\")\n",
    "print(f\"Labels shape (one-hot encoded): {labels.shape}\")\n",
    "print(f\"Train nodes: {jnp.sum(train_mask)}\")\n",
    "print(f\"Validation nodes: {jnp.sum(val_mask)}\")\n",
    "print(f\"Test nodes: {jnp.sum(test_mask)}\")\n"
   ],
   "id": "eaefb660a0207530",
   "outputs": [
    {
     "name": "stdout",
     "output_type": "stream",
     "text": [
      "Loading content file: ./dataset/cora/cora.content\n",
      "Loading cites file: ./dataset/cora/cora.cites\n",
      "\n",
      "Cora dataset loaded:\n",
      "Number of nodes: 2708\n",
      "Number of features per node: 1433\n",
      "Number of classes: 7\n",
      "Features shape: (2708, 1433)\n",
      "Adjacency matrix shape: (2708, 2708)\n",
      "Labels shape (one-hot encoded): (2708, 7)\n",
      "Train nodes: 140\n",
      "Validation nodes: 500\n",
      "Test nodes: 1000\n"
     ]
    }
   ],
   "execution_count": 15
  },
  {
   "metadata": {
    "ExecuteTime": {
     "end_time": "2025-07-18T18:46:09.464777Z",
     "start_time": "2025-07-18T18:46:09.419941Z"
    }
   },
   "cell_type": "code",
   "source": [
    "def preprocess_adjacency_matrix(adj):\n",
    "    \"\"\"\n",
    "    Adds self-loops and symmetrically normalizes the adjacency matrix.\n",
    "\n",
    "    Args:\n",
    "        adj (jnp.ndarray): The raw adjacency matrix from your dataset.\n",
    "\n",
    "    Returns:\n",
    "        jnp.ndarray: The transformed adjacency matrix ready for the GCN.\n",
    "    \"\"\"\n",
    "    # Step 1: Add self-loops (A' = A + I)\n",
    "    # This ensures each node considers its own features during aggregation.\n",
    "    adj_self_loops = adj + jnp.eye(adj.shape[0])\n",
    "\n",
    "    # Step 2: Calculate the inverse square root of the degree matrix (D'^-0.5)\n",
    "    # This creates the normalization factor.\n",
    "    D_hat = jnp.diag(jnp.sum(adj_self_loops, axis=1)**-0.5)\n",
    "\n",
    "    # Step 3: Symmetrically normalize the matrix (D'^-0.5 * A' * D'^-0.5)\n",
    "    # This averages neighbor features, preventing issues from node degrees.\n",
    "    A_hat = D_hat @ adj_self_loops @ D_hat\n",
    "\n",
    "    return A_hat"
   ],
   "id": "f8fb3829b37d126",
   "outputs": [],
   "execution_count": 89
  },
  {
   "metadata": {
    "ExecuteTime": {
     "end_time": "2025-07-18T18:46:21.183166Z",
     "start_time": "2025-07-18T18:46:21.144228Z"
    }
   },
   "cell_type": "code",
   "source": [
    "# Create the correctly processed adjacency matrix\n",
    "adj_normalized = preprocess_adjacency_matrix(adj_raw)"
   ],
   "id": "a98d6c2e0fccbeb4",
   "outputs": [],
   "execution_count": 91
  },
  {
   "metadata": {},
   "cell_type": "markdown",
   "source": "## Comparison with the actual preprocessing",
   "id": "f2f9bdd99724ed80"
  },
  {
   "metadata": {
    "ExecuteTime": {
     "end_time": "2025-07-18T15:39:59.410779Z",
     "start_time": "2025-07-18T15:39:56.896756Z"
    }
   },
   "cell_type": "code",
   "source": [
    "from torch_geometric.datasets import Planetoid\n",
    "\n",
    "cora_dataset = Planetoid(root='/tmp/Cora', name='Cora')"
   ],
   "id": "a57162fa64fd58dc",
   "outputs": [],
   "execution_count": 16
  },
  {
   "metadata": {
    "ExecuteTime": {
     "end_time": "2025-07-18T15:39:59.463917Z",
     "start_time": "2025-07-18T15:39:59.451397Z"
    }
   },
   "cell_type": "code",
   "source": "cora_dataset[0]",
   "id": "587b8b24c348c953",
   "outputs": [
    {
     "data": {
      "text/plain": [
       "Data(x=[2708, 1433], edge_index=[2, 10556], y=[2708], train_mask=[2708], val_mask=[2708], test_mask=[2708])"
      ]
     },
     "execution_count": 17,
     "metadata": {},
     "output_type": "execute_result"
    }
   ],
   "execution_count": 17
  },
  {
   "metadata": {
    "ExecuteTime": {
     "end_time": "2025-07-18T15:40:00.216123Z",
     "start_time": "2025-07-18T15:40:00.207177Z"
    }
   },
   "cell_type": "code",
   "source": [
    "print(cora_dataset[0]['train_mask'].count_nonzero())\n",
    "print(cora_dataset[0]['val_mask'].count_nonzero())\n",
    "print(cora_dataset[0]['test_mask'].count_nonzero())"
   ],
   "id": "3423c497ea80276b",
   "outputs": [
    {
     "name": "stdout",
     "output_type": "stream",
     "text": [
      "tensor(140)\n",
      "tensor(500)\n",
      "tensor(1000)\n"
     ]
    }
   ],
   "execution_count": 18
  },
  {
   "metadata": {},
   "cell_type": "markdown",
   "source": "# Building the GCN Layer",
   "id": "47c29dd20f661586"
  },
  {
   "metadata": {
    "ExecuteTime": {
     "end_time": "2025-07-18T18:28:01.921621Z",
     "start_time": "2025-07-18T18:28:01.909318Z"
    }
   },
   "cell_type": "code",
   "source": [
    "class GCNLayer(nnx.Module):\n",
    "    def __init__(\n",
    "            self,\n",
    "            input_features: int,\n",
    "            output_features: int,\n",
    "            dropout_rate: float,\n",
    "            *, rngs: nnx.Rngs\n",
    "    ):\n",
    "        self.linear = nnx.Linear(\n",
    "            input_features,\n",
    "            output_features,\n",
    "            kernel_init=nnx.initializers.glorot_uniform(),\n",
    "            rngs=rngs\n",
    "        )\n",
    "        self.dropout = nnx.Dropout(\n",
    "            rate=dropout_rate,\n",
    "            rngs=rngs\n",
    "        )\n",
    "\n",
    "    def __call__(\n",
    "            self,\n",
    "            A_hat: jnp.ndarray,\n",
    "            H: jnp.ndarray,\n",
    "            *, rngs: nnx.Rngs,\n",
    "    ):\n",
    "        \"\"\"\n",
    "        Applies a single Graph Convolutional\n",
    "        Network layer using NNX.\n",
    "\n",
    "        Args:\n",
    "            A_hat (jnp.ndarray): The symmetrically\n",
    "                normalized adjacency matrix.\n",
    "            H (jnp.ndarray): The input node embeddings/\n",
    "                features from the previous layer.\n",
    "            rngs (nnx.Rngs): Random number generator\n",
    "                collection for dropout.\n",
    "\n",
    "        Returns:\n",
    "            jnp.ndarray: The output node embeddings/\n",
    "                features for the current layer.\n",
    "        \"\"\"\n",
    "        # 1. Dropout for regularization\n",
    "        # nnx knows when to apply dropout - train\n",
    "        #   and when don't - eval\n",
    "        H_dropped = self.dropout(H, rngs=rngs)\n",
    "\n",
    "        # 2. Linear Transformation (H^(l) * W^(l))\n",
    "        H_linear = self.linear(H_dropped)\n",
    "\n",
    "        # 3. Graph Convolution (A_hat * H_linear)\n",
    "        H_aggregated = A_hat @ H_linear\n",
    "\n",
    "        # 4. Activation Function\n",
    "        H_activated = nnx.relu(H_aggregated)\n",
    "\n",
    "        return H_activated"
   ],
   "id": "d1b31036f6a5b5d1",
   "outputs": [],
   "execution_count": 77
  },
  {
   "metadata": {
    "ExecuteTime": {
     "end_time": "2025-07-18T18:28:05.525453Z",
     "start_time": "2025-07-18T18:28:05.514836Z"
    }
   },
   "cell_type": "code",
   "source": [
    "class GCN(nnx.Module):\n",
    "    \"\"\"A graph Convolutional Network Model\"\"\"\n",
    "\n",
    "    def __init__(\n",
    "            self,\n",
    "            input_features: int,\n",
    "            output_classes: int,\n",
    "            hidden_features: Sequence[int],\n",
    "            dropout_rate: float,\n",
    "            *, rngs: nnx.Rngs\n",
    "    ):\n",
    "        self.gcn_layers = []\n",
    "        current_features = input_features\n",
    "\n",
    "        # Create the hidden GCN layers\n",
    "        for hidden_dim in hidden_features:\n",
    "            self.gcn_layers.append(\n",
    "                GCNLayer(\n",
    "                    input_features=current_features,\n",
    "                    output_features=hidden_dim,\n",
    "                    dropout_rate=dropout_rate,\n",
    "                    rngs=rngs\n",
    "                )\n",
    "            )\n",
    "            # The input of the next layer is the\n",
    "            #   output to this one\n",
    "            current_features = hidden_dim\n",
    "\n",
    "        # The final layer maps node embeddings to\n",
    "        #   output classes\n",
    "        self.output_layer = nnx.Linear(\n",
    "            in_features=current_features,\n",
    "            out_features=output_classes,\n",
    "            rngs=rngs\n",
    "        )\n",
    "\n",
    "    def __call__(\n",
    "            self,\n",
    "            A_hat: jnp.ndarray,\n",
    "            H: jnp.ndarray,\n",
    "            *, rngs: nnx.Rngs,\n",
    "    ):\n",
    "        \"\"\"Performs the forward pass of the GCN.\"\"\"\n",
    "        # Pass data through all the GCN layers\n",
    "        for layer in self.gcn_layers:\n",
    "            H = layer(A_hat, H, rngs=rngs)\n",
    "\n",
    "        # Apply the final linear layer to\n",
    "        #   get logits\n",
    "        logits = self.output_layer(H)\n",
    "        return logits"
   ],
   "id": "2420c4c7737a68c3",
   "outputs": [],
   "execution_count": 79
  },
  {
   "metadata": {},
   "cell_type": "markdown",
   "source": "# Training the GCN Model",
   "id": "4e4609c8f1b3797c"
  },
  {
   "metadata": {
    "ExecuteTime": {
     "end_time": "2025-07-18T18:14:55.982404Z",
     "start_time": "2025-07-18T18:14:55.979434Z"
    }
   },
   "cell_type": "code",
   "source": [
    "# --- Model & Hyperparameters ---\n",
    "LEARNING_RATE = 0.01\n",
    "EPOCHS = 200\n",
    "HIDDEN_FEATURES = [64, 32]  # Two hidden layers\n",
    "DROPOUT_RATE = 0.5"
   ],
   "id": "23d6deba20b4676a",
   "outputs": [],
   "execution_count": 55
  },
  {
   "metadata": {
    "ExecuteTime": {
     "end_time": "2025-07-18T18:28:51.901836Z",
     "start_time": "2025-07-18T18:28:51.870988Z"
    }
   },
   "cell_type": "code",
   "source": [
    "# --- Initialize Model and Optimizer ---\n",
    "model = GCN(\n",
    "    input_features=features.shape[1],\n",
    "    output_classes=labels.shape[1],\n",
    "    hidden_features=HIDDEN_FEATURES,\n",
    "    dropout_rate=DROPOUT_RATE,\n",
    "    rngs=nnx.Rngs(0),\n",
    ")"
   ],
   "id": "30332d1bddef5b00",
   "outputs": [],
   "execution_count": 83
  },
  {
   "metadata": {
    "ExecuteTime": {
     "end_time": "2025-07-18T18:29:22.202520Z",
     "start_time": "2025-07-18T18:29:21.123130Z"
    }
   },
   "cell_type": "code",
   "source": [
    "graphdef, state = nnx.split(model)\n",
    "nnx.display(graphdef, state)"
   ],
   "id": "94c49478a07809ef",
   "outputs": [
    {
     "data": {
      "text/plain": [
       "<IPython.core.display.HTML object>"
      ],
      "text/html": [
       "<script> (()=>{ if (customElements.get('treescope-container') === undefined) { class TreescopeContainer extends HTMLElement { constructor() { super(); this.attachShadow({mode: \"open\"}); this.defns = {}; this.state = {}; } } customElements.define(\"treescope-container\", TreescopeContainer); } if (customElements.get('treescope-run-here') === undefined) { class RunHere extends HTMLElement { constructor() { super() } connectedCallback() { const run = child => { const fn = new Function(child.textContent); child.textContent = \"\"; fn.call(this); this.remove(); }; const child = this.querySelector(\"script\"); if (child) { run(child); } else { new MutationObserver(()=>{ run(this.querySelector(\"script\")); }).observe(this, {childList: true}); } } } customElements.define(\"treescope-run-here\", RunHere); } })(); </script> <treescope-container class=\"treescope_out_29c8c42dd8334ad2b55dc20dd50d1f54\" style=\"display:block\"></treescope-container> <treescope-run-here><script type=\"application/octet-stream\"> const root = ( Array.from(document.getElementsByClassName( \"treescope_out_29c8c42dd8334ad2b55dc20dd50d1f54\")) .filter((elt) => !elt.dataset.setup) )[0]; root.dataset.setup = 1; const msg = document.createElement(\"span\"); msg.style = \"color: #cccccc; font-family: monospace;\"; msg.textContent = \"(Loading...)\"; root.state.loadingMsg = msg; root.shadowRoot.appendChild(msg); root.state.chain = new Promise((resolve, reject) => { const observer = new IntersectionObserver((entries) => { for (const entry of entries) { if (entry.isIntersecting) { resolve(); observer.disconnect(); return; } } }, {rootMargin: \"1000px\"}); window.setTimeout(() => { observer.observe(root); }, 0); }); root.state.deferring = false; const _insertNode = (node) => { for (let oldScript of node.querySelectorAll(\"script\")) { let newScript = document.createElement(\"script\"); newScript.type = oldScript.type; newScript.textContent = oldScript.textContent; oldScript.parentNode.replaceChild(newScript, oldScript); } if (root.state.loadingMsg) { root.state.loadingMsg.remove(); root.state.loadingMsg = null; } root.shadowRoot.appendChild(node); }; root.defns.insertContent = ((contentNode, compressed) => { if (compressed) { root.state.deferring = true; } if (root.state.deferring) { root.state.chain = (async () => { await root.state.chain; if (compressed) { const encoded = contentNode.textContent; const blob = new Blob([ Uint8Array.from(atob(encoded), (m) => m.codePointAt(0)) ]); const reader = blob.stream().pipeThrough( new DecompressionStream(\"deflate\") ).pipeThrough( new TextDecoderStream(\"utf-8\") ).getReader(); const parts = []; while (true) { const step = await reader.read(); if (step.done) { break; } parts.push(step.value); } const tpl = document.createElement('template'); tpl.innerHTML = parts.join(\"\"); _insertNode(tpl.content); } else { _insertNode(contentNode.content); } })(); } else { _insertNode(contentNode.content); } }); </script></treescope-run-here><div style=\"display:none\"> <script type=\"application/octet-stream\" >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</script> <treescope-run-here><script type=\"application/octet-stream\"> const root = ( Array.from(document.getElementsByClassName( \"treescope_out_29c8c42dd8334ad2b55dc20dd50d1f54\")) .filter((elt) => !elt.dataset['step0']) )[0]; root.dataset['step0'] = 1; root.defns.insertContent( this.parentNode.querySelector('script[type=\"application/octet-stream\"]'), true ); this.parentNode.remove(); </script></treescope-run-here> </div>"
      ]
     },
     "metadata": {},
     "output_type": "display_data"
    },
    {
     "data": {
      "text/plain": [
       "<IPython.core.display.HTML object>"
      ],
      "text/html": [
       "<script> (()=>{ if (customElements.get('treescope-container') === undefined) { class TreescopeContainer extends HTMLElement { constructor() { super(); this.attachShadow({mode: \"open\"}); this.defns = {}; this.state = {}; } } customElements.define(\"treescope-container\", TreescopeContainer); } if (customElements.get('treescope-run-here') === undefined) { class RunHere extends HTMLElement { constructor() { super() } connectedCallback() { const run = child => { const fn = new Function(child.textContent); child.textContent = \"\"; fn.call(this); this.remove(); }; const child = this.querySelector(\"script\"); if (child) { run(child); } else { new MutationObserver(()=>{ run(this.querySelector(\"script\")); }).observe(this, {childList: true}); } } } customElements.define(\"treescope-run-here\", RunHere); } })(); </script> <treescope-container class=\"treescope_out_7ce918f7ab634d409e5d2de0fd95a058\" style=\"display:block\"></treescope-container> <treescope-run-here><script type=\"application/octet-stream\"> const root = ( Array.from(document.getElementsByClassName( \"treescope_out_7ce918f7ab634d409e5d2de0fd95a058\")) .filter((elt) => !elt.dataset.setup) )[0]; root.dataset.setup = 1; const msg = document.createElement(\"span\"); msg.style = \"color: #cccccc; font-family: monospace;\"; msg.textContent = \"(Loading...)\"; root.state.loadingMsg = msg; root.shadowRoot.appendChild(msg); root.state.chain = new Promise((resolve, reject) => { const observer = new IntersectionObserver((entries) => { for (const entry of entries) { if (entry.isIntersecting) { resolve(); observer.disconnect(); return; } } }, {rootMargin: \"1000px\"}); window.setTimeout(() => { observer.observe(root); }, 0); }); root.state.deferring = false; const _insertNode = (node) => { for (let oldScript of node.querySelectorAll(\"script\")) { let newScript = document.createElement(\"script\"); newScript.type = oldScript.type; newScript.textContent = oldScript.textContent; oldScript.parentNode.replaceChild(newScript, oldScript); } if (root.state.loadingMsg) { root.state.loadingMsg.remove(); root.state.loadingMsg = null; } root.shadowRoot.appendChild(node); }; root.defns.insertContent = ((contentNode, compressed) => { if (compressed) { root.state.deferring = true; } if (root.state.deferring) { root.state.chain = (async () => { await root.state.chain; if (compressed) { const encoded = contentNode.textContent; const blob = new Blob([ Uint8Array.from(atob(encoded), (m) => m.codePointAt(0)) ]); const reader = blob.stream().pipeThrough( new DecompressionStream(\"deflate\") ).pipeThrough( new TextDecoderStream(\"utf-8\") ).getReader(); const parts = []; while (true) { const step = await reader.read(); if (step.done) { break; } parts.push(step.value); } const tpl = document.createElement('template'); tpl.innerHTML = parts.join(\"\"); _insertNode(tpl.content); } else { _insertNode(contentNode.content); } })(); } else { _insertNode(contentNode.content); } }); </script></treescope-run-here><div style=\"display:none\"> <script type=\"application/octet-stream\" >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</script> <treescope-run-here><script type=\"application/octet-stream\"> const root = ( Array.from(document.getElementsByClassName( \"treescope_out_7ce918f7ab634d409e5d2de0fd95a058\")) .filter((elt) => !elt.dataset['step0']) )[0]; root.dataset['step0'] = 1; root.defns.insertContent( this.parentNode.querySelector('script[type=\"application/octet-stream\"]'), true ); this.parentNode.remove(); </script></treescope-run-here> </div>"
      ]
     },
     "metadata": {},
     "output_type": "display_data"
    },
    {
     "data": {
      "text/plain": [
       "<IPython.core.display.HTML object>"
      ],
      "text/html": [
       "<div style=\"display:none\"> <script type=\"application/octet-stream\" >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</script> <treescope-run-here><script type=\"application/octet-stream\"> const root = ( Array.from(document.getElementsByClassName( \"treescope_out_7ce918f7ab634d409e5d2de0fd95a058\")) .filter((elt) => !elt.dataset['step1']) )[0]; root.dataset['step1'] = 1; root.defns.insertContent( this.parentNode.querySelector('script[type=\"application/octet-stream\"]'), true ); this.parentNode.remove(); </script></treescope-run-here> </div>"
      ]
     },
     "metadata": {},
     "output_type": "display_data"
    }
   ],
   "execution_count": 86
  },
  {
   "metadata": {},
   "cell_type": "markdown",
   "source": "# Metric",
   "id": "31d28fccdfd1d5ab"
  },
  {
   "metadata": {
    "ExecuteTime": {
     "end_time": "2025-07-18T18:55:27.770955Z",
     "start_time": "2025-07-18T18:55:27.747918Z"
    }
   },
   "cell_type": "code",
   "source": [
    "# --- Loss & Accuracy Functions ---\n",
    "def categorical_loss(logits, labels, mask):\n",
    "    \"\"\"Calculates masked cross-entropy loss.\"\"\"\n",
    "    # Convert one-hot labels to integer labels for this loss function\n",
    "    int_labels = jnp.argmax(labels, axis=1)\n",
    "    loss = optax.softmax_cross_entropy_with_integer_labels(logits, int_labels)\n",
    "    # Return the mean loss only for the nodes in the mask\n",
    "    return jnp.mean(loss[mask])\n",
    "\n",
    "metrics = nnx.MultiMetric(\n",
    "    accuracy=nnx.metrics.Accuracy(),\n",
    "    loss=categorical_loss,\n",
    ")"
   ],
   "id": "9db23a31b2e1b9c5",
   "outputs": [],
   "execution_count": 94
  },
  {
   "metadata": {
    "ExecuteTime": {
     "end_time": "2025-07-18T18:38:09.017212Z",
     "start_time": "2025-07-18T18:38:08.868658Z"
    }
   },
   "cell_type": "code",
   "source": "optimizer = nnx.Optimizer(model, optax.adam(LEARNING_RATE))",
   "id": "7001ef12e9d9bd00",
   "outputs": [],
   "execution_count": 87
  },
  {
   "metadata": {
    "ExecuteTime": {
     "end_time": "2025-07-18T19:16:01.313122Z",
     "start_time": "2025-07-18T19:16:01.282802Z"
    }
   },
   "cell_type": "code",
   "source": [
    "def loss_fn(model: GCN, batch):\n",
    "    logits = model(\n",
    "        batch[\"adj\"],\n",
    "        batch[\"features\"],\n",
    "        rngs=nnx.Rngs(42)\n",
    "    )\n",
    "    loss = categorical_loss(\n",
    "        logits,\n",
    "        batch[\"label\"],\n",
    "        batch[\"mask\"]\n",
    "    )\n",
    "    return loss, logits"
   ],
   "id": "f708e3aa19a4e4c8",
   "outputs": [],
   "execution_count": 104
  },
  {
   "metadata": {
    "ExecuteTime": {
     "end_time": "2025-07-18T19:16:09.222073Z",
     "start_time": "2025-07-18T19:16:09.180083Z"
    }
   },
   "cell_type": "code",
   "source": [
    "@nnx.jit\n",
    "def train_step(\n",
    "        model: GCN,\n",
    "        optimizer,\n",
    "        metrics: nnx.MultiMetric,\n",
    "        batch\n",
    "):\n",
    "    \"\"\"Performs one training step: computes grads, updates model.\"\"\"\n",
    "    grad_fn = nnx.value_and_grad(\n",
    "        loss_fn,\n",
    "        has_aux=True,\n",
    "    )\n",
    "    (loss, logits), grads = grad_fn(model, batch)\n",
    "\n",
    "    metrics.update(\n",
    "        loss=loss,\n",
    "        logits=logits,\n",
    "        labels=batch[\"label\"],\n",
    "    )\n",
    "    optimizer.update(grads)  # In-place updates"
   ],
   "id": "4e311cfbb12a939f",
   "outputs": [],
   "execution_count": 105
  },
  {
   "metadata": {
    "ExecuteTime": {
     "end_time": "2025-07-18T19:02:08.979183Z",
     "start_time": "2025-07-18T19:02:08.929342Z"
    }
   },
   "cell_type": "code",
   "source": [
    "@nnx.jit\n",
    "def eval_step(\n",
    "        model: GCN,\n",
    "        metrics: nnx.MultiMetric,\n",
    "        batch\n",
    "):\n",
    "    loss, logits = loss_fn(model, batch)\n",
    "    metrics.update(\n",
    "        loss=loss,\n",
    "        logits=logits,\n",
    "        labels=batch[\"label\"],\n",
    "    )\n"
   ],
   "id": "e7ac2f722296f0de",
   "outputs": [],
   "execution_count": 99
  },
  {
   "metadata": {
    "ExecuteTime": {
     "end_time": "2025-07-18T19:15:25.495030Z",
     "start_time": "2025-07-18T19:15:25.396667Z"
    }
   },
   "cell_type": "code",
   "source": [
    "# Create batch format for GCN training\n",
    "def create_batch(adj, features, labels, mask):\n",
    "    \"\"\"Creates a batch in the format expected by the training loop.\"\"\"\n",
    "    return {\n",
    "        \"adj\": adj,\n",
    "        \"label\": labels,\n",
    "        \"mask\": mask,\n",
    "        \"adj\": adj,\n",
    "        \"features\": features\n",
    "    }\n",
    "\n",
    "# Create train and test batches\n",
    "train_batch = create_batch(adj_normalized, features, labels, train_mask)\n",
    "test_batch = create_batch(adj_normalized, features, labels, test_mask)\n",
    "\n",
    "# For the training loop, you can also create a simple dataset iterator\n",
    "def create_dataset_iterator(batch, num_repeats=1):\n",
    "    \"\"\"Creates an iterator that yields the same batch repeatedly.\"\"\"\n",
    "    for _ in range(num_repeats):\n",
    "        yield batch\n",
    "\n",
    "# Create dataset iterators\n",
    "train_ds = create_dataset_iterator(train_batch, EPOCHS)\n",
    "test_ds = create_dataset_iterator(test_batch, 1)  # For evaluation\n",
    "\n",
    "print(\"Batch format created successfully!\")\n",
    "print(f\"Train batch keys: {list(train_batch.keys())}\")\n",
    "print(f\"Features shape: {train_batch['features'].shape}\")\n",
    "print(f\"Labels shape: {train_batch['label'].shape}\")\n",
    "print(f\"Adjacency shape: {train_batch['adj'].shape}\")\n",
    "print(f\"Train mask sum: {jnp.sum(train_batch['mask'])}\")"
   ],
   "id": "b6809fffe2b8e678",
   "outputs": [
    {
     "name": "stdout",
     "output_type": "stream",
     "text": [
      "Batch format created successfully!\n",
      "Train batch keys: ['adj', 'label', 'mask', 'features']\n",
      "Features shape: (2708, 1433)\n",
      "Labels shape: (2708, 7)\n",
      "Adjacency shape: (2708, 2708)\n",
      "Train mask sum: 140\n"
     ]
    }
   ],
   "execution_count": 103
  },
  {
   "metadata": {},
   "cell_type": "code",
   "outputs": [],
   "execution_count": null,
   "source": [
    "from IPython.display import clear_output\n",
    "import matplotlib.pyplot as plt\n",
    "\n",
    "metrics_history = {\n",
    "  'train_loss': [],\n",
    "  'train_accuracy': [],\n",
    "  'test_loss': [],\n",
    "  'test_accuracy': [],\n",
    "}\n",
    "\n",
    "for step, batch in enumerate(train_ds.as_numpy_iterator()):\n",
    "  # Run the optimization for one step and make a stateful update to the following:\n",
    "  # - The train state's model parameters\n",
    "  # - The optimizer state\n",
    "  # - The training loss and accuracy batch metrics\n",
    "  train_step(model, optimizer, metrics, batch)\n",
    "\n",
    "  if step > 0 and (step % eval_every == 0 or step == train_steps - 1):  # One training epoch has passed.\n",
    "    # Log the training metrics.\n",
    "    for metric, value in metrics.compute().items():  # Compute the metrics.\n",
    "      metrics_history[f'train_{metric}'].append(value)  # Record the metrics.\n",
    "    metrics.reset()  # Reset the metrics for the test set.\n",
    "\n",
    "    # Compute the metrics on the test set after each training epoch.\n",
    "    for test_batch in test_ds.as_numpy_iterator():\n",
    "      eval_step(model, metrics, test_batch)\n",
    "\n",
    "    # Log the test metrics.\n",
    "    for metric, value in metrics.compute().items():\n",
    "      metrics_history[f'test_{metric}'].append(value)\n",
    "    metrics.reset()  # Reset the metrics for the next training epoch.\n",
    "\n",
    "    clear_output(wait=True)\n",
    "    # Plot loss and accuracy in subplots\n",
    "    fig, (ax1, ax2) = plt.subplots(1, 2, figsize=(15, 5))\n",
    "    ax1.set_title('Loss')\n",
    "    ax2.set_title('Accuracy')\n",
    "    for dataset in ('train', 'test'):\n",
    "      ax1.plot(metrics_history[f'{dataset}_loss'], label=f'{dataset}_loss')\n",
    "      ax2.plot(metrics_history[f'{dataset}_accuracy'], label=f'{dataset}_accuracy')\n",
    "    ax1.legend()\n",
    "    ax2.legend()\n",
    "    plt.show()"
   ],
   "id": "304cc4e61c5b1970"
  }
 ],
 "metadata": {
  "kernelspec": {
   "display_name": "Python 3",
   "language": "python",
   "name": "python3"
  },
  "language_info": {
   "codemirror_mode": {
    "name": "ipython",
    "version": 2
   },
   "file_extension": ".py",
   "mimetype": "text/x-python",
   "name": "python",
   "nbconvert_exporter": "python",
   "pygments_lexer": "ipython2",
   "version": "2.7.6"
  }
 },
 "nbformat": 4,
 "nbformat_minor": 5
}
